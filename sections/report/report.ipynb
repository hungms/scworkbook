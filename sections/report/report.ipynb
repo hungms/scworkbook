{
 "cells": [
  {
   "cell_type": "raw",
   "metadata": {
    "vscode": {
     "languageId": "raw"
    }
   },
   "source": [
    "---\n",
    "title: \"Example Report\"\n",
    "author: \n",
    "    - name: \"Matthew Hung\"\n",
    "date: last-modified\n",
    "date-format: iso\n",
    "format:\n",
    "    html:\n",
    "        theme: flatly\n",
    "        code-fold: show\n",
    "        code-tools: true\n",
    "        code-line-numbers: true\n",
    "        toc: true\n",
    "        toc-expand: 1\n",
    "        number-sections: true\n",
    "        number-offset: 3\n",
    "        smooth-scroll: true\n",
    "---"
   ]
  }
 ],
 "metadata": {
  "language_info": {
   "name": "python"
  }
 },
 "nbformat": 4,
 "nbformat_minor": 2
}
