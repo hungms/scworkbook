{
 "cells": [
  {
   "cell_type": "raw",
   "metadata": {
    "vscode": {
     "languageId": "raw"
    }
   },
   "source": [
    "---\n",
    "title: CellRanger (Multi)\n",
    "author: \n",
    "    - name: \"Matthew Hung\"\n",
    "date: last-modified\n",
    "date-format: iso\n",
    "format:\n",
    "    html:\n",
    "        toc: true\n",
    "        toc-expand: 1\n",
    "        number-sections: true\n",
    "        number-offset: 3\n",
    "---"
   ]
  },
  {
   "cell_type": "markdown",
   "metadata": {},
   "source": [
    "## Motivation {.unnumbered}\n",
    "Introduction to CellRanger"
   ]
  },
  {
   "cell_type": "code",
   "execution_count": 2,
   "metadata": {
    "vscode": {
     "languageId": "r"
    }
   },
   "outputs": [],
   "source": [
    "## setup environment\n",
    "suppressMessages({\n",
    "library(tidyverse)\n",
    "library(knitr)})\n",
    "\n",
    "## function to print contents\n",
    "cat_content <- function(dir, n = -1L){\n",
    "    content <- readLines(dir, n = n, warn = FALSE)\n",
    "    cat(content, sep = \"\\n\")}"
   ]
  },
  {
   "cell_type": "markdown",
   "metadata": {
    "vscode": {
     "languageId": "raw"
    }
   },
   "source": [
    "## Retrieve Raw Sequencing Files"
   ]
  },
  {
   "cell_type": "markdown",
   "metadata": {
    "vscode": {
     "languageId": "r"
    }
   },
   "source": [
    "In this section, we will download the relevant sequencing samples (CV10, CV12) highlighted in [@sec-Introduction] with the respective BioProject ID : \n",
    "[PRJNA1040901]() & [PRJNA1040899](). Since the raw sequencing files are deposited in Sequencing Read Archive (SRA), we can use the SRA Toolkit to directly transfer data from cloud server to local/remote host. "
   ]
  },
  {
   "cell_type": "markdown",
   "metadata": {},
   "source": [
    "### Sequencing Run Identifiers\n",
    "\n",
    "Before we can proceed with the download, SRA Toolkit needs the sequencing run identifiers for each sample, which typically has a prefix starting with \"SRR\". With multi-omic data, one sequencing run identifier will be generated for each sequencing library (GEX, ADT, BCR, TCR etc.). To retrieve the relevant identifiers, we downloaded the [[SraRunTable.txt]](https://www.ncbi.nlm.nih.gov/Traces/study/?acc=PRJNA1040888&o=acc_s%3Aa) file  for this study from NIH SRA Run Selector."
   ]
  },
  {
   "cell_type": "code",
   "execution_count": 11,
   "metadata": {
    "vscode": {
     "languageId": "r"
    }
   },
   "outputs": [
    {
     "name": "stdout",
     "output_type": "stream",
     "text": [
      "\u001b[38;5;33m/camp/home/hungm/scratch/hungm/matthew/MH_GSE247917/\u001b[0m\n",
      "├── \u001b[38;5;33mcellranger\u001b[0m\n",
      "├── \u001b[38;5;33mlogs\u001b[0m\n",
      "└── \u001b[38;5;33mraw_fastq\u001b[0m\n"
     ]
    }
   ],
   "source": [
    "fs::dir_tree(path = \"/camp/home/hungm/scratch/hungm/matthew/MH_GSE247917/\", recurse = 0)"
   ]
  },
  {
   "cell_type": "code",
   "execution_count": 17,
   "metadata": {
    "vscode": {
     "languageId": "r"
    }
   },
   "outputs": [
    {
     "name": "stdout",
     "output_type": "stream",
     "text": [
      "\u001b[38;5;33m/camp/home/hungm/scratch/hungm/matthew/MH_GSE247917/logs/input\u001b[0m\n",
      "├── \u001b[38;5;40mGSE247910_ADT_HTO_details_README.txt\u001b[0m\n",
      "├── \u001b[38;5;40mGSE247912_ADT_HTO_details_README.txt\u001b[0m\n",
      "├── SRR_Acc_List.txt\n",
      "└── \u001b[38;5;40mSraRunTable.txt\u001b[0m\n"
     ]
    }
   ],
   "source": [
    "fs::dir_tree(path = \"/camp/home/hungm/scratch/hungm/matthew/MH_GSE247917/logs/input\")"
   ]
  },
  {
   "cell_type": "markdown",
   "metadata": {
    "vscode": {
     "languageId": "r"
    }
   },
   "source": [
    "As you can see from the SraRunTable.txt file below, sequencing run identifiers and BioProject IDs are stored in the \\<Run\\> and \\<BioProject\\> columns. Next we will get the relevant sequencing run identifiers from the SraRunTable.txt file below and store these as a .txt file."
   ]
  },
  {
   "cell_type": "code",
   "execution_count": 7,
   "metadata": {
    "vscode": {
     "languageId": "r"
    }
   },
   "outputs": [
    {
     "name": "stdout",
     "output_type": "stream",
     "text": [
      "'data.frame':\t96 obs. of  34 variables:\n",
      " $ Run                           : chr  \"SRR26852594\" \"SRR26852595\" \"SRR26852596\" \"SRR26852597\" ...\n",
      " $ Assay.Type                    : chr  \"OTHER\" \"OTHER\" \"OTHER\" \"OTHER\" ...\n",
      " $ AvgSpotLen                    : int  160 160 152 160 160 152 161 161 128 160 ...\n",
      " $ Bases                         : num  3.98e+08 6.37e+08 4.72e+08 3.78e+09 5.25e+08 ...\n",
      " $ BioProject                    : chr  \"PRJNA1040889\" \"PRJNA1040889\" \"PRJNA1040889\" \"PRJNA1040889\" ...\n",
      " $ BioSample                     : chr  \"SAMN38270931\" \"SAMN38270932\" \"SAMN38270933\" \"SAMN38270934\" ...\n",
      " $ Bytes                         : num  1.62e+08 2.57e+08 1.94e+08 1.54e+09 2.13e+08 ...\n",
      " $ cell_type                     : chr  \"PBMCs\" \"PBMCs\" \"PBMCs\" \"PBMCs\" ...\n",
      " $ Center.Name                   : chr  \"KORALOV, PATHOLOGY, NYU LANGONE\" \"KORALOV, PATHOLOGY, NYU LANGONE\" \"KORALOV, PATHOLOGY, NYU LANGONE\" \"KORALOV, PATHOLOGY, NYU LANGONE\" ...\n",
      " $ Collection_Date               : chr  \"missing\" \"missing\" \"missing\" \"missing\" ...\n",
      " $ Consent                       : chr  \"public\" \"public\" \"public\" \"public\" ...\n",
      " $ DATASTORE.filetype            : chr  \"fastq,run.zq,sra\" \"fastq,run.zq,sra\" \"fastq,run.zq,sra\" \"fastq,run.zq,sra\" ...\n",
      " $ DATASTORE.provider            : chr  \"gs,ncbi,s3\" \"gs,ncbi,s3\" \"gs,ncbi,s3\" \"gs,ncbi,s3\" ...\n",
      " $ DATASTORE.region              : chr  \"gs.us-east1,ncbi.public,s3.us-east-1\" \"gs.us-east1,ncbi.public,s3.us-east-1\" \"gs.us-east1,ncbi.public,s3.us-east-1\" \"gs.us-east1,ncbi.public,s3.us-east-1\" ...\n",
      " $ Experiment                    : chr  \"SRX22547979\" \"SRX22547978\" \"SRX22547977\" \"SRX22547976\" ...\n",
      " $ geo_loc_name_country          : chr  \"uncalculated\" \"uncalculated\" \"uncalculated\" \"uncalculated\" ...\n",
      " $ geo_loc_name_country_continent: chr  \"uncalculated\" \"uncalculated\" \"uncalculated\" \"uncalculated\" ...\n",
      " $ geo_loc_name                  : chr  \"missing\" \"missing\" \"missing\" \"missing\" ...\n",
      " $ Instrument                    : chr  \"NextSeq 500\" \"NextSeq 500\" \"NextSeq 500\" \"NextSeq 500\" ...\n",
      " $ Library.Name                  : chr  \"GSM7902898\" \"GSM7902897\" \"GSM7902896\" \"GSM7902895\" ...\n",
      " $ library_type                  : chr  \"TCRgd\" \"TCRab\" \"HTO\" \"GEX\" ...\n",
      " $ LibraryLayout                 : chr  \"PAIRED\" \"PAIRED\" \"PAIRED\" \"PAIRED\" ...\n",
      " $ LibrarySelection              : chr  \"other\" \"other\" \"other\" \"other\" ...\n",
      " $ LibrarySource                 : chr  \"TRANSCRIPTOMIC\" \"TRANSCRIPTOMIC\" \"OTHER\" \"TRANSCRIPTOMIC\" ...\n",
      " $ Organism                      : chr  \"Homo sapiens\" \"Homo sapiens\" \"Homo sapiens\" \"Homo sapiens\" ...\n",
      " $ Platform                      : chr  \"ILLUMINA\" \"ILLUMINA\" \"ILLUMINA\" \"ILLUMINA\" ...\n",
      " $ ReleaseDate                   : chr  \"2023-11-21T00:00:00Z\" \"2023-11-21T00:00:00Z\" \"2023-11-21T00:00:00Z\" \"2023-11-21T00:00:00Z\" ...\n",
      " $ create_date                   : chr  \"2023-11-16T14:45:00Z\" \"2023-11-16T14:46:00Z\" \"2023-11-16T14:45:00Z\" \"2023-11-16T14:58:00Z\" ...\n",
      " $ version                       : int  1 1 1 1 1 1 1 1 1 1 ...\n",
      " $ Sample.Name                   : chr  \"GSM7902898\" \"GSM7902897\" \"GSM7902896\" \"GSM7902895\" ...\n",
      " $ source_name                   : chr  \"PBMCs\" \"PBMCs\" \"PBMCs\" \"PBMCs\" ...\n",
      " $ SRA.Study                     : chr  \"SRP472368\" \"SRP472368\" \"SRP472368\" \"SRP472368\" ...\n",
      " $ tissue                        : chr  \"PBMCs\" \"PBMCs\" \"PBMCs\" \"PBMCs\" ...\n",
      " $ treatment                     : chr  \"COVID-19\" \"COVID-19\" \"COVID-19\" \"COVID-19\" ...\n"
     ]
    }
   ],
   "source": [
    "## see structure of SraRunTable.txt\n",
    "sra <- read.csv(\"/camp/home/hungm/scratch/hungm/matthew/MH_GSE247917/logs/input/SraRunTable.txt\", sep = \",\")\n",
    "str(sra)"
   ]
  },
  {
   "cell_type": "code",
   "execution_count": 8,
   "metadata": {
    "vscode": {
     "languageId": "r"
    }
   },
   "outputs": [
    {
     "data": {
      "text/html": [
       "<table class=\"dataframe\">\n",
       "<caption>A data.frame: 10 × 4</caption>\n",
       "<thead>\n",
       "\t<tr><th scope=col>BioProject</th><th scope=col>Run</th><th scope=col>library_type</th><th scope=col>treatment</th></tr>\n",
       "\t<tr><th scope=col>&lt;chr&gt;</th><th scope=col>&lt;chr&gt;</th><th scope=col>&lt;chr&gt;</th><th scope=col>&lt;chr&gt;</th></tr>\n",
       "</thead>\n",
       "<tbody>\n",
       "\t<tr><td>PRJNA1040901</td><td>SRR26844707</td><td>TCRgd</td><td>COVID-19          </td></tr>\n",
       "\t<tr><td>PRJNA1040901</td><td>SRR26844708</td><td>TCRab</td><td>COVID-19          </td></tr>\n",
       "\t<tr><td>PRJNA1040901</td><td>SRR26844709</td><td>GEX  </td><td>COVID-19          </td></tr>\n",
       "\t<tr><td>PRJNA1040901</td><td>SRR26844710</td><td>BCR  </td><td>COVID-19          </td></tr>\n",
       "\t<tr><td>PRJNA1040901</td><td>SRR26844711</td><td>ADT  </td><td>COVID-19          </td></tr>\n",
       "\t<tr><td>PRJNA1040899</td><td>SRR26844884</td><td>TCRgd</td><td>SARS-CoV-2 vaccine</td></tr>\n",
       "\t<tr><td>PRJNA1040899</td><td>SRR26844885</td><td>TCRab</td><td>SARS-CoV-2 vaccine</td></tr>\n",
       "\t<tr><td>PRJNA1040899</td><td>SRR26844886</td><td>GEX  </td><td>SARS-CoV-2 vaccine</td></tr>\n",
       "\t<tr><td>PRJNA1040899</td><td>SRR26844887</td><td>BCR  </td><td>SARS-CoV-2 vaccine</td></tr>\n",
       "\t<tr><td>PRJNA1040899</td><td>SRR26844888</td><td>ADT  </td><td>SARS-CoV-2 vaccine</td></tr>\n",
       "</tbody>\n",
       "</table>\n"
      ],
      "text/latex": [
       "A data.frame: 10 × 4\n",
       "\\begin{tabular}{llll}\n",
       " BioProject & Run & library\\_type & treatment\\\\\n",
       " <chr> & <chr> & <chr> & <chr>\\\\\n",
       "\\hline\n",
       "\t PRJNA1040901 & SRR26844707 & TCRgd & COVID-19          \\\\\n",
       "\t PRJNA1040901 & SRR26844708 & TCRab & COVID-19          \\\\\n",
       "\t PRJNA1040901 & SRR26844709 & GEX   & COVID-19          \\\\\n",
       "\t PRJNA1040901 & SRR26844710 & BCR   & COVID-19          \\\\\n",
       "\t PRJNA1040901 & SRR26844711 & ADT   & COVID-19          \\\\\n",
       "\t PRJNA1040899 & SRR26844884 & TCRgd & SARS-CoV-2 vaccine\\\\\n",
       "\t PRJNA1040899 & SRR26844885 & TCRab & SARS-CoV-2 vaccine\\\\\n",
       "\t PRJNA1040899 & SRR26844886 & GEX   & SARS-CoV-2 vaccine\\\\\n",
       "\t PRJNA1040899 & SRR26844887 & BCR   & SARS-CoV-2 vaccine\\\\\n",
       "\t PRJNA1040899 & SRR26844888 & ADT   & SARS-CoV-2 vaccine\\\\\n",
       "\\end{tabular}\n"
      ],
      "text/markdown": [
       "\n",
       "A data.frame: 10 × 4\n",
       "\n",
       "| BioProject &lt;chr&gt; | Run &lt;chr&gt; | library_type &lt;chr&gt; | treatment &lt;chr&gt; |\n",
       "|---|---|---|---|\n",
       "| PRJNA1040901 | SRR26844707 | TCRgd | COVID-19           |\n",
       "| PRJNA1040901 | SRR26844708 | TCRab | COVID-19           |\n",
       "| PRJNA1040901 | SRR26844709 | GEX   | COVID-19           |\n",
       "| PRJNA1040901 | SRR26844710 | BCR   | COVID-19           |\n",
       "| PRJNA1040901 | SRR26844711 | ADT   | COVID-19           |\n",
       "| PRJNA1040899 | SRR26844884 | TCRgd | SARS-CoV-2 vaccine |\n",
       "| PRJNA1040899 | SRR26844885 | TCRab | SARS-CoV-2 vaccine |\n",
       "| PRJNA1040899 | SRR26844886 | GEX   | SARS-CoV-2 vaccine |\n",
       "| PRJNA1040899 | SRR26844887 | BCR   | SARS-CoV-2 vaccine |\n",
       "| PRJNA1040899 | SRR26844888 | ADT   | SARS-CoV-2 vaccine |\n",
       "\n"
      ],
      "text/plain": [
       "   BioProject   Run         library_type treatment         \n",
       "1  PRJNA1040901 SRR26844707 TCRgd        COVID-19          \n",
       "2  PRJNA1040901 SRR26844708 TCRab        COVID-19          \n",
       "3  PRJNA1040901 SRR26844709 GEX          COVID-19          \n",
       "4  PRJNA1040901 SRR26844710 BCR          COVID-19          \n",
       "5  PRJNA1040901 SRR26844711 ADT          COVID-19          \n",
       "6  PRJNA1040899 SRR26844884 TCRgd        SARS-CoV-2 vaccine\n",
       "7  PRJNA1040899 SRR26844885 TCRab        SARS-CoV-2 vaccine\n",
       "8  PRJNA1040899 SRR26844886 GEX          SARS-CoV-2 vaccine\n",
       "9  PRJNA1040899 SRR26844887 BCR          SARS-CoV-2 vaccine\n",
       "10 PRJNA1040899 SRR26844888 ADT          SARS-CoV-2 vaccine"
      ]
     },
     "metadata": {},
     "output_type": "display_data"
    }
   ],
   "source": [
    "# select CV10, CV12\n",
    "select <- c(\"PRJNA1040901\", \"PRJNA1040899\")\n",
    "sra <- sra %>% filter(BioProject %in% select) %>% select(BioProject, Run, library_type, treatment)\n",
    "sra"
   ]
  },
  {
   "cell_type": "code",
   "execution_count": 15,
   "metadata": {
    "vscode": {
     "languageId": "r"
    }
   },
   "outputs": [
    {
     "name": "stdout",
     "output_type": "stream",
     "text": [
      "SRR26844707\n",
      "SRR26844708\n",
      "SRR26844709\n",
      "SRR26844710\n",
      "SRR26844711\n",
      "SRR26844884\n",
      "SRR26844885\n",
      "SRR26844886\n",
      "SRR26844887\n",
      "SRR26844888\n"
     ]
    }
   ],
   "source": [
    "## store identifiers per line in a txt file\n",
    "write.table(sra$Run, \"/camp/home/hungm/scratch/hungm/matthew/MH_GSE247917/logs/input/SRR_Acc_List.txt\", col.names = F, row.names = F, quote = F)\n",
    "cat_content(\"/camp/home/hungm/scratch/hungm/matthew/MH_GSE247917/logs/input/SRR_Acc_List.txt\")"
   ]
  },
  {
   "cell_type": "markdown",
   "metadata": {
    "vscode": {
     "languageId": "r"
    }
   },
   "source": [
    "### Download with SRA Toolkit\n",
    "To download each sequencing library with run identifier, we used the fasterq-dump command from SRA Toolkit with parallelization to speed up the process of download. Adding the --split-files argument is essential for majority 10X sequencing, as downstream pipeline requires forward and reverse strand reads to be kept in separate fastq files. Below is a bash script to perform the download."
   ]
  },
  {
   "cell_type": "code",
   "execution_count": 16,
   "metadata": {
    "vscode": {
     "languageId": "r"
    }
   },
   "outputs": [
    {
     "name": "stdout",
     "output_type": "stream",
     "text": [
      "#!/bin/bash\n",
      "#SBATCH --job-name=sratools\n",
      "#SBATCH --ntasks=32\n",
      "#SBATCH --cpus-per-task=1\n",
      "#SBATCH --time=7-00:00:0\n",
      "#SBATCH --mem=200G\n",
      "#SBATCH --partition=ncpu\n",
      "#SBATCH --mail-type=END,FAIL\n",
      "#SBATCH --mail-user=matthew.hung@crick.ac.uk\n",
      "\n",
      "############## edit the following ##################\n",
      "export accession=matthew/MH_GSE247917\n",
      "export PRJ=/camp/home/hungm/scratch/hungm/${accession}\n",
      "#####################################################\n",
      "\n",
      "source /camp/home/hungm/nemo-pipelines/piplog.sh\n",
      "\n",
      "which fasterq-dump\n",
      "mkdir -p ${PRJ}/raw_fastq/\n",
      "cd ${PRJ}/raw_fastq/\n",
      "for i in $(cat ${PRJ}/input/SRR_Acc_List.txt);\n",
      "\tdo ~/.conda/envs/sratools/bin/fasterq-dump $i -e 32 --include-technical --split-files;\n",
      "\tfor j in i ; \n",
      "\t\tdo gzip ${i}*.fastq ; \n",
      "\tdone; \n",
      "done\n"
     ]
    }
   ],
   "source": [
    "## show contents of sra toolkit script\n",
    "cat_content(\"/camp/home/hungm/nemo-pipelines/datarepo/sratools/sratools.sh\")"
   ]
  },
  {
   "cell_type": "code",
   "execution_count": 39,
   "metadata": {
    "vscode": {
     "languageId": "r"
    }
   },
   "outputs": [],
   "source": [
    "## submit bash script to download raw fastq files\n",
    "system(\"cd /camp/home/hungm/nemo-pipelines/datarepo/sratools/; sbatch sratools.sh\")"
   ]
  },
  {
   "cell_type": "markdown",
   "metadata": {
    "vscode": {
     "languageId": "r"
    }
   },
   "source": [
    "The fastq files are now downloaded to the following directory."
   ]
  },
  {
   "cell_type": "code",
   "execution_count": 4,
   "metadata": {
    "vscode": {
     "languageId": "r"
    }
   },
   "outputs": [
    {
     "name": "stdout",
     "output_type": "stream",
     "text": [
      "\u001b[38;5;33m/camp/home/hungm/scratch/hungm/matthew/MH_GSE247917/raw_fastq\u001b[0m\n",
      "├── \u001b[38;5;9mSRR26844707_1.fastq.gz\u001b[0m\n",
      "├── \u001b[38;5;9mSRR26844707_2.fastq.gz\u001b[0m\n",
      "├── \u001b[38;5;9mSRR26844707_3.fastq.gz\u001b[0m\n",
      "├── \u001b[38;5;9mSRR26844708_1.fastq.gz\u001b[0m\n",
      "├── \u001b[38;5;9mSRR26844708_2.fastq.gz\u001b[0m\n",
      "├── \u001b[38;5;9mSRR26844708_3.fastq.gz\u001b[0m\n",
      "├── \u001b[38;5;9mSRR26844709_1.fastq.gz\u001b[0m\n",
      "├── \u001b[38;5;9mSRR26844709_2.fastq.gz\u001b[0m\n",
      "├── \u001b[38;5;9mSRR26844709_3.fastq.gz\u001b[0m\n",
      "├── \u001b[38;5;9mSRR26844710_1.fastq.gz\u001b[0m\n",
      "├── \u001b[38;5;9mSRR26844710_2.fastq.gz\u001b[0m\n",
      "├── \u001b[38;5;9mSRR26844710_3.fastq.gz\u001b[0m\n",
      "├── \u001b[38;5;9mSRR26844711_1.fastq.gz\u001b[0m\n",
      "├── \u001b[38;5;9mSRR26844711_2.fastq.gz\u001b[0m\n",
      "├── \u001b[38;5;9mSRR26844884_1.fastq.gz\u001b[0m\n",
      "├── \u001b[38;5;9mSRR26844884_2.fastq.gz\u001b[0m\n",
      "├── \u001b[38;5;9mSRR26844884_3.fastq.gz\u001b[0m\n",
      "├── \u001b[38;5;9mSRR26844885_1.fastq.gz\u001b[0m\n",
      "├── \u001b[38;5;9mSRR26844885_2.fastq.gz\u001b[0m\n",
      "├── \u001b[38;5;9mSRR26844885_3.fastq.gz\u001b[0m\n",
      "├── \u001b[38;5;9mSRR26844886_1.fastq.gz\u001b[0m\n",
      "├── \u001b[38;5;9mSRR26844886_2.fastq.gz\u001b[0m\n",
      "├── \u001b[38;5;9mSRR26844886_3.fastq.gz\u001b[0m\n",
      "├── \u001b[38;5;9mSRR26844887_1.fastq.gz\u001b[0m\n",
      "├── \u001b[38;5;9mSRR26844887_2.fastq.gz\u001b[0m\n",
      "├── \u001b[38;5;9mSRR26844887_3.fastq.gz\u001b[0m\n",
      "├── \u001b[38;5;9mSRR26844888_1.fastq.gz\u001b[0m\n",
      "└── \u001b[38;5;9mSRR26844888_2.fastq.gz\u001b[0m\n"
     ]
    }
   ],
   "source": [
    "fs::dir_tree(path = \"/camp/home/hungm/scratch/hungm/matthew/MH_GSE247917/raw_fastq\")"
   ]
  },
  {
   "cell_type": "markdown",
   "metadata": {
    "vscode": {
     "languageId": "r"
    }
   },
   "source": [
    "## Multi-Pipeline Configurations\n",
    "We have setup a reference pipeline/system [see [GitHub]()] to run cellranger-multi (V7.0.1). Below are the purpose of each file :\n",
    "  \n",
    "> * batch.sh - a bash script to setup config.csv and multi.sh for each sequencing sample\n",
    "> * batch_id.txt - a txt file containing names of each sequencing sample\n",
    "> * config.csv - configuration file for cellranger-multi [see [cellranger-multi]()]\n",
    "> * fastqformat.sh - rename fastq files for cellranger [see [cellranger fastq names]()]\n",
    "> * features_reference.csv - a reference configuration file for feature barcoding [see [feature barcoding]())]\n",
    "> * library.csv - a reference configuration file for config.csv [library] section\n",
    "> * multi.sh - a bash script to run cellranger-multi command\n",
    "> * tcrgd_primers.txt - default TCR-GD primer (5P v1.1) library [see [TCR-GD primers](https://kb.10xgenomics.com/hc/en-us/articles/360015793931-Can-I-detect-T-cells-with-gamma-delta-chains-in-my-V-D-J-data)]"
   ]
  },
  {
   "cell_type": "code",
   "execution_count": 20,
   "metadata": {
    "vscode": {
     "languageId": "r"
    }
   },
   "outputs": [
    {
     "name": "stdout",
     "output_type": "stream",
     "text": [
      "\u001b[38;5;33m/camp/home/hungm/nemo-pipelines/scrnaseq/cellranger/\u001b[0m\n",
      "├── batch.sh\n",
      "├── batch_id.txt\n",
      "├── \u001b[38;5;40mconfig.csv\u001b[0m\n",
      "├── fastqformat.sh\n",
      "├── \u001b[38;5;40mfeature_reference.csv\u001b[0m\n",
      "├── library.csv\n",
      "├── \u001b[38;5;40mmulti.sh\u001b[0m\n",
      "├── readme.txt\n",
      "└── tcrgd_primers.txt\n"
     ]
    }
   ],
   "source": [
    "fs::dir_tree(path = \"/camp/home/hungm/nemo-pipelines/scrnaseq/cellranger/\")"
   ]
  },
  {
   "cell_type": "markdown",
   "metadata": {
    "vscode": {
     "languageId": "r"
    }
   },
   "source": [
    "Outline below are the steps to run cellranger-multi for multiple sequencing samples with the system :  \n",
    "\n",
    "> 1. Rename fastq files to appropriate names with \"fastqformat.sh\"\n",
    "> 2. Specify sequencing sample names in \"batch_id.txt\" file\n",
    "> 3. Set up \"config.csv\" and specify paths for reference genomes\n",
    "> 4. Set correct oligo tag/sequence for \"feature_reference.csv\" if necesary\n",
    "> 5. Set correct library paths for \"library.csv\" if necesary\n",
    "> 6. Modify script and run \"source batch.sh\" to setup scripts per sample\n",
    "> 7. Final check and run \"sbatch */multi.sh\" to submit jobs"
   ]
  },
  {
   "cell_type": "markdown",
   "metadata": {
    "vscode": {
     "languageId": "r"
    }
   },
   "source": [
    "### <font color='grey'>Step1 -</font> fastqformat.sh {.unnumbered}\n",
    "For cellranger to read the fastq files properly, the names of the fastq files need modification. To do so the fastqformat.sh script does the renaming automatically for 10X fastqs downloaded from SRA."
   ]
  },
  {
   "cell_type": "code",
   "execution_count": 21,
   "metadata": {
    "vscode": {
     "languageId": "r"
    }
   },
   "outputs": [
    {
     "name": "stdout",
     "output_type": "stream",
     "text": [
      "for file in *_1.fastq.gz; do\n",
      "  newname=$(echo \"$file\" | sed 's/_1.fastq.gz/_S1_R1_001.fastq.gz/')\n",
      "  mv \"$file\" \"$newname\"\n",
      "done\n",
      "\n",
      "for file in *_2.fastq.gz; do\n",
      "  newname=$(echo \"$file\" | sed 's/_2.fastq.gz/_S1_R2_001.fastq.gz/')\n",
      "  mv \"$file\" \"$newname\"\n",
      "done\n",
      "\n",
      "for file in *_3.fastq.gz; do\n",
      "  newname=$(echo \"$file\" | sed 's/_3.fastq.gz/_S1_I1_001.fastq.gz/')\n",
      "  mv \"$file\" \"$newname\"\n",
      "done\n",
      "\n",
      "for file in *_4.fastq.gz; do\n",
      "  newname=$(echo \"$file\" | sed 's/_4.fastq.gz/_S1_I2_001.fastq.gz/')\n",
      "  mv \"$file\" \"$newname\"\n",
      "done\n"
     ]
    }
   ],
   "source": [
    "## show fastqformat.sh\n",
    "cat_content('/camp/home/hungm/nemo-pipelines/scrnaseq/cellranger/fastqformat.sh')"
   ]
  },
  {
   "cell_type": "code",
   "execution_count": 22,
   "metadata": {
    "vscode": {
     "languageId": "r"
    }
   },
   "outputs": [],
   "source": [
    "## separate ADT libraries\n",
    "system(\"\n",
    "    cd /camp/home/hungm/scratch/hungm/matthew/MH_GSE247917/raw_fastq/ \\n \n",
    "    mkdir ADT \\n \n",
    "    mv SRR26844888* ADT \\n\n",
    "    mv SRR26844711* ADT \\n\")"
   ]
  },
  {
   "cell_type": "code",
   "execution_count": 24,
   "metadata": {
    "vscode": {
     "languageId": "r"
    }
   },
   "outputs": [],
   "source": [
    "## View ADT fastq R1\n",
    "system(\"\n",
    "zcat /camp/home/hungm/scratch/hungm/matthew/MH_GSE247917/raw_fastq/ADT/SRR26844711_1.fastq.gz | head -n 3;\n",
    "zcat /camp/home/hungm/scratch/hungm/matthew/MH_GSE247917/raw_fastq/ADT/SRR26844711_2.fastq.gz | head -n 3\")"
   ]
  },
  {
   "cell_type": "markdown",
   "metadata": {
    "vscode": {
     "languageId": "raw"
    }
   },
   "source": [
    "@SRR26844711.1 A01581:168:HCWFHDRX2:1:2101:1108:1000 length=28  \n",
    "GNCCTCAAGCTTTGGTTCGTTAGCGTCT  \n",
    "+SRR26844711.1 A01581:168:HCWFHDRX2:1:2101:1108:1000 length=28  \n",
    "F#FFFFFFFFF:FFFFFFFFFFFFFF,,  \n",
    "@SRR26844711.2 A01581:168:HCWFHDRX2:1:2101:1127:1000 length=28  \n",
    "\n",
    "@SRR26844711.1 A01581:168:HCWFHDRX2:1:2101:1108:1000 length=90  \n",
    "NAGCTCCGTCCTCCGAATCATGTTGGTAAACACGCCCATATAAGAAAACGCTAACGAACCAAAGCTTGAGGACAGATCGGAAGAGAGTCG  \n",
    "+SRR26844711.1 A01581:168:HCWFHDRX2:1:2101:1108:1000 length=90  \n",
    "#FFFFFFFFFFFFFFFFFFFFFFFFFFFFFFFFF:,:FFFFFFFFFFFFFFFFFFFFFFFFF:FFFFFFFFFFFFFFF,FFFFFFFFFF,  \n",
    "@SRR26844711.2 A01581:168:HCWFHDRX2:1:2101:1127:1000 length=90  "
   ]
  },
  {
   "cell_type": "code",
   "execution_count": 24,
   "metadata": {
    "vscode": {
     "languageId": "r"
    }
   },
   "outputs": [],
   "source": [
    "## execute script\n",
    "system(\"\n",
    "    cd /camp/home/hungm/scratch/hungm/matthew/MH_GSE247917/raw_fastq/ADT \\n \n",
    "    source /camp/home/hungm/nemo-pipelines/scrnaseq/cellranger/fastqformat.sh \\n \n",
    "    mv * .. \\n\n",
    "    cd /camp/home/hungm/scratch/hungm/matthew/MH_GSE247917/raw_fastq/ \\n \n",
    "    rm -r ADT\n",
    "    \")"
   ]
  },
  {
   "cell_type": "code",
   "execution_count": null,
   "metadata": {
    "vscode": {
     "languageId": "r"
    }
   },
   "outputs": [],
   "source": [
    "zcat /camp/home/hungm/scratch/hungm/matthew/MH_GSE247917/raw_fastq/SRR26844709_1.fastq.gz | head -n 5\n",
    "zcat /camp/home/hungm/scratch/hungm/matthew/MH_GSE247917/raw_fastq/SRR268447_2.fastq.gz | head -n 5\n",
    "zcat /camp/home/hungm/scratch/hungm/matthew/MH_GSE247917/raw_fastq/SRR26844710_3.fastq.gz | head -n 5"
   ]
  },
  {
   "cell_type": "markdown",
   "metadata": {
    "vscode": {
     "languageId": "r"
    }
   },
   "source": [
    "@SRR26844710.1 A01581:167:HCG2TDMXY:1:1101:1262:1016 length=10  \n",
    "NCAGTAACTA  \n",
    "+SRR26844710.1 A01581:167:HCG2TDMXY:1:1101:1262:1016 length=10  \n",
    "#F:FFFFFFF  \n",
    "@SRR26844710.2 A01581:167:HCG2TDMXY:1:1101:1606:1016 length=10  \n",
    "  \n",
    "@SRR26844710.1 A01581:167:HCG2TDMXY:1:1101:1262:1016 length=28  \n",
    "ANGGCCATCGTTACAGAGCCTCAATCTT  \n",
    "+SRR26844710.1 A01581:167:HCG2TDMXY:1:1101:1262:1016 length=28  \n",
    "F#FFFFFFFFFFFFFFFFFFFFFFFFFF  \n",
    "@SRR26844710.2 A01581:167:HCG2TDMXY:1:1101:1606:1016 length=28  \n",
    "  \n",
    "@SRR26844710.1 A01581:167:HCG2TDMXY:1:1101:1262:1016 length=90  \n",
    "NTTTGAACACTCTAATTTTTTCAAAGTAAACGCTTCGGGCCCCGCGGGACACTCAGCTAAGAGCATCGAGGGGGCGCCGAGAGGCAAGGG  \n",
    "+SRR26844710.1 A01581:167:HCG2TDMXY:1:1101:1262:1016 length=90  \n",
    "#FFFFFFFFFFFFFFFFFFFFFFFFFFFFFFFFFFFFFFFFFFFFFFFFFFFFFFFFF:FF:FFFFFFFFFFFFFFFFFFFFFFFFFFFF  \n",
    "@SRR26844710.2 A01581:167:HCG2TDMXY:1:1101:1606:1016 length=90  "
   ]
  },
  {
   "cell_type": "code",
   "execution_count": null,
   "metadata": {
    "vscode": {
     "languageId": "r"
    }
   },
   "outputs": [],
   "source": [
    "## modify format fastq for GEX/VDJ\n",
    "for file in *_2.fastq.gz; do\n",
    "  newname=$(echo \"$file\" | sed 's/_2.fastq.gz/_S1_R1_001.fastq.gz/')\n",
    "  mv \"$file\" \"$newname\"\n",
    "done\n",
    "\n",
    "for file in *_3.fastq.gz; do\n",
    "  newname=$(echo \"$file\" | sed 's/_3.fastq.gz/_S1_R2_001.fastq.gz/')\n",
    "  mv \"$file\" \"$newname\"\n",
    "done\n",
    "\n",
    "for file in *_1.fastq.gz; do\n",
    "  newname=$(echo \"$file\" | sed 's/_1.fastq.gz/_S1_I1_001.fastq.gz/')\n",
    "  mv \"$file\" \"$newname\"\n",
    "done"
   ]
  },
  {
   "cell_type": "code",
   "execution_count": 7,
   "metadata": {
    "vscode": {
     "languageId": "r"
    }
   },
   "outputs": [],
   "source": [
    "## execute script\n",
    "system(\"cd /camp/home/hungm/scratch/hungm/matthew/MH_GSE247917/raw_fastq/ \\n source /camp/home/hungm/nemo-pipelines/scrnaseq/cellranger/fastqformat.sh\")"
   ]
  },
  {
   "cell_type": "code",
   "execution_count": 25,
   "metadata": {
    "vscode": {
     "languageId": "r"
    }
   },
   "outputs": [
    {
     "name": "stdout",
     "output_type": "stream",
     "text": [
      "\u001b[38;5;33m/camp/home/hungm/scratch/hungm/matthew/MH_GSE247917/raw_fastq\u001b[0m\n",
      "├── \u001b[38;5;9mSRR26844707_S1_I1_001.fastq.gz\u001b[0m\n",
      "├── \u001b[38;5;9mSRR26844707_S1_R1_001.fastq.gz\u001b[0m\n",
      "├── \u001b[38;5;9mSRR26844707_S1_R2_001.fastq.gz\u001b[0m\n",
      "├── \u001b[38;5;9mSRR26844708_S1_I1_001.fastq.gz\u001b[0m\n",
      "├── \u001b[38;5;9mSRR26844708_S1_R1_001.fastq.gz\u001b[0m\n",
      "├── \u001b[38;5;9mSRR26844708_S1_R2_001.fastq.gz\u001b[0m\n",
      "├── \u001b[38;5;9mSRR26844709_S1_I1_001.fastq.gz\u001b[0m\n",
      "├── \u001b[38;5;9mSRR26844709_S1_R1_001.fastq.gz\u001b[0m\n",
      "├── \u001b[38;5;9mSRR26844709_S1_R2_001.fastq.gz\u001b[0m\n",
      "├── \u001b[38;5;9mSRR26844710_S1_I1_001.fastq.gz\u001b[0m\n",
      "├── \u001b[38;5;9mSRR26844710_S1_R1_001.fastq.gz\u001b[0m\n",
      "├── \u001b[38;5;9mSRR26844710_S1_R2_001.fastq.gz\u001b[0m\n",
      "├── \u001b[38;5;9mSRR26844711_S1_R1_001.fastq.gz\u001b[0m\n",
      "├── \u001b[38;5;9mSRR26844711_S1_R2_001.fastq.gz\u001b[0m\n",
      "├── \u001b[38;5;9mSRR26844884_S1_I1_001.fastq.gz\u001b[0m\n",
      "├── \u001b[38;5;9mSRR26844884_S1_R1_001.fastq.gz\u001b[0m\n",
      "├── \u001b[38;5;9mSRR26844884_S1_R2_001.fastq.gz\u001b[0m\n",
      "├── \u001b[38;5;9mSRR26844885_S1_I1_001.fastq.gz\u001b[0m\n",
      "├── \u001b[38;5;9mSRR26844885_S1_R1_001.fastq.gz\u001b[0m\n",
      "├── \u001b[38;5;9mSRR26844885_S1_R2_001.fastq.gz\u001b[0m\n",
      "├── \u001b[38;5;9mSRR26844886_S1_I1_001.fastq.gz\u001b[0m\n",
      "├── \u001b[38;5;9mSRR26844886_S1_R1_001.fastq.gz\u001b[0m\n",
      "├── \u001b[38;5;9mSRR26844886_S1_R2_001.fastq.gz\u001b[0m\n",
      "├── \u001b[38;5;9mSRR26844887_S1_I1_001.fastq.gz\u001b[0m\n",
      "├── \u001b[38;5;9mSRR26844887_S1_R1_001.fastq.gz\u001b[0m\n",
      "├── \u001b[38;5;9mSRR26844887_S1_R2_001.fastq.gz\u001b[0m\n",
      "├── \u001b[38;5;9mSRR26844888_S1_R1_001.fastq.gz\u001b[0m\n",
      "└── \u001b[38;5;9mSRR26844888_S1_R2_001.fastq.gz\u001b[0m\n"
     ]
    }
   ],
   "source": [
    "fs::dir_tree(path = \"/camp/home/hungm/scratch/hungm/matthew/MH_GSE247917/raw_fastq\")"
   ]
  },
  {
   "cell_type": "markdown",
   "metadata": {
    "vscode": {
     "languageId": "r"
    }
   },
   "source": [
    "### <font color='grey'>Step2 -</font> batch_id.txt {.unnumbered}\n",
    "Specify sequencing sample names (CV10, CV12) in \"batch_id.txt\" file."
   ]
  },
  {
   "cell_type": "code",
   "execution_count": 14,
   "metadata": {
    "vscode": {
     "languageId": "r"
    }
   },
   "outputs": [
    {
     "name": "stdout",
     "output_type": "stream",
     "text": [
      "CV10\n",
      "CV12\n"
     ]
    }
   ],
   "source": [
    "## show batch_id.txt\n",
    "write.table(c(\"CV10\", \"CV12\"), \"/camp/home/hungm/nemo-pipelines/scrnaseq/cellranger/batch_id.txt\", col.names = F, row.names = F, quote = F)\n",
    "cat_content(\"/camp/home/hungm/nemo-pipelines/scrnaseq/cellranger/batch_id.txt\")"
   ]
  },
  {
   "cell_type": "markdown",
   "metadata": {},
   "source": [
    "### <font color='grey'>Step3 -</font> configure.csv {.unnumbered}\n",
    "Set paths for human reference genomes for GEX and VDJ libraries for \"config.csv\" file. This \"config.csv\" template file was retrieved from [CellRanger config.csv]() and has been modified to run our pipeline. The reference genome files are required for the cellranger-multi pipeline and can be pre-installed following the steps in the [build 10X reference]() link.\n",
    "\n",
    ":::{.callout-warning}\n",
    "Please do not change the number of lines in the script as this is critical for Step 5 to run properly.\n",
    ":::"
   ]
  },
  {
   "cell_type": "code",
   "execution_count": 3,
   "metadata": {
    "vscode": {
     "languageId": "r"
    }
   },
   "outputs": [
    {
     "name": "stdout",
     "output_type": "stream",
     "text": [
      "# This template shows the possible cellranger multi config CSV options for analyzing Single Cell Gene Expression with Feature Barcode Technology (Antibody Capture, CRISPR Guide Capture, Cell Multiplexing, Antigen Capture), Fixed RNA Profiling, or Single Cell Immune Profiling data. \n",
      "# These options cannot be used all together - see section descriptions for detail.\n",
      "# Use 'cellranger multi-template --parameters' to see descriptions of all parameters.\n",
      "\n",
      "[gene-expression]\n",
      "reference,/camp/svc/reference/Genomics/10x/10x_transcriptomes/refdata-gex-GRCh38-2020-A\n",
      "create-bam,true\n",
      "# probe-set,/path/to/probe/set, # Required, Fixed RNA Profiling only. \n",
      "# filter-probes,<true|false>, # Optional, Fixed RNA Profiling only. \n",
      "# r1-length,<int>\n",
      "# r2-length,<int>\n",
      "chemistry,SC5P-R2\n",
      "# expect-cells,<auto>\n",
      "# force-cells,<auto>\n",
      "# no-secondary,<true|false>\n",
      "# no-bam,<true|false>\n",
      "# check-library-compatibility,<true|false>\n",
      "# target-panel,/path/to/target/panel, # Required, Targeted GEX only.\n",
      "# no-target-umi-filter,<true|false>, # Optional, Targeted GEX only.\n",
      "# include-introns,<true|false>\n",
      "# min-assignment-confidence,<0.9>, # Optional, Cell Multiplexing only.\n",
      "# cmo-set,/path/to/CMO/reference, # Optional, Cell Multiplexing only.\n",
      "# barcode-sample-assignment,/path/to/barcode-sample-assignment/csv, # Optional, Cell Multiplexing only.\n",
      "\n",
      "[feature] # For Feature Barcode libraries only\n",
      "reference,/camp/home/hungm/scratch/hungm/anqi/AX_SC24151/logs/input/SC24151_features.csv\n",
      "# r1-length,<int>\n",
      "# r2-length,<int>\n",
      "\n",
      "[vdj] # For TCR and BCR libraries only\n",
      "reference,/camp/svc/reference/Genomics/10x/10x_transcriptomes/refdata-cellranger-vdj-GRCh38-alts-ensembl-7.1.0\n",
      "inner-enrichment-primers,/camp/home/hungm/nemo-pipelines/scrnaseq/cellranger/tcrgd_primers.txt\n",
      "# inner-enrichment-primers,/path/to/primers\n",
      "# r1-length,<int>\n",
      "# r2-length,<int>\n",
      "\n",
      "[libraries]\n",
      "fastq_id,fastqs,lanes,feature_types\n",
      "\n",
      "\n",
      "# Antibody1,/path/to/fastqs,Antibody Capture\n",
      "# CRISPR1,path/to/CRISPR_fastqs,CRISPR Guide Capture\n",
      "# CMO1,/path/to/fastqs,Multiplexing Capture, # Cell Multiplexing only\n",
      "# VDJ_T1,path/to/vdj_T_fastqs,VDJ-T, # 5' Immune Profiling only\n",
      "# VDJ_T_GD1,path/to/vdj_T_GD_fastqs,VDJ-T-GD, # 5' Immune Profiling only for gamma-delta TCR\n",
      "# Antigen1,path/to/antigen_capture_fastqs,Antigen Capture #5' Antigen Capture only\n",
      "\n",
      "#[antigen-specificity] # for 5' BCR/TCR Antigen Capture only\n",
      "#control_id,mhc_allele\n",
      "#Antigen1,AG001\n",
      "#Antigen2,AG002\n",
      "\n",
      "#[samples] # for Cell Multiplexing libraries only\n",
      "#sample_id,cmo_ids\n",
      "#sample1,CMO301\n",
      "#sample2,CMO303\n",
      "\n",
      "#[samples] # for Fixed RNA Profiling multiplexed libraries only\n",
      "#sample_id,probe_barcode_ids,description\n",
      "#sample1,BC001,Control\n",
      "#sample2,BC003,Treated\n",
      "\n",
      "#reference,/camp/svc/reference/Genomics/10x/10x_transcriptomes/refdata-gex-mm10-2020-A\n",
      "#reference,/camp/svc/reference/Genomics/10x/10x_transcriptomes/refdata-cellranger-vdj-GRCm38-alts-ensembl-7.0.0\n",
      "#reference,/camp/svc/reference/Genomics/10x/10x_transcriptomes/refdata-gex-GRCh38-2020-A\n",
      "#reference,/camp/svc/reference/Genomics/10x/10x_transcriptomes/refdata-cellranger-vdj-GRCh38-alts-ensembl-7.1.0\n"
     ]
    }
   ],
   "source": [
    "cat_content(\"/camp/home/hungm/nemo-pipelines/scrnaseq/cellranger/config.csv\")"
   ]
  },
  {
   "cell_type": "markdown",
   "metadata": {},
   "source": [
    "We will leave the references in [feature barcode] and [libraries] as empty in the \"config.csv\", as we will define these paths with \"library.csv\" and \"feature_reference.csv\" below."
   ]
  },
  {
   "cell_type": "markdown",
   "metadata": {
    "vscode": {
     "languageId": "r"
    }
   },
   "source": [
    "### <font color='grey'>Step4 -</font> feature_reference.csv {.unnumbered}\n",
    "Next we will set the correct oligo tag/sequence for \"feature_reference.csv\" for cellranger-multi to process and quantify the oligo reads properly. Below is an example of feature_reference.csv."
   ]
  },
  {
   "cell_type": "code",
   "execution_count": 4,
   "metadata": {
    "vscode": {
     "languageId": "r"
    }
   },
   "outputs": [
    {
     "name": "stdout",
     "output_type": "stream",
     "text": [
      "id,name,read,pattern,sequence,feature_type\n",
      "C0301,C0301,R2,5PNNNNNNNNNN(BC),ACCCACCAGTAAGAC,Antibody Capture\n",
      "C0302,C0302,R2,5PNNNNNNNNNN(BC),GGTCGAGAGCATTCA,Antibody Capture\n",
      "C0303,C0303,R2,5PNNNNNNNNNN(BC),CTTGCCGCATGTCAT,Antibody Capture\n",
      "C0304,C0304,R2,5PNNNNNNNNNN(BC),AAAGCATTCTTCACG,Antibody Capture\n",
      "C0305,C0305,R2,5PNNNNNNNNNN(BC),CTTTGTCTTTGTGAG,Antibody Capture\n",
      "C0306,C0306,R2,5PNNNNNNNNNN(BC),TATGCTGCCACGGTA,Antibody Capture\n",
      "C0307,C0307,R2,5PNNNNNNNNNN(BC),GAGTCTGCCAGTATC,Antibody Capture\n",
      "C0308,C0308,R2,5PNNNNNNNNNN(BC),TATAGAACGCCAGGC,Antibody Capture\n",
      "C0309,C0309,R2,5PNNNNNNNNNN(BC),TGCCTATGAAACAAG,Antibody Capture\n",
      "C0310,C0310,R2,5PNNNNNNNNNN(BC),CCGATTGTAACAGAC,Antibody Capture\n",
      "C0311,C0311,R2,5PNNNNNNNNNN(BC),GCTTACCGAATTAAC,Antibody Capture\n",
      "C0312,C0312,R2,5PNNNNNNNNNN(BC),CTGCAAATATAACGG,Antibody Capture\n"
     ]
    }
   ],
   "source": [
    "## show example feature_reference.csv\n",
    "cat_content(\"/camp/home/hungm/nemo-pipelines/scrnaseq/cellranger/feature_reference.csv\")"
   ]
  },
  {
   "cell_type": "markdown",
   "metadata": {
    "vscode": {
     "languageId": "r"
    }
   },
   "source": [
    "Since CITEseq & cell hashing library was prepared for the sequencing samples, information of the antibody used and their oligo sequence was retrieved from the SRA accession of this study. We will make one feature_reference.csv file for each sequencing sample to avoid mixing up, as the same hashtag oligo was used for different donors in different sequencing runs."
   ]
  },
  {
   "cell_type": "code",
   "execution_count": 44,
   "metadata": {
    "vscode": {
     "languageId": "r"
    }
   },
   "outputs": [
    {
     "name": "stdout",
     "output_type": "stream",
     "text": [
      "\u001b[38;5;33m/camp/home/hungm/scratch/hungm/matthew/MH_GSE247917/input\u001b[0m\n",
      "├── \u001b[38;5;40mGSE247910_ADT_HTO_details_README.txt\u001b[0m\n",
      "├── \u001b[38;5;40mGSE247912_ADT_HTO_details_README.txt\u001b[0m\n",
      "├── SRR_Acc_List.txt\n",
      "└── \u001b[38;5;40mSraRunTable.txt\u001b[0m\n"
     ]
    }
   ],
   "source": [
    "fs::dir_tree(path = \"/camp/home/hungm/scratch/hungm/matthew/MH_GSE247917/logs/input\")"
   ]
  },
  {
   "cell_type": "code",
   "execution_count": 5,
   "metadata": {
    "vscode": {
     "languageId": "r"
    }
   },
   "outputs": [
    {
     "data": {
      "text/html": [
       "<table class=\"dataframe\">\n",
       "<caption>A data.frame: 6 × 6</caption>\n",
       "<thead>\n",
       "\t<tr><th></th><th scope=col>ADT</th><th scope=col>barcode.sequence</th><th scope=col>X</th><th scope=col>HTO</th><th scope=col>barcode.sequence.1</th><th scope=col>hashtagged.sample</th></tr>\n",
       "\t<tr><th></th><th scope=col>&lt;chr&gt;</th><th scope=col>&lt;chr&gt;</th><th scope=col>&lt;lgl&gt;</th><th scope=col>&lt;chr&gt;</th><th scope=col>&lt;chr&gt;</th><th scope=col>&lt;chr&gt;</th></tr>\n",
       "</thead>\n",
       "<tbody>\n",
       "\t<tr><th scope=row>1</th><td>TotalSeq?-C0145 anti-human CD103 </td><td>GACCTCATTGTGAAT</td><td>NA</td><td>anti-human Hashtag 1</td><td>GTCAACTCTTTAGCG</td><td>CV-001 d0 booster  </td></tr>\n",
       "\t<tr><th scope=row>2</th><td>TotalSeq?-C0155 anti-human CD107a</td><td>CAGCCCACTGCAATA</td><td>NA</td><td>anti-human Hashtag 2</td><td>TGATGGCCTATTGGG</td><td>CV-001 d7 booster  </td></tr>\n",
       "\t<tr><th scope=row>3</th><td>TotalSeq?-C0061 anti-human CD117 </td><td>AGACTAATAGCTGAC</td><td>NA</td><td>anti-human Hashtag 3</td><td>TTCCGCCTCTCTTTG</td><td>CV-001 d28 booster </td></tr>\n",
       "\t<tr><th scope=row>4</th><td>TotalSeq?-C0161 anti-human CD11b </td><td>GACAAGTGATCTGCA</td><td>NA</td><td>anti-human Hashtag 4</td><td>AGTAAGTTCAGCGTA</td><td>CV-011 d120 booster</td></tr>\n",
       "\t<tr><th scope=row>5</th><td>TotalSeq?-C0053 anti-human CD11c </td><td>TACGCCTATAACTTG</td><td>NA</td><td>                    </td><td>               </td><td>                   </td></tr>\n",
       "\t<tr><th scope=row>6</th><td>TotalSeq?-C0064 anti-human CD123 </td><td>CTTCACTCTGTCAGG</td><td>NA</td><td>                    </td><td>               </td><td>                   </td></tr>\n",
       "</tbody>\n",
       "</table>\n"
      ],
      "text/latex": [
       "A data.frame: 6 × 6\n",
       "\\begin{tabular}{r|llllll}\n",
       "  & ADT & barcode.sequence & X & HTO & barcode.sequence.1 & hashtagged.sample\\\\\n",
       "  & <chr> & <chr> & <lgl> & <chr> & <chr> & <chr>\\\\\n",
       "\\hline\n",
       "\t1 & TotalSeq?-C0145 anti-human CD103  & GACCTCATTGTGAAT & NA & anti-human Hashtag 1 & GTCAACTCTTTAGCG & CV-001 d0 booster  \\\\\n",
       "\t2 & TotalSeq?-C0155 anti-human CD107a & CAGCCCACTGCAATA & NA & anti-human Hashtag 2 & TGATGGCCTATTGGG & CV-001 d7 booster  \\\\\n",
       "\t3 & TotalSeq?-C0061 anti-human CD117  & AGACTAATAGCTGAC & NA & anti-human Hashtag 3 & TTCCGCCTCTCTTTG & CV-001 d28 booster \\\\\n",
       "\t4 & TotalSeq?-C0161 anti-human CD11b  & GACAAGTGATCTGCA & NA & anti-human Hashtag 4 & AGTAAGTTCAGCGTA & CV-011 d120 booster\\\\\n",
       "\t5 & TotalSeq?-C0053 anti-human CD11c  & TACGCCTATAACTTG & NA &                      &                 &                    \\\\\n",
       "\t6 & TotalSeq?-C0064 anti-human CD123  & CTTCACTCTGTCAGG & NA &                      &                 &                    \\\\\n",
       "\\end{tabular}\n"
      ],
      "text/markdown": [
       "\n",
       "A data.frame: 6 × 6\n",
       "\n",
       "| <!--/--> | ADT &lt;chr&gt; | barcode.sequence &lt;chr&gt; | X &lt;lgl&gt; | HTO &lt;chr&gt; | barcode.sequence.1 &lt;chr&gt; | hashtagged.sample &lt;chr&gt; |\n",
       "|---|---|---|---|---|---|---|\n",
       "| 1 | TotalSeq?-C0145 anti-human CD103  | GACCTCATTGTGAAT | NA | anti-human Hashtag 1 | GTCAACTCTTTAGCG | CV-001 d0 booster   |\n",
       "| 2 | TotalSeq?-C0155 anti-human CD107a | CAGCCCACTGCAATA | NA | anti-human Hashtag 2 | TGATGGCCTATTGGG | CV-001 d7 booster   |\n",
       "| 3 | TotalSeq?-C0061 anti-human CD117  | AGACTAATAGCTGAC | NA | anti-human Hashtag 3 | TTCCGCCTCTCTTTG | CV-001 d28 booster  |\n",
       "| 4 | TotalSeq?-C0161 anti-human CD11b  | GACAAGTGATCTGCA | NA | anti-human Hashtag 4 | AGTAAGTTCAGCGTA | CV-011 d120 booster |\n",
       "| 5 | TotalSeq?-C0053 anti-human CD11c  | TACGCCTATAACTTG | NA | <!----> | <!----> | <!----> |\n",
       "| 6 | TotalSeq?-C0064 anti-human CD123  | CTTCACTCTGTCAGG | NA | <!----> | <!----> | <!----> |\n",
       "\n"
      ],
      "text/plain": [
       "  ADT                               barcode.sequence X  HTO                 \n",
       "1 TotalSeq?-C0145 anti-human CD103  GACCTCATTGTGAAT  NA anti-human Hashtag 1\n",
       "2 TotalSeq?-C0155 anti-human CD107a CAGCCCACTGCAATA  NA anti-human Hashtag 2\n",
       "3 TotalSeq?-C0061 anti-human CD117  AGACTAATAGCTGAC  NA anti-human Hashtag 3\n",
       "4 TotalSeq?-C0161 anti-human CD11b  GACAAGTGATCTGCA  NA anti-human Hashtag 4\n",
       "5 TotalSeq?-C0053 anti-human CD11c  TACGCCTATAACTTG  NA                     \n",
       "6 TotalSeq?-C0064 anti-human CD123  CTTCACTCTGTCAGG  NA                     \n",
       "  barcode.sequence.1 hashtagged.sample  \n",
       "1 GTCAACTCTTTAGCG    CV-001 d0 booster  \n",
       "2 TGATGGCCTATTGGG    CV-001 d7 booster  \n",
       "3 TTCCGCCTCTCTTTG    CV-001 d28 booster \n",
       "4 AGTAAGTTCAGCGTA    CV-011 d120 booster\n",
       "5                                       \n",
       "6                                       "
      ]
     },
     "metadata": {},
     "output_type": "display_data"
    },
    {
     "data": {
      "text/html": [
       "<table class=\"dataframe\">\n",
       "<caption>A data.frame: 6 × 6</caption>\n",
       "<thead>\n",
       "\t<tr><th></th><th scope=col>ADT</th><th scope=col>barcode.sequence</th><th scope=col>X</th><th scope=col>HTO</th><th scope=col>barcode.sequence.1</th><th scope=col>hashtagged.sample</th></tr>\n",
       "\t<tr><th></th><th scope=col>&lt;chr&gt;</th><th scope=col>&lt;chr&gt;</th><th scope=col>&lt;lgl&gt;</th><th scope=col>&lt;chr&gt;</th><th scope=col>&lt;chr&gt;</th><th scope=col>&lt;chr&gt;</th></tr>\n",
       "</thead>\n",
       "<tbody>\n",
       "\t<tr><th scope=row>1</th><td>TotalSeq?-C0145 anti-human CD103 </td><td>GACCTCATTGTGAAT</td><td>NA</td><td>TotalSeq?-C0251 anti-human Hashtag 1 </td><td>GTCAACTCTTTAGCG</td><td>CV-053 d0 vax </td></tr>\n",
       "\t<tr><th scope=row>2</th><td>TotalSeq?-C0155 anti-human CD107a</td><td>CAGCCCACTGCAATA</td><td>NA</td><td>TotalSeq?-C0253  anti-human Hashtag 3</td><td>TTCCGCCTCTCTTTG</td><td>CV-053 d7 vax </td></tr>\n",
       "\t<tr><th scope=row>3</th><td>TotalSeq?-C0061 anti-human CD117 </td><td>AGACTAATAGCTGAC</td><td>NA</td><td>TotalSeq?-C0254 anti-human Hashtag 4 </td><td>AGTAAGTTCAGCGTA</td><td>CV-053 d21 vax</td></tr>\n",
       "\t<tr><th scope=row>4</th><td>TotalSeq?-C0161 anti-human CD11b </td><td>GACAAGTGATCTGCA</td><td>NA</td><td>TotalSeq?-C0255 anti-human Hashtag 5 </td><td>AAGTATCGTTTCGCA</td><td>CV-053 d28 vax</td></tr>\n",
       "\t<tr><th scope=row>5</th><td>TotalSeq?-C0053 anti-human CD11c </td><td>TACGCCTATAACTTG</td><td>NA</td><td>                                     </td><td>               </td><td>              </td></tr>\n",
       "\t<tr><th scope=row>6</th><td>TotalSeq?-C0064 anti-human CD123 </td><td>CTTCACTCTGTCAGG</td><td>NA</td><td>                                     </td><td>               </td><td>              </td></tr>\n",
       "</tbody>\n",
       "</table>\n"
      ],
      "text/latex": [
       "A data.frame: 6 × 6\n",
       "\\begin{tabular}{r|llllll}\n",
       "  & ADT & barcode.sequence & X & HTO & barcode.sequence.1 & hashtagged.sample\\\\\n",
       "  & <chr> & <chr> & <lgl> & <chr> & <chr> & <chr>\\\\\n",
       "\\hline\n",
       "\t1 & TotalSeq?-C0145 anti-human CD103  & GACCTCATTGTGAAT & NA & TotalSeq?-C0251 anti-human Hashtag 1  & GTCAACTCTTTAGCG & CV-053 d0 vax \\\\\n",
       "\t2 & TotalSeq?-C0155 anti-human CD107a & CAGCCCACTGCAATA & NA & TotalSeq?-C0253  anti-human Hashtag 3 & TTCCGCCTCTCTTTG & CV-053 d7 vax \\\\\n",
       "\t3 & TotalSeq?-C0061 anti-human CD117  & AGACTAATAGCTGAC & NA & TotalSeq?-C0254 anti-human Hashtag 4  & AGTAAGTTCAGCGTA & CV-053 d21 vax\\\\\n",
       "\t4 & TotalSeq?-C0161 anti-human CD11b  & GACAAGTGATCTGCA & NA & TotalSeq?-C0255 anti-human Hashtag 5  & AAGTATCGTTTCGCA & CV-053 d28 vax\\\\\n",
       "\t5 & TotalSeq?-C0053 anti-human CD11c  & TACGCCTATAACTTG & NA &                                       &                 &               \\\\\n",
       "\t6 & TotalSeq?-C0064 anti-human CD123  & CTTCACTCTGTCAGG & NA &                                       &                 &               \\\\\n",
       "\\end{tabular}\n"
      ],
      "text/markdown": [
       "\n",
       "A data.frame: 6 × 6\n",
       "\n",
       "| <!--/--> | ADT &lt;chr&gt; | barcode.sequence &lt;chr&gt; | X &lt;lgl&gt; | HTO &lt;chr&gt; | barcode.sequence.1 &lt;chr&gt; | hashtagged.sample &lt;chr&gt; |\n",
       "|---|---|---|---|---|---|---|\n",
       "| 1 | TotalSeq?-C0145 anti-human CD103  | GACCTCATTGTGAAT | NA | TotalSeq?-C0251 anti-human Hashtag 1  | GTCAACTCTTTAGCG | CV-053 d0 vax  |\n",
       "| 2 | TotalSeq?-C0155 anti-human CD107a | CAGCCCACTGCAATA | NA | TotalSeq?-C0253  anti-human Hashtag 3 | TTCCGCCTCTCTTTG | CV-053 d7 vax  |\n",
       "| 3 | TotalSeq?-C0061 anti-human CD117  | AGACTAATAGCTGAC | NA | TotalSeq?-C0254 anti-human Hashtag 4  | AGTAAGTTCAGCGTA | CV-053 d21 vax |\n",
       "| 4 | TotalSeq?-C0161 anti-human CD11b  | GACAAGTGATCTGCA | NA | TotalSeq?-C0255 anti-human Hashtag 5  | AAGTATCGTTTCGCA | CV-053 d28 vax |\n",
       "| 5 | TotalSeq?-C0053 anti-human CD11c  | TACGCCTATAACTTG | NA | <!----> | <!----> | <!----> |\n",
       "| 6 | TotalSeq?-C0064 anti-human CD123  | CTTCACTCTGTCAGG | NA | <!----> | <!----> | <!----> |\n",
       "\n"
      ],
      "text/plain": [
       "  ADT                               barcode.sequence X \n",
       "1 TotalSeq?-C0145 anti-human CD103  GACCTCATTGTGAAT  NA\n",
       "2 TotalSeq?-C0155 anti-human CD107a CAGCCCACTGCAATA  NA\n",
       "3 TotalSeq?-C0061 anti-human CD117  AGACTAATAGCTGAC  NA\n",
       "4 TotalSeq?-C0161 anti-human CD11b  GACAAGTGATCTGCA  NA\n",
       "5 TotalSeq?-C0053 anti-human CD11c  TACGCCTATAACTTG  NA\n",
       "6 TotalSeq?-C0064 anti-human CD123  CTTCACTCTGTCAGG  NA\n",
       "  HTO                                   barcode.sequence.1 hashtagged.sample\n",
       "1 TotalSeq?-C0251 anti-human Hashtag 1  GTCAACTCTTTAGCG    CV-053 d0 vax    \n",
       "2 TotalSeq?-C0253  anti-human Hashtag 3 TTCCGCCTCTCTTTG    CV-053 d7 vax    \n",
       "3 TotalSeq?-C0254 anti-human Hashtag 4  AGTAAGTTCAGCGTA    CV-053 d21 vax   \n",
       "4 TotalSeq?-C0255 anti-human Hashtag 5  AAGTATCGTTTCGCA    CV-053 d28 vax   \n",
       "5                                                                           \n",
       "6                                                                           "
      ]
     },
     "metadata": {},
     "output_type": "display_data"
    }
   ],
   "source": [
    "## read the downloaded feature reference files\n",
    "cv10_features <- read.csv(\"/camp/home/hungm/scratch/hungm/matthew/MH_GSE247917/logs/input/GSE247910_ADT_HTO_details_README.txt\", sep = \"\\t\")\n",
    "cv12_features <- read.csv(\"/camp/home/hungm/scratch/hungm/matthew/MH_GSE247917/logs/input/GSE247912_ADT_HTO_details_README.txt\", sep = \"\\t\")\n",
    "colnames(cv12_features)[4] <- \"HTO\" \n",
    "head(cv10_features)\n",
    "head(cv12_features)"
   ]
  },
  {
   "cell_type": "code",
   "execution_count": 6,
   "metadata": {
    "vscode": {
     "languageId": "r"
    }
   },
   "outputs": [
    {
     "name": "stdout",
     "output_type": "stream",
     "text": [
      "[1] FALSE\n",
      "[1] FALSE\n"
     ]
    }
   ],
   "source": [
    "## modify each feature reference\n",
    "for(x in c(\"cv10_features\", \"cv12_features\")){\n",
    "    \n",
    "    features <- get(x)\n",
    "    colnames(features) <- NULL\n",
    "    colnames(features) <- rep(c(\"id\", \"sequence\", \"name\"),2)\n",
    "    features <- bind_rows(features[c(1:3)], features[c(4:6)]) %>%\n",
    "        filter(id != \"\") %>%\n",
    "        arrange(name)\n",
    "\n",
    "    features <- features %>%\n",
    "        mutate(\n",
    "            id = gsub(\" $\", \"\", id), # remove random \" \" at the end of id\n",
    "            name = gsub(\" \", \"_\", name),\n",
    "            name = ifelse(is.na(name), id, name)) %>% # add citeseq id to name\n",
    "        mutate(\n",
    "            name = gsub(\".* \", \"\", name), \n",
    "            id = gsub(\".*anti-human Hashtag \", \"Hashtag\", id),\n",
    "            id = gsub(\"TotalSeq\\\\?\\\\-C\", \"C\", id),\n",
    "            id = gsub(\" .*\", \"\", id)) %>%\n",
    "        mutate(\n",
    "            name = gsub(\"^isoIg\", \"Ig\", name),\n",
    "            read = \"R2\",\n",
    "            pattern = \"5PNNNNNNNNNN(BC)\",\n",
    "            feature_type = \"Antibody Capture\") %>%\n",
    "        filter(id != \"\") %>%\n",
    "        filter(sequence != \"\") %>%\n",
    "        select(id, name, read, pattern, sequence, feature_type) %>%\n",
    "        arrange(desc(id)) %>%\n",
    "        distinct(.)\n",
    "    \n",
    "    print(any(is.na(features)))\n",
    "    assign(x, features)}"
   ]
  },
  {
   "cell_type": "code",
   "execution_count": 7,
   "metadata": {
    "vscode": {
     "languageId": "r"
    }
   },
   "outputs": [
    {
     "data": {
      "text/html": [
       "<table class=\"dataframe\">\n",
       "<caption>A data.frame: 6 × 6</caption>\n",
       "<thead>\n",
       "\t<tr><th></th><th scope=col>id</th><th scope=col>name</th><th scope=col>read</th><th scope=col>pattern</th><th scope=col>sequence</th><th scope=col>feature_type</th></tr>\n",
       "\t<tr><th></th><th scope=col>&lt;chr&gt;</th><th scope=col>&lt;chr&gt;</th><th scope=col>&lt;chr&gt;</th><th scope=col>&lt;chr&gt;</th><th scope=col>&lt;chr&gt;</th><th scope=col>&lt;chr&gt;</th></tr>\n",
       "</thead>\n",
       "<tbody>\n",
       "\t<tr><th scope=row>1</th><td>Hashtag4</td><td>CV-011_d120_booster</td><td>R2</td><td>5PNNNNNNNNNN(BC)</td><td>AGTAAGTTCAGCGTA</td><td>Antibody Capture</td></tr>\n",
       "\t<tr><th scope=row>2</th><td>Hashtag3</td><td>CV-001_d28_booster </td><td>R2</td><td>5PNNNNNNNNNN(BC)</td><td>TTCCGCCTCTCTTTG</td><td>Antibody Capture</td></tr>\n",
       "\t<tr><th scope=row>3</th><td>Hashtag2</td><td>CV-001_d7_booster  </td><td>R2</td><td>5PNNNNNNNNNN(BC)</td><td>TGATGGCCTATTGGG</td><td>Antibody Capture</td></tr>\n",
       "\t<tr><th scope=row>4</th><td>Hashtag1</td><td>CV-001_d0_booster  </td><td>R2</td><td>5PNNNNNNNNNN(BC)</td><td>GTCAACTCTTTAGCG</td><td>Antibody Capture</td></tr>\n",
       "\t<tr><th scope=row>5</th><td>C0831   </td><td>CD138              </td><td>R2</td><td>5PNNNNNNNNNN(BC)</td><td>GTATAGACCAAAGCC</td><td>Antibody Capture</td></tr>\n",
       "\t<tr><th scope=row>6</th><td>C0804   </td><td>CD186              </td><td>R2</td><td>5PNNNNNNNNNN(BC)</td><td>GACAGTCGATGCAAC</td><td>Antibody Capture</td></tr>\n",
       "</tbody>\n",
       "</table>\n"
      ],
      "text/latex": [
       "A data.frame: 6 × 6\n",
       "\\begin{tabular}{r|llllll}\n",
       "  & id & name & read & pattern & sequence & feature\\_type\\\\\n",
       "  & <chr> & <chr> & <chr> & <chr> & <chr> & <chr>\\\\\n",
       "\\hline\n",
       "\t1 & Hashtag4 & CV-011\\_d120\\_booster & R2 & 5PNNNNNNNNNN(BC) & AGTAAGTTCAGCGTA & Antibody Capture\\\\\n",
       "\t2 & Hashtag3 & CV-001\\_d28\\_booster  & R2 & 5PNNNNNNNNNN(BC) & TTCCGCCTCTCTTTG & Antibody Capture\\\\\n",
       "\t3 & Hashtag2 & CV-001\\_d7\\_booster   & R2 & 5PNNNNNNNNNN(BC) & TGATGGCCTATTGGG & Antibody Capture\\\\\n",
       "\t4 & Hashtag1 & CV-001\\_d0\\_booster   & R2 & 5PNNNNNNNNNN(BC) & GTCAACTCTTTAGCG & Antibody Capture\\\\\n",
       "\t5 & C0831    & CD138               & R2 & 5PNNNNNNNNNN(BC) & GTATAGACCAAAGCC & Antibody Capture\\\\\n",
       "\t6 & C0804    & CD186               & R2 & 5PNNNNNNNNNN(BC) & GACAGTCGATGCAAC & Antibody Capture\\\\\n",
       "\\end{tabular}\n"
      ],
      "text/markdown": [
       "\n",
       "A data.frame: 6 × 6\n",
       "\n",
       "| <!--/--> | id &lt;chr&gt; | name &lt;chr&gt; | read &lt;chr&gt; | pattern &lt;chr&gt; | sequence &lt;chr&gt; | feature_type &lt;chr&gt; |\n",
       "|---|---|---|---|---|---|---|\n",
       "| 1 | Hashtag4 | CV-011_d120_booster | R2 | 5PNNNNNNNNNN(BC) | AGTAAGTTCAGCGTA | Antibody Capture |\n",
       "| 2 | Hashtag3 | CV-001_d28_booster  | R2 | 5PNNNNNNNNNN(BC) | TTCCGCCTCTCTTTG | Antibody Capture |\n",
       "| 3 | Hashtag2 | CV-001_d7_booster   | R2 | 5PNNNNNNNNNN(BC) | TGATGGCCTATTGGG | Antibody Capture |\n",
       "| 4 | Hashtag1 | CV-001_d0_booster   | R2 | 5PNNNNNNNNNN(BC) | GTCAACTCTTTAGCG | Antibody Capture |\n",
       "| 5 | C0831    | CD138               | R2 | 5PNNNNNNNNNN(BC) | GTATAGACCAAAGCC | Antibody Capture |\n",
       "| 6 | C0804    | CD186               | R2 | 5PNNNNNNNNNN(BC) | GACAGTCGATGCAAC | Antibody Capture |\n",
       "\n"
      ],
      "text/plain": [
       "  id       name                read pattern          sequence       \n",
       "1 Hashtag4 CV-011_d120_booster R2   5PNNNNNNNNNN(BC) AGTAAGTTCAGCGTA\n",
       "2 Hashtag3 CV-001_d28_booster  R2   5PNNNNNNNNNN(BC) TTCCGCCTCTCTTTG\n",
       "3 Hashtag2 CV-001_d7_booster   R2   5PNNNNNNNNNN(BC) TGATGGCCTATTGGG\n",
       "4 Hashtag1 CV-001_d0_booster   R2   5PNNNNNNNNNN(BC) GTCAACTCTTTAGCG\n",
       "5 C0831    CD138               R2   5PNNNNNNNNNN(BC) GTATAGACCAAAGCC\n",
       "6 C0804    CD186               R2   5PNNNNNNNNNN(BC) GACAGTCGATGCAAC\n",
       "  feature_type    \n",
       "1 Antibody Capture\n",
       "2 Antibody Capture\n",
       "3 Antibody Capture\n",
       "4 Antibody Capture\n",
       "5 Antibody Capture\n",
       "6 Antibody Capture"
      ]
     },
     "metadata": {},
     "output_type": "display_data"
    },
    {
     "data": {
      "text/html": [
       "<table class=\"dataframe\">\n",
       "<caption>A data.frame: 6 × 6</caption>\n",
       "<thead>\n",
       "\t<tr><th></th><th scope=col>id</th><th scope=col>name</th><th scope=col>read</th><th scope=col>pattern</th><th scope=col>sequence</th><th scope=col>feature_type</th></tr>\n",
       "\t<tr><th></th><th scope=col>&lt;chr&gt;</th><th scope=col>&lt;chr&gt;</th><th scope=col>&lt;chr&gt;</th><th scope=col>&lt;chr&gt;</th><th scope=col>&lt;chr&gt;</th><th scope=col>&lt;chr&gt;</th></tr>\n",
       "</thead>\n",
       "<tbody>\n",
       "\t<tr><th scope=row>1</th><td>Hashtag5</td><td>CV-053_d28_vax</td><td>R2</td><td>5PNNNNNNNNNN(BC)</td><td>AAGTATCGTTTCGCA</td><td>Antibody Capture</td></tr>\n",
       "\t<tr><th scope=row>2</th><td>Hashtag4</td><td>CV-053_d21_vax</td><td>R2</td><td>5PNNNNNNNNNN(BC)</td><td>AGTAAGTTCAGCGTA</td><td>Antibody Capture</td></tr>\n",
       "\t<tr><th scope=row>3</th><td>Hashtag3</td><td>CV-053_d7_vax </td><td>R2</td><td>5PNNNNNNNNNN(BC)</td><td>TTCCGCCTCTCTTTG</td><td>Antibody Capture</td></tr>\n",
       "\t<tr><th scope=row>4</th><td>Hashtag1</td><td>CV-053_d0_vax </td><td>R2</td><td>5PNNNNNNNNNN(BC)</td><td>GTCAACTCTTTAGCG</td><td>Antibody Capture</td></tr>\n",
       "\t<tr><th scope=row>5</th><td>C0831   </td><td>CD138         </td><td>R2</td><td>5PNNNNNNNNNN(BC)</td><td>GTATAGACCAAAGCC</td><td>Antibody Capture</td></tr>\n",
       "\t<tr><th scope=row>6</th><td>C0804   </td><td>CD186         </td><td>R2</td><td>5PNNNNNNNNNN(BC)</td><td>GACAGTCGATGCAAC</td><td>Antibody Capture</td></tr>\n",
       "</tbody>\n",
       "</table>\n"
      ],
      "text/latex": [
       "A data.frame: 6 × 6\n",
       "\\begin{tabular}{r|llllll}\n",
       "  & id & name & read & pattern & sequence & feature\\_type\\\\\n",
       "  & <chr> & <chr> & <chr> & <chr> & <chr> & <chr>\\\\\n",
       "\\hline\n",
       "\t1 & Hashtag5 & CV-053\\_d28\\_vax & R2 & 5PNNNNNNNNNN(BC) & AAGTATCGTTTCGCA & Antibody Capture\\\\\n",
       "\t2 & Hashtag4 & CV-053\\_d21\\_vax & R2 & 5PNNNNNNNNNN(BC) & AGTAAGTTCAGCGTA & Antibody Capture\\\\\n",
       "\t3 & Hashtag3 & CV-053\\_d7\\_vax  & R2 & 5PNNNNNNNNNN(BC) & TTCCGCCTCTCTTTG & Antibody Capture\\\\\n",
       "\t4 & Hashtag1 & CV-053\\_d0\\_vax  & R2 & 5PNNNNNNNNNN(BC) & GTCAACTCTTTAGCG & Antibody Capture\\\\\n",
       "\t5 & C0831    & CD138          & R2 & 5PNNNNNNNNNN(BC) & GTATAGACCAAAGCC & Antibody Capture\\\\\n",
       "\t6 & C0804    & CD186          & R2 & 5PNNNNNNNNNN(BC) & GACAGTCGATGCAAC & Antibody Capture\\\\\n",
       "\\end{tabular}\n"
      ],
      "text/markdown": [
       "\n",
       "A data.frame: 6 × 6\n",
       "\n",
       "| <!--/--> | id &lt;chr&gt; | name &lt;chr&gt; | read &lt;chr&gt; | pattern &lt;chr&gt; | sequence &lt;chr&gt; | feature_type &lt;chr&gt; |\n",
       "|---|---|---|---|---|---|---|\n",
       "| 1 | Hashtag5 | CV-053_d28_vax | R2 | 5PNNNNNNNNNN(BC) | AAGTATCGTTTCGCA | Antibody Capture |\n",
       "| 2 | Hashtag4 | CV-053_d21_vax | R2 | 5PNNNNNNNNNN(BC) | AGTAAGTTCAGCGTA | Antibody Capture |\n",
       "| 3 | Hashtag3 | CV-053_d7_vax  | R2 | 5PNNNNNNNNNN(BC) | TTCCGCCTCTCTTTG | Antibody Capture |\n",
       "| 4 | Hashtag1 | CV-053_d0_vax  | R2 | 5PNNNNNNNNNN(BC) | GTCAACTCTTTAGCG | Antibody Capture |\n",
       "| 5 | C0831    | CD138          | R2 | 5PNNNNNNNNNN(BC) | GTATAGACCAAAGCC | Antibody Capture |\n",
       "| 6 | C0804    | CD186          | R2 | 5PNNNNNNNNNN(BC) | GACAGTCGATGCAAC | Antibody Capture |\n",
       "\n"
      ],
      "text/plain": [
       "  id       name           read pattern          sequence       \n",
       "1 Hashtag5 CV-053_d28_vax R2   5PNNNNNNNNNN(BC) AAGTATCGTTTCGCA\n",
       "2 Hashtag4 CV-053_d21_vax R2   5PNNNNNNNNNN(BC) AGTAAGTTCAGCGTA\n",
       "3 Hashtag3 CV-053_d7_vax  R2   5PNNNNNNNNNN(BC) TTCCGCCTCTCTTTG\n",
       "4 Hashtag1 CV-053_d0_vax  R2   5PNNNNNNNNNN(BC) GTCAACTCTTTAGCG\n",
       "5 C0831    CD138          R2   5PNNNNNNNNNN(BC) GTATAGACCAAAGCC\n",
       "6 C0804    CD186          R2   5PNNNNNNNNNN(BC) GACAGTCGATGCAAC\n",
       "  feature_type    \n",
       "1 Antibody Capture\n",
       "2 Antibody Capture\n",
       "3 Antibody Capture\n",
       "4 Antibody Capture\n",
       "5 Antibody Capture\n",
       "6 Antibody Capture"
      ]
     },
     "metadata": {},
     "output_type": "display_data"
    }
   ],
   "source": [
    "head(cv10_features)\n",
    "head(cv12_features)"
   ]
  },
  {
   "cell_type": "code",
   "execution_count": 5,
   "metadata": {
    "vscode": {
     "languageId": "r"
    }
   },
   "outputs": [],
   "source": [
    "## now output the dataframes as feature_reference.csv\n",
    "for(x in c(\"cv10_features\", \"cv12_features\")){\n",
    "    sample <- gsub(\"_.*\", \"\", x)\n",
    "    write.csv(get(x), paste0(\"/camp/home/hungm/scratch/hungm/matthew/MH_GSE247917/logs/input/\", toupper(sample), \"_feature_reference.csv\"), row.names = F, quote = F)}"
   ]
  },
  {
   "cell_type": "code",
   "execution_count": 6,
   "metadata": {
    "vscode": {
     "languageId": "r"
    }
   },
   "outputs": [
    {
     "name": "stdout",
     "output_type": "stream",
     "text": [
      "\u001b[38;5;33m/camp/home/hungm/scratch/hungm/matthew/MH_GSE247917/logs/input\u001b[0m\n",
      "├── CV10_feature_reference.csv\n",
      "├── CV12_feature_reference.csv\n",
      "├── \u001b[38;5;40mGSE247910_ADT_HTO_details_README.txt\u001b[0m\n",
      "├── \u001b[38;5;40mGSE247912_ADT_HTO_details_README.txt\u001b[0m\n",
      "├── SRR_Acc_List.txt\n",
      "└── \u001b[38;5;40mSraRunTable.txt\u001b[0m\n"
     ]
    }
   ],
   "source": [
    "fs::dir_tree(path = \"/camp/home/hungm/scratch/hungm/matthew/MH_GSE247917/logs/input\")"
   ]
  },
  {
   "cell_type": "markdown",
   "metadata": {
    "vscode": {
     "languageId": "r"
    }
   },
   "source": [
    "### <font color='grey'>Step5 -</font> library.csv {.unnumbered}\n",
    "Now we will create library.csv files to configure the \"config.csv\" file for each sequencing sample. Below are the specific columns required for \"library.csv\"\n",
    "\n",
    "> [libraries]  \n",
    "> fastq_id,fastqs,lanes,feature_types"
   ]
  },
  {
   "cell_type": "code",
   "execution_count": null,
   "metadata": {
    "vscode": {
     "languageId": "r"
    }
   },
   "outputs": [
    {
     "name": "stdout",
     "output_type": "stream",
     "text": [
      "SRR22473100,/camp/home/hungm/scratch/hungm/anqi/AX_GSE219098/raw_fastq/,any,Gene Expression\n",
      "SRR22473101,/camp/home/hungm/scratch/hungm/anqi/AX_GSE219098/raw_fastq/,any,Gene Expression\n",
      "SRR22473102,/camp/home/hungm/scratch/hungm/anqi/AX_GSE219098/raw_fastq/,any,Gene Expression\n",
      "SRR22473103,/camp/home/hungm/scratch/hungm/anqi/AX_GSE219098/raw_fastq/,any,Gene Expression\n",
      "SRR22473104,/camp/home/hungm/scratch/hungm/anqi/AX_GSE219098/raw_fastq/,any,Antibody Capture\n",
      "SRR22473105,/camp/home/hungm/scratch/hungm/anqi/AX_GSE219098/raw_fastq/,any,Antibody Capture\n",
      "SRR22473106,/camp/home/hungm/scratch/hungm/anqi/AX_GSE219098/raw_fastq/,any,Antibody Capture\n",
      "SRR22473107,/camp/home/hungm/scratch/hungm/anqi/AX_GSE219098/raw_fastq/,any,Antibody Capture\n",
      "SRR22473108,/camp/home/hungm/scratch/hungm/anqi/AX_GSE219098/raw_fastq/,any,VDJ-B\n",
      "SRR22473109,/camp/home/hungm/scratch/hungm/anqi/AX_GSE219098/raw_fastq/,any,VDJ-B\n",
      "SRR22473110,/camp/home/hungm/scratch/hungm/anqi/AX_GSE219098/raw_fastq/,any,VDJ-B\n",
      "SRR22473111,/camp/home/hungm/scratch/hungm/anqi/AX_GSE219098/raw_fastq/,any,VDJ-B\n"
     ]
    }
   ],
   "source": [
    "# example of library.csv\n",
    "cat_content('/camp/home/hungm/nemo-pipelines/scrnaseq/cellranger/library.csv')"
   ]
  },
  {
   "cell_type": "markdown",
   "metadata": {
    "vscode": {
     "languageId": "r"
    }
   },
   "source": [
    "View SRA metadata again from [@sec-sra] and modify dataframe to library.csv format."
   ]
  },
  {
   "cell_type": "code",
   "execution_count": null,
   "metadata": {
    "vscode": {
     "languageId": "r"
    }
   },
   "outputs": [
    {
     "data": {
      "text/html": [
       "<table class=\"dataframe\">\n",
       "<caption>A data.frame: 6 × 4</caption>\n",
       "<thead>\n",
       "\t<tr><th></th><th scope=col>BioProject</th><th scope=col>Run</th><th scope=col>library_type</th><th scope=col>treatment</th></tr>\n",
       "\t<tr><th></th><th scope=col>&lt;chr&gt;</th><th scope=col>&lt;chr&gt;</th><th scope=col>&lt;chr&gt;</th><th scope=col>&lt;chr&gt;</th></tr>\n",
       "</thead>\n",
       "<tbody>\n",
       "\t<tr><th scope=row>1</th><td>PRJNA1040901</td><td>SRR26844707</td><td>TCRgd</td><td>COVID-19          </td></tr>\n",
       "\t<tr><th scope=row>2</th><td>PRJNA1040901</td><td>SRR26844708</td><td>TCRab</td><td>COVID-19          </td></tr>\n",
       "\t<tr><th scope=row>3</th><td>PRJNA1040901</td><td>SRR26844709</td><td>GEX  </td><td>COVID-19          </td></tr>\n",
       "\t<tr><th scope=row>4</th><td>PRJNA1040901</td><td>SRR26844710</td><td>BCR  </td><td>COVID-19          </td></tr>\n",
       "\t<tr><th scope=row>5</th><td>PRJNA1040901</td><td>SRR26844711</td><td>ADT  </td><td>COVID-19          </td></tr>\n",
       "\t<tr><th scope=row>6</th><td>PRJNA1040899</td><td>SRR26844884</td><td>TCRgd</td><td>SARS-CoV-2 vaccine</td></tr>\n",
       "</tbody>\n",
       "</table>\n"
      ],
      "text/latex": [
       "A data.frame: 6 × 4\n",
       "\\begin{tabular}{r|llll}\n",
       "  & BioProject & Run & library\\_type & treatment\\\\\n",
       "  & <chr> & <chr> & <chr> & <chr>\\\\\n",
       "\\hline\n",
       "\t1 & PRJNA1040901 & SRR26844707 & TCRgd & COVID-19          \\\\\n",
       "\t2 & PRJNA1040901 & SRR26844708 & TCRab & COVID-19          \\\\\n",
       "\t3 & PRJNA1040901 & SRR26844709 & GEX   & COVID-19          \\\\\n",
       "\t4 & PRJNA1040901 & SRR26844710 & BCR   & COVID-19          \\\\\n",
       "\t5 & PRJNA1040901 & SRR26844711 & ADT   & COVID-19          \\\\\n",
       "\t6 & PRJNA1040899 & SRR26844884 & TCRgd & SARS-CoV-2 vaccine\\\\\n",
       "\\end{tabular}\n"
      ],
      "text/markdown": [
       "\n",
       "A data.frame: 6 × 4\n",
       "\n",
       "| <!--/--> | BioProject &lt;chr&gt; | Run &lt;chr&gt; | library_type &lt;chr&gt; | treatment &lt;chr&gt; |\n",
       "|---|---|---|---|---|\n",
       "| 1 | PRJNA1040901 | SRR26844707 | TCRgd | COVID-19           |\n",
       "| 2 | PRJNA1040901 | SRR26844708 | TCRab | COVID-19           |\n",
       "| 3 | PRJNA1040901 | SRR26844709 | GEX   | COVID-19           |\n",
       "| 4 | PRJNA1040901 | SRR26844710 | BCR   | COVID-19           |\n",
       "| 5 | PRJNA1040901 | SRR26844711 | ADT   | COVID-19           |\n",
       "| 6 | PRJNA1040899 | SRR26844884 | TCRgd | SARS-CoV-2 vaccine |\n",
       "\n"
      ],
      "text/plain": [
       "  BioProject   Run         library_type treatment         \n",
       "1 PRJNA1040901 SRR26844707 TCRgd        COVID-19          \n",
       "2 PRJNA1040901 SRR26844708 TCRab        COVID-19          \n",
       "3 PRJNA1040901 SRR26844709 GEX          COVID-19          \n",
       "4 PRJNA1040901 SRR26844710 BCR          COVID-19          \n",
       "5 PRJNA1040901 SRR26844711 ADT          COVID-19          \n",
       "6 PRJNA1040899 SRR26844884 TCRgd        SARS-CoV-2 vaccine"
      ]
     },
     "metadata": {},
     "output_type": "display_data"
    }
   ],
   "source": [
    "# view SRA metadata again\n",
    "head(sra)"
   ]
  },
  {
   "cell_type": "code",
   "execution_count": 9,
   "metadata": {
    "vscode": {
     "languageId": "r"
    }
   },
   "outputs": [
    {
     "data": {
      "text/html": [
       "<table class=\"dataframe\">\n",
       "<caption>A data.frame: 10 × 5</caption>\n",
       "<thead>\n",
       "\t<tr><th scope=col>id</th><th scope=col>fastq_id</th><th scope=col>fastqs</th><th scope=col>lanes</th><th scope=col>feature_types</th></tr>\n",
       "\t<tr><th scope=col>&lt;chr&gt;</th><th scope=col>&lt;chr&gt;</th><th scope=col>&lt;chr&gt;</th><th scope=col>&lt;chr&gt;</th><th scope=col>&lt;chr&gt;</th></tr>\n",
       "</thead>\n",
       "<tbody>\n",
       "\t<tr><td>CV10</td><td>SRR26844707</td><td>/camp/home/hungm/scratch/hungm/matthew/MH_GSE247917/raw_fastq/</td><td>any</td><td>VDJ-T-GD        </td></tr>\n",
       "\t<tr><td>CV10</td><td>SRR26844708</td><td>/camp/home/hungm/scratch/hungm/matthew/MH_GSE247917/raw_fastq/</td><td>any</td><td>VDJ-T           </td></tr>\n",
       "\t<tr><td>CV10</td><td>SRR26844709</td><td>/camp/home/hungm/scratch/hungm/matthew/MH_GSE247917/raw_fastq/</td><td>any</td><td>Gene Expression </td></tr>\n",
       "\t<tr><td>CV10</td><td>SRR26844710</td><td>/camp/home/hungm/scratch/hungm/matthew/MH_GSE247917/raw_fastq/</td><td>any</td><td>VDJ-B           </td></tr>\n",
       "\t<tr><td>CV10</td><td>SRR26844711</td><td>/camp/home/hungm/scratch/hungm/matthew/MH_GSE247917/raw_fastq/</td><td>any</td><td>Antibody Capture</td></tr>\n",
       "\t<tr><td>CV12</td><td>SRR26844884</td><td>/camp/home/hungm/scratch/hungm/matthew/MH_GSE247917/raw_fastq/</td><td>any</td><td>VDJ-T-GD        </td></tr>\n",
       "\t<tr><td>CV12</td><td>SRR26844885</td><td>/camp/home/hungm/scratch/hungm/matthew/MH_GSE247917/raw_fastq/</td><td>any</td><td>VDJ-T           </td></tr>\n",
       "\t<tr><td>CV12</td><td>SRR26844886</td><td>/camp/home/hungm/scratch/hungm/matthew/MH_GSE247917/raw_fastq/</td><td>any</td><td>Gene Expression </td></tr>\n",
       "\t<tr><td>CV12</td><td>SRR26844887</td><td>/camp/home/hungm/scratch/hungm/matthew/MH_GSE247917/raw_fastq/</td><td>any</td><td>VDJ-B           </td></tr>\n",
       "\t<tr><td>CV12</td><td>SRR26844888</td><td>/camp/home/hungm/scratch/hungm/matthew/MH_GSE247917/raw_fastq/</td><td>any</td><td>Antibody Capture</td></tr>\n",
       "</tbody>\n",
       "</table>\n"
      ],
      "text/latex": [
       "A data.frame: 10 × 5\n",
       "\\begin{tabular}{lllll}\n",
       " id & fastq\\_id & fastqs & lanes & feature\\_types\\\\\n",
       " <chr> & <chr> & <chr> & <chr> & <chr>\\\\\n",
       "\\hline\n",
       "\t CV10 & SRR26844707 & /camp/home/hungm/scratch/hungm/matthew/MH\\_GSE247917/raw\\_fastq/ & any & VDJ-T-GD        \\\\\n",
       "\t CV10 & SRR26844708 & /camp/home/hungm/scratch/hungm/matthew/MH\\_GSE247917/raw\\_fastq/ & any & VDJ-T           \\\\\n",
       "\t CV10 & SRR26844709 & /camp/home/hungm/scratch/hungm/matthew/MH\\_GSE247917/raw\\_fastq/ & any & Gene Expression \\\\\n",
       "\t CV10 & SRR26844710 & /camp/home/hungm/scratch/hungm/matthew/MH\\_GSE247917/raw\\_fastq/ & any & VDJ-B           \\\\\n",
       "\t CV10 & SRR26844711 & /camp/home/hungm/scratch/hungm/matthew/MH\\_GSE247917/raw\\_fastq/ & any & Antibody Capture\\\\\n",
       "\t CV12 & SRR26844884 & /camp/home/hungm/scratch/hungm/matthew/MH\\_GSE247917/raw\\_fastq/ & any & VDJ-T-GD        \\\\\n",
       "\t CV12 & SRR26844885 & /camp/home/hungm/scratch/hungm/matthew/MH\\_GSE247917/raw\\_fastq/ & any & VDJ-T           \\\\\n",
       "\t CV12 & SRR26844886 & /camp/home/hungm/scratch/hungm/matthew/MH\\_GSE247917/raw\\_fastq/ & any & Gene Expression \\\\\n",
       "\t CV12 & SRR26844887 & /camp/home/hungm/scratch/hungm/matthew/MH\\_GSE247917/raw\\_fastq/ & any & VDJ-B           \\\\\n",
       "\t CV12 & SRR26844888 & /camp/home/hungm/scratch/hungm/matthew/MH\\_GSE247917/raw\\_fastq/ & any & Antibody Capture\\\\\n",
       "\\end{tabular}\n"
      ],
      "text/markdown": [
       "\n",
       "A data.frame: 10 × 5\n",
       "\n",
       "| id &lt;chr&gt; | fastq_id &lt;chr&gt; | fastqs &lt;chr&gt; | lanes &lt;chr&gt; | feature_types &lt;chr&gt; |\n",
       "|---|---|---|---|---|\n",
       "| CV10 | SRR26844707 | /camp/home/hungm/scratch/hungm/matthew/MH_GSE247917/raw_fastq/ | any | VDJ-T-GD         |\n",
       "| CV10 | SRR26844708 | /camp/home/hungm/scratch/hungm/matthew/MH_GSE247917/raw_fastq/ | any | VDJ-T            |\n",
       "| CV10 | SRR26844709 | /camp/home/hungm/scratch/hungm/matthew/MH_GSE247917/raw_fastq/ | any | Gene Expression  |\n",
       "| CV10 | SRR26844710 | /camp/home/hungm/scratch/hungm/matthew/MH_GSE247917/raw_fastq/ | any | VDJ-B            |\n",
       "| CV10 | SRR26844711 | /camp/home/hungm/scratch/hungm/matthew/MH_GSE247917/raw_fastq/ | any | Antibody Capture |\n",
       "| CV12 | SRR26844884 | /camp/home/hungm/scratch/hungm/matthew/MH_GSE247917/raw_fastq/ | any | VDJ-T-GD         |\n",
       "| CV12 | SRR26844885 | /camp/home/hungm/scratch/hungm/matthew/MH_GSE247917/raw_fastq/ | any | VDJ-T            |\n",
       "| CV12 | SRR26844886 | /camp/home/hungm/scratch/hungm/matthew/MH_GSE247917/raw_fastq/ | any | Gene Expression  |\n",
       "| CV12 | SRR26844887 | /camp/home/hungm/scratch/hungm/matthew/MH_GSE247917/raw_fastq/ | any | VDJ-B            |\n",
       "| CV12 | SRR26844888 | /camp/home/hungm/scratch/hungm/matthew/MH_GSE247917/raw_fastq/ | any | Antibody Capture |\n",
       "\n"
      ],
      "text/plain": [
       "   id   fastq_id   \n",
       "1  CV10 SRR26844707\n",
       "2  CV10 SRR26844708\n",
       "3  CV10 SRR26844709\n",
       "4  CV10 SRR26844710\n",
       "5  CV10 SRR26844711\n",
       "6  CV12 SRR26844884\n",
       "7  CV12 SRR26844885\n",
       "8  CV12 SRR26844886\n",
       "9  CV12 SRR26844887\n",
       "10 CV12 SRR26844888\n",
       "   fastqs                                                         lanes\n",
       "1  /camp/home/hungm/scratch/hungm/matthew/MH_GSE247917/raw_fastq/ any  \n",
       "2  /camp/home/hungm/scratch/hungm/matthew/MH_GSE247917/raw_fastq/ any  \n",
       "3  /camp/home/hungm/scratch/hungm/matthew/MH_GSE247917/raw_fastq/ any  \n",
       "4  /camp/home/hungm/scratch/hungm/matthew/MH_GSE247917/raw_fastq/ any  \n",
       "5  /camp/home/hungm/scratch/hungm/matthew/MH_GSE247917/raw_fastq/ any  \n",
       "6  /camp/home/hungm/scratch/hungm/matthew/MH_GSE247917/raw_fastq/ any  \n",
       "7  /camp/home/hungm/scratch/hungm/matthew/MH_GSE247917/raw_fastq/ any  \n",
       "8  /camp/home/hungm/scratch/hungm/matthew/MH_GSE247917/raw_fastq/ any  \n",
       "9  /camp/home/hungm/scratch/hungm/matthew/MH_GSE247917/raw_fastq/ any  \n",
       "10 /camp/home/hungm/scratch/hungm/matthew/MH_GSE247917/raw_fastq/ any  \n",
       "   feature_types   \n",
       "1  VDJ-T-GD        \n",
       "2  VDJ-T           \n",
       "3  Gene Expression \n",
       "4  VDJ-B           \n",
       "5  Antibody Capture\n",
       "6  VDJ-T-GD        \n",
       "7  VDJ-T           \n",
       "8  Gene Expression \n",
       "9  VDJ-B           \n",
       "10 Antibody Capture"
      ]
     },
     "metadata": {},
     "output_type": "display_data"
    }
   ],
   "source": [
    "## modify sra metadata\n",
    "sra <- sra %>%\n",
    "    mutate(feature_types = case_when(\n",
    "        library_type == \"GEX\" ~ \"Gene Expression\", \n",
    "        library_type == \"ADT\" ~ \"Antibody Capture\", \n",
    "        library_type == \"BCR\" ~ \"VDJ-B\", \n",
    "        library_type == \"TCRab\" ~ \"VDJ-T\", \n",
    "        library_type == \"TCRgd\" ~ \"VDJ-T-GD\")) %>%\n",
    "    mutate(\n",
    "        id = ifelse(BioProject == \"PRJNA1040901\", \"CV10\", \"CV12\"),\n",
    "        fastq_id = Run,\n",
    "        fastqs = \"/camp/home/hungm/scratch/hungm/matthew/MH_GSE247917/raw_fastq/\",\n",
    "        lanes = \"any\") %>%\n",
    "    select(id, fastq_id, fastqs, lanes, feature_types)\n",
    "sra"
   ]
  },
  {
   "cell_type": "code",
   "execution_count": 10,
   "metadata": {
    "vscode": {
     "languageId": "r"
    }
   },
   "outputs": [],
   "source": [
    "## save dataframe as library.csv\n",
    "outputdir <- \"/camp/home/hungm/scratch/hungm/matthew/MH_GSE247917/logs/input/\"\n",
    "for(x in unique(sra$id)){\n",
    "    sra %>%\n",
    "        filter(id == x) %>%\n",
    "        select(!id) %>%\n",
    "        write.table(., paste0(outputdir, x, \"_library.csv\"), col.names = F, row.names = F, quote = F, sep = \",\")}"
   ]
  },
  {
   "cell_type": "code",
   "execution_count": 11,
   "metadata": {
    "vscode": {
     "languageId": "r"
    }
   },
   "outputs": [
    {
     "name": "stdout",
     "output_type": "stream",
     "text": [
      "\u001b[38;5;33m/camp/home/hungm/scratch/hungm/matthew/MH_GSE247917/logs/input/\u001b[0m\n",
      "├── CV10_feature_reference.csv\n",
      "├── CV10_library.csv\n",
      "├── CV12_feature_reference.csv\n",
      "├── CV12_library.csv\n",
      "├── \u001b[38;5;40mGSE247910_ADT_HTO_details_README.txt\u001b[0m\n",
      "├── \u001b[38;5;40mGSE247912_ADT_HTO_details_README.txt\u001b[0m\n",
      "├── SRR_Acc_List.txt\n",
      "└── \u001b[38;5;40mSraRunTable.txt\u001b[0m\n"
     ]
    }
   ],
   "source": [
    "fs::dir_tree(path = \"/camp/home/hungm/scratch/hungm/matthew/MH_GSE247917/logs/input/\")"
   ]
  },
  {
   "cell_type": "markdown",
   "metadata": {
    "vscode": {
     "languageId": "r"
    }
   },
   "source": [
    "### <font color='grey'>Step6 -</font> batch.sh {.unnumbered}\n",
    "Next we will need to create and modify each individual multi.sh and config.csv file for each sequencing sample, which can be done by running the \"batch.sh\" script. The script will perform the following :  \n",
    "> 1. make a subdirectory for each sequencing sample in a pre-defined cellranger log directory.\n",
    "> 2. copy \"multi.sh\" script into each sequencing sample subdirectory and modify cellranger output directory when multi.sh is ran\n",
    "> 3. copy \"config.csv\" file into  each sequencing sample subdirectory and add \"library.csv\" and \"feature_reference.csv\" contents to \"config.csv\""
   ]
  },
  {
   "cell_type": "code",
   "execution_count": 16,
   "metadata": {
    "vscode": {
     "languageId": "r"
    }
   },
   "outputs": [
    {
     "name": "stdout",
     "output_type": "stream",
     "text": [
      "export accession=/matthew/MH_GSE247917/\n",
      "\n",
      "# setup all scripts in this cellranger log directory\n",
      "mkdir -p /camp/home/hungm/scratch/hungm/${accession}/logs/cellranger\n",
      "\n",
      "# for each sample name in batch_id.txt\n",
      "while IFS= read -r id;\n",
      "do mkdir -p /camp/home/hungm/scratch/hungm/${accession}/logs/cellranger/${id}\n",
      "\n",
      "   # copy essential files\n",
      "   cp -r /camp/home/hungm/nemo-pipelines/scrnaseq/cellranger/multi.sh /camp/home/hungm/scratch/hungm/${accession}/logs/cellranger/${id}/\n",
      "   cp -r /camp/home/hungm/nemo-pipelines/scrnaseq/cellranger/config.csv /camp/home/hungm/scratch/hungm/${accession}/logs/cellranger/${id}/\n",
      "   cp -r /camp/home/hungm/nemo-pipelines/scrnaseq/cellranger/batch* /camp/home/hungm/scratch/hungm/${accession}/logs/cellranger/\n",
      "\n",
      "   # set up cellranger output directories\n",
      "   sed -i \"11s|.*|export accession=$accession|\" /camp/home/hungm/scratch/hungm/${accession}/logs/cellranger/${id}/multi.sh\n",
      "   sed -i \"12s|.*|export sample=$id|\" /camp/home/hungm/scratch/hungm/${accession}/logs/cellranger/${id}/multi.sh\n",
      "\n",
      "   # add library details from _library.csv to config.csv\n",
      "   csv1=\"/camp/home/hungm/scratch/hungm/${accession}/logs/input/${id}_library.csv\"\n",
      "   sed -i '38r '\"$csv1\"'' /camp/home/hungm/scratch/hungm/${accession}/logs/cellranger/${id}/config.csv\n",
      "\n",
      "   # specify feature barcoding path in config.csv\n",
      "   replacement=\"reference,/camp/home/hungm/scratch/hungm/$accession/logs/input/${id}_feature_reference.csv\"\n",
      "   sed -i \"26s|.*|$replacement|\" /camp/home/hungm/scratch/hungm/${accession}/logs/cellranger/${id}/config.csv;\n",
      "done < /camp/home/hungm/nemo-pipelines/scrnaseq/cellranger/batch_id.txt\n",
      "\n",
      "#########################\n",
      "### batch submit jobs ###\n",
      "#########################\n",
      "# sbatch */multi.sh\n",
      "\n",
      "#while IFS= read -r id;\n",
      "#do sbatch ${id}/multi.sh;\n",
      "#done < /camp/home/hungm/nemo-pipelines/scrnaseq/cellranger/batch_id.txt\n",
      "\n",
      "#while IFS= read -r id;\n",
      "#do rm -r /camp/home/hungm/scratch/hungm/${accession}/cellranger/${id};\n",
      "#done < /camp/home/hungm/nemo-pipelines/scrnaseq/cellranger/batch_id.txt\n"
     ]
    }
   ],
   "source": [
    "cat_content('/camp/home/hungm/nemo-pipelines/scrnaseq/cellranger/batch.sh')"
   ]
  },
  {
   "cell_type": "code",
   "execution_count": 25,
   "metadata": {
    "vscode": {
     "languageId": "r"
    }
   },
   "outputs": [
    {
     "name": "stdout",
     "output_type": "stream",
     "text": [
      "\u001b[38;5;33m/camp/home/hungm/scratch/hungm/matthew/MH_GSE247917/logs/cellranger\u001b[0m\n",
      "├── \u001b[38;5;33mCV10\u001b[0m\n",
      "│   ├── \u001b[38;5;40mconfig.csv\u001b[0m\n",
      "│   └── \u001b[38;5;40mmulti.sh\u001b[0m\n",
      "├── \u001b[38;5;33mCV12\u001b[0m\n",
      "│   ├── \u001b[38;5;40mconfig.csv\u001b[0m\n",
      "│   └── \u001b[38;5;40mmulti.sh\u001b[0m\n",
      "├── \u001b[38;5;40mbatch.sh\u001b[0m\n",
      "└── \u001b[38;5;40mbatch_id.txt\u001b[0m\n"
     ]
    }
   ],
   "source": [
    "## execute batch.sh script\n",
    "system(\"source /camp/home/hungm/nemo-pipelines/scrnaseq/cellranger/batch.sh\")\n",
    "fs::dir_tree(path = \"/camp/home/hungm/scratch/hungm/matthew/MH_GSE247917/logs/cellranger\")"
   ]
  },
  {
   "cell_type": "code",
   "execution_count": 18,
   "metadata": {
    "vscode": {
     "languageId": "r"
    }
   },
   "outputs": [
    {
     "name": "stdout",
     "output_type": "stream",
     "text": [
      "# This template shows the possible cellranger multi config CSV options for analyzing Single Cell Gene Expression with Feature Barcode Technology (Antibody Capture, CRISPR Guide Capture, Cell Multiplexing, Antigen Capture), Fixed RNA Profiling, or Single Cell Immune Profiling data. \n",
      "# These options cannot be used all together - see section descriptions for detail.\n",
      "# Use 'cellranger multi-template --parameters' to see descriptions of all parameters.\n",
      "\n",
      "[gene-expression]\n",
      "reference,/camp/svc/reference/Genomics/10x/10x_transcriptomes/refdata-gex-mm10-2020-A\n",
      "create-bam,true\n",
      "# probe-set,/path/to/probe/set, # Required, Fixed RNA Profiling only. \n",
      "# filter-probes,<true|false>, # Optional, Fixed RNA Profiling only. \n",
      "# r1-length,<int>\n",
      "# r2-length,<int>\n",
      "# chemistry,SC5P-R2\n",
      "# expect-cells,<auto>\n",
      "# force-cells,<auto>\n",
      "# no-secondary,<true|false>\n",
      "# no-bam,<true|false>\n",
      "# check-library-compatibility,<true|false>\n",
      "# target-panel,/path/to/target/panel, # Required, Targeted GEX only.\n",
      "# no-target-umi-filter,<true|false>, # Optional, Targeted GEX only.\n",
      "# include-introns,<true|false>\n",
      "# min-assignment-confidence,<0.9>, # Optional, Cell Multiplexing only.\n",
      "# cmo-set,/path/to/CMO/reference, # Optional, Cell Multiplexing only.\n",
      "# barcode-sample-assignment,/path/to/barcode-sample-assignment/csv, # Optional, Cell Multiplexing only.\n",
      "\n",
      "[feature] # For Feature Barcode libraries only\n",
      "reference,/camp/home/hungm/scratch/hungm//matthew/MH_GSE247917//logs/input/CV12_feature_reference.csv\n",
      "# r1-length,<int>\n",
      "# r2-length,<int>\n",
      "\n",
      "[vdj] # For TCR and BCR libraries only\n",
      "reference,/camp/svc/reference/Genomics/10x/10x_transcriptomes/refdata-cellranger-vdj-GRCm38-alts-ensembl-7.0.0\n",
      "# inner-enrichment-primers,/camp/home/hungm/nemo-pipelines/scrnaseq/cellranger/tcrgd_primers.txt\n",
      "# inner-enrichment-primers,/path/to/primers\n",
      "# r1-length,<int>\n",
      "# r2-length,<int>\n",
      "\n",
      "[libraries]\n",
      "fastq_id,fastqs,lanes,feature_types\n",
      "SRR26844884,/camp/home/hungm/scratch/hungm/matthew/MH_GSE247917/raw_fastq/,any,VDJ-T-GD\n",
      "SRR26844885,/camp/home/hungm/scratch/hungm/matthew/MH_GSE247917/raw_fastq/,any,VDJ-T\n",
      "SRR26844886,/camp/home/hungm/scratch/hungm/matthew/MH_GSE247917/raw_fastq/,any,Gene Expression\n",
      "SRR26844887,/camp/home/hungm/scratch/hungm/matthew/MH_GSE247917/raw_fastq/,any,VDJ-B\n",
      "SRR26844888,/camp/home/hungm/scratch/hungm/matthew/MH_GSE247917/raw_fastq/,any,Antibody Capture\n",
      "\n",
      "\n",
      "# Antibody1,/path/to/fastqs,Antibody Capture\n",
      "# CRISPR1,path/to/CRISPR_fastqs,CRISPR Guide Capture\n",
      "# CMO1,/path/to/fastqs,Multiplexing Capture, # Cell Multiplexing only\n",
      "# VDJ_T1,path/to/vdj_T_fastqs,VDJ-T, # 5' Immune Profiling only\n",
      "# VDJ_T_GD1,path/to/vdj_T_GD_fastqs,VDJ-T-GD, # 5' Immune Profiling only for gamma-delta TCR\n",
      "# Antigen1,path/to/antigen_capture_fastqs,Antigen Capture #5' Antigen Capture only\n",
      "\n",
      "#[antigen-specificity] # for 5' BCR/TCR Antigen Capture only\n",
      "#control_id,mhc_allele\n",
      "#Antigen1,AG001\n",
      "#Antigen2,AG002\n",
      "\n",
      "#[samples] # for Cell Multiplexing libraries only\n",
      "#sample_id,cmo_ids\n",
      "#sample1,CMO301\n",
      "#sample2,CMO303\n",
      "\n",
      "#[samples] # for Fixed RNA Profiling multiplexed libraries only\n",
      "#sample_id,probe_barcode_ids,description\n",
      "#sample1,BC001,Control\n",
      "#sample2,BC003,Treated\n",
      "\n",
      "#reference,/camp/svc/reference/Genomics/10x/10x_transcriptomes/refdata-gex-mm10-2020-A\n",
      "#reference,/camp/svc/reference/Genomics/10x/10x_transcriptomes/refdata-cellranger-vdj-GRCm38-alts-ensembl-7.0.0\n",
      "#reference,/camp/svc/reference/Genomics/10x/10x_transcriptomes/refdata-gex-GRCh38-2020-A\n",
      "#reference,/camp/svc/reference/Genomics/10x/10x_transcriptomes/refdata-cellranger-vdj-GRCh38-alts-ensembl-7.1.0\n"
     ]
    }
   ],
   "source": [
    "cat_content(\"/camp/home/hungm/scratch/hungm/matthew/MH_GSE247917/logs/cellranger/CV12/config.csv\")"
   ]
  },
  {
   "cell_type": "markdown",
   "metadata": {
    "vscode": {
     "languageId": "r"
    }
   },
   "source": [
    "### <font color='grey'>Step7 -</font> multi.sh {.unnumbered}\n",
    "After confirming that all the files are properly set up, we can run the multi.sh scripts for each sequencing sample."
   ]
  },
  {
   "cell_type": "code",
   "execution_count": 19,
   "metadata": {
    "vscode": {
     "languageId": "r"
    }
   },
   "outputs": [
    {
     "name": "stdout",
     "output_type": "stream",
     "text": [
      "#!/bin/bash\n",
      "#SBATCH --job-name=cellranger-multi\n",
      "#SBATCH --ntasks=32\n",
      "#SBATCH --cpus-per-task=1\n",
      "#SBATCH --time=7-00:00:0\n",
      "#SBATCH --mem=250G\n",
      "#SBATCH --partition=ncpu\n",
      "#SBATCH --mail-type=END,FAIL\n",
      "#SBATCH --mail-user=matthew.hung@crick.ac.uk\n",
      "\n",
      "export accession=/matthew/MH_GSE247917/\n",
      "export sample=CV12\n",
      "mkdir -p /camp/home/hungm/scratch/hungm/${accession}/cellranger\n",
      "exec > /camp/home/hungm/scratch/hungm/${accession}/logs/cellranger/${sample}/multi.log 2>&1\n",
      "rm -r /camp/home/hungm/scratch/hungm/${accession}/logs/cellranger/slurm*\n",
      "\n",
      "cd /camp/home/hungm/scratch/hungm/${accession}/cellranger\n",
      "#module load CellRanger/7.1.0\n",
      "module load CellRanger/8.0.0\n",
      "cellranger multi --id=${sample} \\\n",
      "\t\t --csv=/camp/home/hungm/scratch/hungm/${accession}/logs/cellranger/${sample}/config.csv \\\n",
      "                 --localmem=200 \\\n",
      "                 --localcores=30\n",
      "\n"
     ]
    }
   ],
   "source": [
    "cat_content(\"/camp/home/hungm/scratch/hungm/matthew/MH_GSE247917/logs/cellranger/CV12/multi.sh\")"
   ]
  },
  {
   "cell_type": "code",
   "execution_count": 27,
   "metadata": {
    "vscode": {
     "languageId": "r"
    }
   },
   "outputs": [],
   "source": [
    "system(\"cd /camp/home/hungm/scratch/hungm/matthew/MH_GSE247917/logs/cellranger/; sbatch CV10/multi.sh\")\n",
    "system(\"cd /camp/home/hungm/scratch/hungm/matthew/MH_GSE247917/logs/cellranger/; sbatch CV12/multi.sh\")"
   ]
  },
  {
   "cell_type": "code",
   "execution_count": 35,
   "metadata": {
    "vscode": {
     "languageId": "r"
    }
   },
   "outputs": [
    {
     "name": "stdout",
     "output_type": "stream",
     "text": [
      "Martian Runtime - v4.0.10\n",
      "Serving UI at http://cn013:38301?auth=iqpNquUSp17wjSrHixYSvDF7N_9DdLUSl-8oqgz5S04\n",
      "\n",
      "Running preflight checks (please wait)...\n",
      "2024-09-02 20:15:48 [runtime] (ready)           ID.CV12.SC_MULTI_CS.PARSE_MULTI_CONFIG\n",
      "2024-09-02 20:15:48 [runtime] (run:local)       ID.CV12.SC_MULTI_CS.PARSE_MULTI_CONFIG.fork0.chnk0.main\n",
      "2024-09-02 20:16:05 [runtime] (chunks_complete) ID.CV12.SC_MULTI_CS.PARSE_MULTI_CONFIG\n",
      "2024-09-02 20:16:05 [runtime] (ready)           ID.CV12.SC_MULTI_CS.FULL_COUNT_INPUTS.WRITE_GENE_INDEX\n",
      "2024-09-02 20:16:05 [runtime] (run:local)       ID.CV12.SC_MULTI_CS.FULL_COUNT_INPUTS.WRITE_GENE_INDEX.fork0.chnk0.main\n",
      "2024-09-02 20:16:05 [runtime] (ready)           ID.CV12.SC_MULTI_CS.SC_MULTI_CORE.MULTI_CHEMISTRY_DETECTOR._GEM_WELL_CHEMISTRY_DETECTOR.DETECT_COUNT_CHEMISTRY\n",
      "2024-09-02 20:16:05 [runtime] (run:local)       ID.CV12.SC_MULTI_CS.SC_MULTI_CORE.MULTI_CHEMISTRY_DETECTOR._GEM_WELL_CHEMISTRY_DETECTOR.DETECT_COUNT_CHEMISTRY.fork0.chnk0.main\n",
      "2024-09-02 20:16:05 [runtime] (ready)           ID.CV12.SC_MULTI_CS.SC_MULTI_CORE.MULTI_WEBSUMMARY_BUILDER.BUILD_MULTI_GRAPH_VIEW\n",
      "2024-09-02 20:16:05 [runtime] (run:local)       ID.CV12.SC_MULTI_CS.SC_MULTI_CORE.MULTI_WEBSUMMARY_BUILDER.BUILD_MULTI_GRAPH_VIEW.fork0.chnk0.main\n",
      "2024-09-02 20:16:05 [runtime] (ready)           ID.CV12.SC_MULTI_CS.SC_MULTI_CORE.MULTI_CHEMISTRY_DETECTOR._GEM_WELL_CHEMISTRY_DETECTOR.VDJ_CHEMISTRY_DETECTOR.DETECT_CHEMISTRY.fork0_fork0\n",
      "2024-09-02 20:16:05 [runtime] (run:local)       ID.CV12.SC_MULTI_CS.SC_MULTI_CORE.MULTI_CHEMISTRY_DETECTOR._GEM_WELL_CHEMISTRY_DETECTOR.VDJ_CHEMISTRY_DETECTOR.DETECT_CHEMISTRY.fork0_fork0.chnk0.main\n",
      "2024-09-02 20:16:05 [runtime] (ready)           ID.CV12.SC_MULTI_CS.SC_MULTI_CORE.MULTI_CHEMISTRY_DETECTOR._GEM_WELL_CHEMISTRY_DETECTOR.VDJ_CHEMISTRY_DETECTOR.DETECT_CHEMISTRY.fork0_fork1\n",
      "2024-09-02 20:16:05 [runtime] (run:local)       ID.CV12.SC_MULTI_CS.SC_MULTI_CORE.MULTI_CHEMISTRY_DETECTOR._GEM_WELL_CHEMISTRY_DETECTOR.VDJ_CHEMISTRY_DETECTOR.DETECT_CHEMISTRY.fork0_fork1.chnk0.main\n",
      "2024-09-02 20:16:05 [runtime] (ready)           ID.CV12.SC_MULTI_CS.SC_MULTI_CORE.MULTI_CHEMISTRY_DETECTOR._GEM_WELL_CHEMISTRY_DETECTOR.VDJ_CHEMISTRY_DETECTOR.DETECT_CHEMISTRY.fork0_fork2\n",
      "2024-09-02 20:16:05 [runtime] (run:local)       ID.CV12.SC_MULTI_CS.SC_MULTI_CORE.MULTI_CHEMISTRY_DETECTOR._GEM_WELL_CHEMISTRY_DETECTOR.VDJ_CHEMISTRY_DETECTOR.DETECT_CHEMISTRY.fork0_fork2.chnk0.main\n",
      "2024-09-02 20:16:06 [runtime] (chunks_complete) ID.CV12.SC_MULTI_CS.SC_MULTI_CORE.MULTI_WEBSUMMARY_BUILDER.BUILD_MULTI_GRAPH_VIEW\n"
     ]
    }
   ],
   "source": [
    "cat_content(\"/camp/home/hungm/scratch/hungm/matthew/MH_GSE247917/logs/cellranger/CV12/multi.log\", n=20)"
   ]
  },
  {
   "cell_type": "markdown",
   "metadata": {
    "vscode": {
     "languageId": "r"
    }
   },
   "source": [
    "## Session Info {.unnumbered}"
   ]
  },
  {
   "cell_type": "code",
   "execution_count": 252,
   "metadata": {
    "vscode": {
     "languageId": "r"
    }
   },
   "outputs": [
    {
     "data": {
      "text/plain": [
       "R version 4.3.2 (2023-10-31)\n",
       "Platform: x86_64-conda-linux-gnu (64-bit)\n",
       "Running under: Rocky Linux 8.7 (Green Obsidian)\n",
       "\n",
       "Matrix products: default\n",
       "BLAS/LAPACK: /nemo/lab/caladod/working/Matthew/.conda/envs/seurat5/lib/libopenblasp-r0.3.23.so;  LAPACK version 3.11.0\n",
       "\n",
       "locale:\n",
       " [1] LC_CTYPE=en_GB.UTF-8       LC_NUMERIC=C              \n",
       " [3] LC_TIME=en_GB.UTF-8        LC_COLLATE=en_GB.UTF-8    \n",
       " [5] LC_MONETARY=en_GB.UTF-8    LC_MESSAGES=en_GB.UTF-8   \n",
       " [7] LC_PAPER=en_GB.UTF-8       LC_NAME=C                 \n",
       " [9] LC_ADDRESS=C               LC_TELEPHONE=C            \n",
       "[11] LC_MEASUREMENT=en_GB.UTF-8 LC_IDENTIFICATION=C       \n",
       "\n",
       "time zone: Europe/London\n",
       "tzcode source: system (glibc)\n",
       "\n",
       "attached base packages:\n",
       "[1] stats     graphics  grDevices utils     datasets  methods   base     \n",
       "\n",
       "other attached packages:\n",
       " [1] lubridate_1.9.3 forcats_1.0.0   stringr_1.5.0   dplyr_1.1.4    \n",
       " [5] purrr_1.0.2     readr_2.1.4     tidyr_1.3.0     tibble_3.2.1   \n",
       " [9] ggplot2_3.5.1   tidyverse_2.0.0 knitr_1.45     \n",
       "\n",
       "loaded via a namespace (and not attached):\n",
       " [1] gtable_0.3.4      jsonlite_1.8.7    compiler_4.3.2    crayon_1.5.2     \n",
       " [5] tidyselect_1.2.0  IRdisplay_1.1     scales_1.3.0      uuid_1.1-1       \n",
       " [9] fastmap_1.1.1     IRkernel_1.3.2    R6_2.5.1          generics_0.1.3   \n",
       "[13] munsell_0.5.0     pillar_1.9.0      tzdb_0.4.0        rlang_1.1.3      \n",
       "[17] utf8_1.2.4        stringi_1.7.12    repr_1.1.6        xfun_0.41        \n",
       "[21] fs_1.6.3          timechange_0.2.0  cli_3.6.1         withr_2.5.2      \n",
       "[25] magrittr_2.0.3    digest_0.6.33     grid_4.3.2        base64enc_0.1-3  \n",
       "[29] hms_1.1.3         pbdZMQ_0.3-9      lifecycle_1.0.3   vctrs_0.6.4      \n",
       "[33] evaluate_0.23     glue_1.6.2        fansi_1.0.5       colorspace_2.1-0 \n",
       "[37] tools_4.3.2       pkgconfig_2.0.3   htmltools_0.5.6.1"
      ]
     },
     "metadata": {},
     "output_type": "display_data"
    }
   ],
   "source": [
    "sessionInfo()"
   ]
  },
  {
   "cell_type": "code",
   "execution_count": null,
   "metadata": {
    "vscode": {
     "languageId": "r"
    }
   },
   "outputs": [],
   "source": []
  }
 ],
 "metadata": {
  "kernelspec": {
   "display_name": "R",
   "language": "R",
   "name": "ir"
  },
  "language_info": {
   "codemirror_mode": "r",
   "file_extension": ".r",
   "mimetype": "text/x-r-source",
   "name": "R",
   "pygments_lexer": "r",
   "version": "4.3.2"
  }
 },
 "nbformat": 4,
 "nbformat_minor": 2
}
