{
 "cells": [
  {
   "cell_type": "raw",
   "metadata": {
    "vscode": {
     "languageId": "raw"
    }
   },
   "source": [
    "---\n",
    "title: RNA Contamination\n",
    "author: \n",
    "    - name: \"Matthew Hung\"\n",
    "date: last-modified\n",
    "date-format: iso\n",
    "format:\n",
    "    html:\n",
    "        toc: true\n",
    "        toc-expand: 1\n",
    "        number-sections: true\n",
    "        number-offset: 3\n",
    "---"
   ]
  },
  {
   "cell_type": "markdown",
   "metadata": {},
   "source": [
    "## Motivation {.unnumbered}\n",
    "\n"
   ]
  },
  {
   "cell_type": "code",
   "execution_count": 2,
   "metadata": {
    "vscode": {
     "languageId": "r"
    }
   },
   "outputs": [],
   "source": [
    "## set up environment\n",
    "suppressMessages({\n",
    "source(\"/camp/home/hungm/working/Matthew/library/R/functions/Seurat/processing.R\")\n",
    "source(\"/camp/home/hungm/working/Matthew/library/R/functions/Seurat/plotting.R\")\n",
    "setwd(\"/nemo/lab/caladod/working/Matthew/project/matthew/MH_GSE155224\")})\n",
    "\n",
    "## import seurat objects\n",
    "obj <- qread(\"seurat/20240826_GSE155224_doublets.qs\")"
   ]
  },
  {
   "cell_type": "markdown",
   "metadata": {},
   "source": [
    "## Calculate Gene Fractions {#sec-calculate_gene_fractions}\n",
    "  \n",
    "The function below will perform the calculations of key quality control parameters for every cell but will not filter any cells yet. This is done by calculating the no. of selected reads over the no. of total reads for every cell."
   ]
  },
  {
   "cell_type": "code",
   "execution_count": null,
   "metadata": {
    "vscode": {
     "languageId": "r"
    }
   },
   "outputs": [],
   "source": [
    "# run calculate gene fractions if haven't done so already\n",
    "obj <- calculate_fractions(obj)"
   ]
  },
  {
   "cell_type": "code",
   "execution_count": 7,
   "metadata": {
    "vscode": {
     "languageId": "r"
    }
   },
   "outputs": [
    {
     "data": {
      "text/plain": [
       "$filtered_matrix_1\n",
       "An object of class Seurat \n",
       "17895 features across 7502 samples within 3 assays \n",
       "Active assay: RNA (17697 features, 2000 variable features)\n",
       " 3 layers present: scale.data, data, counts\n",
       " 2 other assays present: HTO, ADT\n",
       " 3 dimensional reductions calculated: pca, harmony, umap\n",
       "\n",
       "$filtered_matrix_2\n",
       "An object of class Seurat \n",
       "17895 features across 8227 samples within 3 assays \n",
       "Active assay: RNA (17697 features, 2000 variable features)\n",
       " 3 layers present: scale.data, data, counts\n",
       " 2 other assays present: HTO, ADT\n",
       " 3 dimensional reductions calculated: pca, harmony, umap\n"
      ]
     },
     "metadata": {},
     "output_type": "display_data"
    }
   ],
   "source": [
    "obj_list <- SplitObject(obj, split.by = \"samples\")\n",
    "obj_list"
   ]
  },
  {
   "cell_type": "code",
   "execution_count": null,
   "metadata": {
    "vscode": {
     "languageId": "r"
    }
   },
   "outputs": [],
   "source": [
    "for(x in seq_along(obj_list)){\n",
    "    obj_list[[x]] <- run_decontx(obj_list[[x]], raw.dir = dir[x], cluster = \"seurat_clusters\")}"
   ]
  },
  {
   "cell_type": "code",
   "execution_count": 6,
   "metadata": {
    "vscode": {
     "languageId": "r"
    }
   },
   "outputs": [],
   "source": [
    "run_decontx <- function(x, raw.dir, cluster = NULL, assay = \"RNA\", feature.type = \"Gene Expression\"){\n",
    "    toc <- x[[assay]]$counts\n",
    "    tod <- Read10X(raw.dir)[[feature.type]]\n",
    "    output <- decontX(toc, background = tod, z = cluster, delta = c(10, 10), estimateDelta = FALSE)\n",
    "\n",
    "    ## add contamination score\n",
    "    score <- data.frame(sc.decontx = output$contamination)\n",
    "    rownames(score) <- colnames(output$decontXcounts)\n",
    "    x <- AddMetaData(x, score)\n",
    "\n",
    "    ## add decontaminated counts\n",
    "    rna.clean <- as(output$decontXcounts[,colnames(x)], \"sparseMatrix\")\n",
    "    x[[\"DX\"]] <- CreateAssay5Object(counts = rna.clean, min.cells = 0, min.features = 0)\n",
    "    \n",
    "    return(x)\n",
    "    }"
   ]
  }
 ],
 "metadata": {
  "kernelspec": {
   "display_name": "R",
   "language": "R",
   "name": "ir"
  },
  "language_info": {
   "codemirror_mode": "r",
   "file_extension": ".r",
   "mimetype": "text/x-r-source",
   "name": "R",
   "pygments_lexer": "r",
   "version": "4.3.2"
  }
 },
 "nbformat": 4,
 "nbformat_minor": 2
}
