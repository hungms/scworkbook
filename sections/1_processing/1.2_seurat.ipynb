{
 "cells": [
  {
   "cell_type": "raw",
   "metadata": {
    "vscode": {
     "languageId": "raw"
    }
   },
   "source": [
    "---\n",
    "title: Seurat Object\n",
    "author: \n",
    "    - name: \"Matthew Hung\"\n",
    "date: last-modified\n",
    "format:\n",
    "    html:\n",
    "        toc: true\n",
    "        toc-expand: 1\n",
    "        number-sections: true\n",
    "        number-offset: 3\n",
    "---"
   ]
  },
  {
   "cell_type": "markdown",
   "metadata": {
    "vscode": {
     "languageId": "raw"
    }
   },
   "source": [
    "## Motivation {.unnumbered}\n",
    "Single cell omic analysis can be done on both R or Python. There currently exists a few packages to format, process & analyse scRNAseq data, namely Seurat (V5) [[Hao et al.; 2023]](https://www.nature.com/articles/s41587-023-01767-y), Scanpy [[Wolf et al.; 2018]](https://genomebiology.biomedcentral.com/articles/10.1186/s13059-017-1382-0), SingleCellExperiment [[Amezquita et al.; 2019]](https://www.nature.com/articles/s41592-019-0654-x), Scran [[Lun et al.; 2016]](https://f1000research.com/articles/5-2122/v2). In this tutorial we will focus on using Seurat (V5) due to its comprehensive functionality to handle multimodal datasets and interoperability with other data formats. For larger datasets (>100k cells), we recommend using Scanpy to speed up the processing time."
   ]
  },
  {
   "cell_type": "code",
   "execution_count": 1,
   "metadata": {
    "vscode": {
     "languageId": "r"
    }
   },
   "outputs": [
    {
     "name": "stderr",
     "output_type": "stream",
     "text": [
      "Warning message:\n",
      "“replacing previous import ‘cowplot::get_legend’ by ‘ggpubr::get_legend’ when loading ‘scUnify’”\n",
      "Warning message:\n",
      "“replacing previous import ‘cowplot::align_plots’ by ‘patchwork::align_plots’ when loading ‘scUnify’”\n",
      "Warning message:\n",
      "“replacing previous import ‘biomaRt::select’ by ‘rstatix::select’ when loading ‘scUnify’”\n",
      "Warning message:\n",
      "“replacing previous import ‘scales::viridis_pal’ by ‘viridis::viridis_pal’ when loading ‘scUnify’”\n"
     ]
    }
   ],
   "source": [
    "## set up environment\n",
    "suppressMessages({\n",
    "library(scUnify)\n",
    "setwd(\"/nemo/lab/caladod/working/Matthew/project/matthew/MH_GSE247917\")})"
   ]
  },
  {
   "cell_type": "markdown",
   "metadata": {
    "vscode": {
     "languageId": "raw"
    }
   },
   "source": [
    "## Import CellRanger Outputs\n",
    "Now we will import the outputs from cellranger-multi as a Seurat object. We will first need to specify a cellranger-multi output directory and a sample name for each sequencing run."
   ]
  },
  {
   "cell_type": "code",
   "execution_count": 4,
   "metadata": {
    "vscode": {
     "languageId": "r"
    }
   },
   "outputs": [
    {
     "data": {
      "text/html": [
       "<style>\n",
       ".list-inline {list-style: none; margin:0; padding: 0}\n",
       ".list-inline>li {display: inline-block}\n",
       ".list-inline>li:not(:last-child)::after {content: \"\\00b7\"; padding: 0 .5ex}\n",
       "</style>\n",
       "<ol class=list-inline><li>'/nemo/lab/caladod/scratch/hungm/matthew/MH_GSE247917/cellranger/CV10/outs/per_sample_outs/CV10/count/sample_filtered_feature_bc_matrix/'</li><li>'/nemo/lab/caladod/scratch/hungm/matthew/MH_GSE247917/cellranger/CV12/outs/per_sample_outs/CV12/count/sample_filtered_feature_bc_matrix/'</li></ol>\n"
      ],
      "text/latex": [
       "\\begin{enumerate*}\n",
       "\\item '/nemo/lab/caladod/scratch/hungm/matthew/MH\\_GSE247917/cellranger/CV10/outs/per\\_sample\\_outs/CV10/count/sample\\_filtered\\_feature\\_bc\\_matrix/'\n",
       "\\item '/nemo/lab/caladod/scratch/hungm/matthew/MH\\_GSE247917/cellranger/CV12/outs/per\\_sample\\_outs/CV12/count/sample\\_filtered\\_feature\\_bc\\_matrix/'\n",
       "\\end{enumerate*}\n"
      ],
      "text/markdown": [
       "1. '/nemo/lab/caladod/scratch/hungm/matthew/MH_GSE247917/cellranger/CV10/outs/per_sample_outs/CV10/count/sample_filtered_feature_bc_matrix/'\n",
       "2. '/nemo/lab/caladod/scratch/hungm/matthew/MH_GSE247917/cellranger/CV12/outs/per_sample_outs/CV12/count/sample_filtered_feature_bc_matrix/'\n",
       "\n",
       "\n"
      ],
      "text/plain": [
       "[1] \"/nemo/lab/caladod/scratch/hungm/matthew/MH_GSE247917/cellranger/CV10/outs/per_sample_outs/CV10/count/sample_filtered_feature_bc_matrix/\"\n",
       "[2] \"/nemo/lab/caladod/scratch/hungm/matthew/MH_GSE247917/cellranger/CV12/outs/per_sample_outs/CV12/count/sample_filtered_feature_bc_matrix/\""
      ]
     },
     "metadata": {},
     "output_type": "display_data"
    }
   ],
   "source": [
    "## store a list of 10x output directories as a vector & define sample names\n",
    "dir <- \"/nemo/lab/caladod/scratch/hungm/matthew/MH_GSE247917/cellranger/\"\n",
    "samples = list.files(dir)\n",
    "dir.list <- paste0(dir, samples, \"/outs/per_sample_outs/\", samples, \"/count/sample_filtered_feature_bc_matrix/\")\n",
    "dir.list"
   ]
  },
  {
   "cell_type": "markdown",
   "metadata": {
    "vscode": {
     "languageId": "r"
    }
   },
   "source": [
    "The \"create_seurat_object\" function is a wrapper to :\n",
    "\n",
    "1. Build a list of seurat object from a list of specified cellranger-multi output directories\n",
    "2. Store gene expression counts in the \"RNA\" assay of each object. Cells with < 200 nFeatures_RNA and genes expressed in < 3 cells will be pre-filtered.\n",
    "3. Extract cell hashing counts based on the HTO string (hto_str) given and store in the \"HTO\" assay of each object. All HTO antibody names should have common prefix/suffix.\n",
    "4. Store CITEseq antibody counts in the \"ADT\" assay of each object and performs DSB normalization (if adt_normalized = T)\n",
    "5. Sample names are specified in the \"samples\" column in each Seurat object's metadata. "
   ]
  },
  {
   "cell_type": "code",
   "execution_count": 23,
   "metadata": {
    "vscode": {
     "languageId": "r"
    }
   },
   "outputs": [
    {
     "name": "stderr",
     "output_type": "stream",
     "text": [
      "CV10 --- Loading Sample 1\n",
      "\n",
      "Step 1 : Adding RNA counts\n",
      "\n",
      "10X data contains more than one type and is being returned as a list containing matrices of each type.\n",
      "\n",
      "Step 2 : Check for Modalities\n",
      "\n",
      "Step 3 : Adding HTO counts\n",
      "\n",
      "Warning message:\n",
      "“Feature names cannot have underscores ('_'), replacing with dashes ('-')”\n",
      "Warning message:\n",
      "“Data is of class matrix. Coercing to dgCMatrix.”\n",
      "Step 4 : Adding ADT counts\n",
      "\n",
      "Warning message:\n",
      "“Data is of class matrix. Coercing to dgCMatrix.”\n",
      "10X data contains more than one type and is being returned as a list containing matrices of each type.\n",
      "\n",
      "10X data contains more than one type and is being returned as a list containing matrices of each type.\n",
      "\n",
      "Warning message in dsb::DSBNormalizeProtein(cell_protein_matrix = adt.cell, empty_drop_matrix = adt.raw, :\n",
      "“`use.isotype.control` = FALSE is not recommended if setting `denoise.counts` = TRUE \n",
      "when isotype controls are available.\n",
      " If data include isotype controls set `denoise.counts` = TRUE `use.isotype.control` = TRUE \u0007nd set `isotype.control.name.vec` to a vector of isotype control rownames”\n"
     ]
    },
    {
     "name": "stdout",
     "output_type": "stream",
     "text": [
      "[1] \"potential isotype controls detected: \"\n",
      "[1] \"IsoIgG2A\" \"IsoIgG1\" \n",
      "[1] \"correcting ambient protein background noise\"\n",
      "[1] \"some proteins with low background variance detected check raw and normalized distributions.  protein stats can be returned with return.stats = TRUE\"\n",
      "[1] \"EpCAM\"\n",
      "[1] \"fitting models to each cell for dsb technical component and removing cell to cell technical noise\"\n"
     ]
    },
    {
     "name": "stderr",
     "output_type": "stream",
     "text": [
      "Step 5 : Creating Seurat Object\n",
      "\n",
      "CV12 --- Loading Sample 2\n",
      "\n",
      "Step 1 : Adding RNA counts\n",
      "\n",
      "10X data contains more than one type and is being returned as a list containing matrices of each type.\n",
      "\n",
      "Step 2 : Check for Modalities\n",
      "\n",
      "Step 3 : Adding HTO counts\n",
      "\n",
      "Warning message:\n",
      "“Feature names cannot have underscores ('_'), replacing with dashes ('-')”\n",
      "Warning message:\n",
      "“Data is of class matrix. Coercing to dgCMatrix.”\n",
      "Step 4 : Adding ADT counts\n",
      "\n",
      "Warning message:\n",
      "“Data is of class matrix. Coercing to dgCMatrix.”\n",
      "10X data contains more than one type and is being returned as a list containing matrices of each type.\n",
      "\n",
      "10X data contains more than one type and is being returned as a list containing matrices of each type.\n",
      "\n",
      "Warning message in dsb::DSBNormalizeProtein(cell_protein_matrix = adt.cell, empty_drop_matrix = adt.raw, :\n",
      "“`use.isotype.control` = FALSE is not recommended if setting `denoise.counts` = TRUE \n",
      "when isotype controls are available.\n",
      " If data include isotype controls set `denoise.counts` = TRUE `use.isotype.control` = TRUE \u0007nd set `isotype.control.name.vec` to a vector of isotype control rownames”\n"
     ]
    },
    {
     "name": "stdout",
     "output_type": "stream",
     "text": [
      "[1] \"potential isotype controls detected: \"\n",
      "[1] \"IsoIgG2A\" \"IsoIgG1\" \n",
      "[1] \"correcting ambient protein background noise\"\n",
      "[1] \"some proteins with low background variance detected check raw and normalized distributions.  protein stats can be returned with return.stats = TRUE\"\n",
      " [1] \"CD186\"   \"CD1a\"    \"CD39\"    \"ICOS.1\"  \"CD11b\"   \"CD1c\"    \"CD134\"  \n",
      " [8] \"CD27.1\"  \"CD152\"   \"CD197\"   \"CD69.1\"  \"CD103\"   \"CD185\"   \"EpCAM\"  \n",
      "[15] \"CD8\"     \"CD123\"   \"CD117\"   \"HLA-ABC\" \"CD19.1\"  \"CD86.1\" \n",
      "[1] \"fitting models to each cell for dsb technical component and removing cell to cell technical noise\"\n"
     ]
    },
    {
     "name": "stderr",
     "output_type": "stream",
     "text": [
      "Step 5 : Creating Seurat Object\n",
      "\n"
     ]
    }
   ],
   "source": [
    "## build seurat object with RNA, HTO & ADT assays, specifying HTO strings and normalizing ADT counts\n",
    "obj.list <- create_seurat_object(dir = dir.list, samples = samples, hto_str = \"^CV\", adt_normalize = T)"
   ]
  },
  {
   "cell_type": "markdown",
   "metadata": {
    "vscode": {
     "languageId": "r"
    }
   },
   "source": [
    "Finally, a quick check if the Seurat objects are set up properly."
   ]
  },
  {
   "cell_type": "code",
   "execution_count": 25,
   "metadata": {
    "vscode": {
     "languageId": "r"
    }
   },
   "outputs": [
    {
     "data": {
      "text/plain": [
       "$CV10\n",
       "An object of class Seurat \n",
       "23862 features across 19484 samples within 3 assays \n",
       "Active assay: RNA (23797 features, 0 variable features)\n",
       " 1 layer present: counts\n",
       " 2 other assays present: HTO, ADT\n",
       "\n",
       "$CV12\n",
       "An object of class Seurat \n",
       "16451 features across 17366 samples within 3 assays \n",
       "Active assay: RNA (16386 features, 0 variable features)\n",
       " 1 layer present: counts\n",
       " 2 other assays present: HTO, ADT\n"
      ]
     },
     "metadata": {},
     "output_type": "display_data"
    }
   ],
   "source": [
    "## View seurat object list\n",
    "obj.list"
   ]
  },
  {
   "cell_type": "code",
   "execution_count": 26,
   "metadata": {
    "vscode": {
     "languageId": "r"
    }
   },
   "outputs": [
    {
     "data": {
      "text/html": [
       "<table class=\"dataframe\">\n",
       "<caption>A data.frame: 10 × 8</caption>\n",
       "<thead>\n",
       "\t<tr><th></th><th scope=col>orig.ident</th><th scope=col>nCount_RNA</th><th scope=col>nFeature_RNA</th><th scope=col>nCount_HTO</th><th scope=col>nFeature_HTO</th><th scope=col>nCount_ADT</th><th scope=col>nFeature_ADT</th><th scope=col>samples</th></tr>\n",
       "\t<tr><th></th><th scope=col>&lt;fct&gt;</th><th scope=col>&lt;dbl&gt;</th><th scope=col>&lt;int&gt;</th><th scope=col>&lt;dbl&gt;</th><th scope=col>&lt;int&gt;</th><th scope=col>&lt;dbl&gt;</th><th scope=col>&lt;int&gt;</th><th scope=col>&lt;chr&gt;</th></tr>\n",
       "</thead>\n",
       "<tbody>\n",
       "\t<tr><th scope=row>CV10_AAACCTGAGAAGCCCA-1</th><td>SeuratProject</td><td>2075</td><td>1226</td><td> 91</td><td>3</td><td> 1336</td><td>58</td><td>CV10</td></tr>\n",
       "\t<tr><th scope=row>CV10_AAACCTGAGAGGGATA-1</th><td>SeuratProject</td><td>4113</td><td>2208</td><td>257</td><td>3</td><td> 1008</td><td>57</td><td>CV10</td></tr>\n",
       "\t<tr><th scope=row>CV10_AAACCTGAGAGTGACC-1</th><td>SeuratProject</td><td>1218</td><td> 786</td><td> 88</td><td>2</td><td>  829</td><td>57</td><td>CV10</td></tr>\n",
       "\t<tr><th scope=row>CV10_AAACCTGAGATATGGT-1</th><td>SeuratProject</td><td>6011</td><td>2869</td><td>599</td><td>4</td><td> 3661</td><td>57</td><td>CV10</td></tr>\n",
       "\t<tr><th scope=row>CV10_AAACCTGAGCCAGTAG-1</th><td>SeuratProject</td><td>1322</td><td> 777</td><td> 70</td><td>3</td><td> 1216</td><td>58</td><td>CV10</td></tr>\n",
       "\t<tr><th scope=row>CV10_AAACCTGAGCGATATA-1</th><td>SeuratProject</td><td>1743</td><td>1134</td><td> 84</td><td>4</td><td>  700</td><td>57</td><td>CV10</td></tr>\n",
       "\t<tr><th scope=row>CV10_AAACCTGAGGAATCGC-1</th><td>SeuratProject</td><td>2892</td><td>1617</td><td>147</td><td>3</td><td> 1479</td><td>58</td><td>CV10</td></tr>\n",
       "\t<tr><th scope=row>CV10_AAACCTGAGTCAAGCG-1</th><td>SeuratProject</td><td>1258</td><td> 808</td><td>108</td><td>2</td><td> 1063</td><td>55</td><td>CV10</td></tr>\n",
       "\t<tr><th scope=row>CV10_AAACCTGAGTGGAGTC-1</th><td>SeuratProject</td><td>1918</td><td>1312</td><td> 62</td><td>4</td><td>20921</td><td>58</td><td>CV10</td></tr>\n",
       "\t<tr><th scope=row>CV10_AAACCTGCAAAGGTGC-1</th><td>SeuratProject</td><td>1124</td><td> 747</td><td>162</td><td>3</td><td> 1237</td><td>56</td><td>CV10</td></tr>\n",
       "</tbody>\n",
       "</table>\n"
      ],
      "text/latex": [
       "A data.frame: 10 × 8\n",
       "\\begin{tabular}{r|llllllll}\n",
       "  & orig.ident & nCount\\_RNA & nFeature\\_RNA & nCount\\_HTO & nFeature\\_HTO & nCount\\_ADT & nFeature\\_ADT & samples\\\\\n",
       "  & <fct> & <dbl> & <int> & <dbl> & <int> & <dbl> & <int> & <chr>\\\\\n",
       "\\hline\n",
       "\tCV10\\_AAACCTGAGAAGCCCA-1 & SeuratProject & 2075 & 1226 &  91 & 3 &  1336 & 58 & CV10\\\\\n",
       "\tCV10\\_AAACCTGAGAGGGATA-1 & SeuratProject & 4113 & 2208 & 257 & 3 &  1008 & 57 & CV10\\\\\n",
       "\tCV10\\_AAACCTGAGAGTGACC-1 & SeuratProject & 1218 &  786 &  88 & 2 &   829 & 57 & CV10\\\\\n",
       "\tCV10\\_AAACCTGAGATATGGT-1 & SeuratProject & 6011 & 2869 & 599 & 4 &  3661 & 57 & CV10\\\\\n",
       "\tCV10\\_AAACCTGAGCCAGTAG-1 & SeuratProject & 1322 &  777 &  70 & 3 &  1216 & 58 & CV10\\\\\n",
       "\tCV10\\_AAACCTGAGCGATATA-1 & SeuratProject & 1743 & 1134 &  84 & 4 &   700 & 57 & CV10\\\\\n",
       "\tCV10\\_AAACCTGAGGAATCGC-1 & SeuratProject & 2892 & 1617 & 147 & 3 &  1479 & 58 & CV10\\\\\n",
       "\tCV10\\_AAACCTGAGTCAAGCG-1 & SeuratProject & 1258 &  808 & 108 & 2 &  1063 & 55 & CV10\\\\\n",
       "\tCV10\\_AAACCTGAGTGGAGTC-1 & SeuratProject & 1918 & 1312 &  62 & 4 & 20921 & 58 & CV10\\\\\n",
       "\tCV10\\_AAACCTGCAAAGGTGC-1 & SeuratProject & 1124 &  747 & 162 & 3 &  1237 & 56 & CV10\\\\\n",
       "\\end{tabular}\n"
      ],
      "text/markdown": [
       "\n",
       "A data.frame: 10 × 8\n",
       "\n",
       "| <!--/--> | orig.ident &lt;fct&gt; | nCount_RNA &lt;dbl&gt; | nFeature_RNA &lt;int&gt; | nCount_HTO &lt;dbl&gt; | nFeature_HTO &lt;int&gt; | nCount_ADT &lt;dbl&gt; | nFeature_ADT &lt;int&gt; | samples &lt;chr&gt; |\n",
       "|---|---|---|---|---|---|---|---|---|\n",
       "| CV10_AAACCTGAGAAGCCCA-1 | SeuratProject | 2075 | 1226 |  91 | 3 |  1336 | 58 | CV10 |\n",
       "| CV10_AAACCTGAGAGGGATA-1 | SeuratProject | 4113 | 2208 | 257 | 3 |  1008 | 57 | CV10 |\n",
       "| CV10_AAACCTGAGAGTGACC-1 | SeuratProject | 1218 |  786 |  88 | 2 |   829 | 57 | CV10 |\n",
       "| CV10_AAACCTGAGATATGGT-1 | SeuratProject | 6011 | 2869 | 599 | 4 |  3661 | 57 | CV10 |\n",
       "| CV10_AAACCTGAGCCAGTAG-1 | SeuratProject | 1322 |  777 |  70 | 3 |  1216 | 58 | CV10 |\n",
       "| CV10_AAACCTGAGCGATATA-1 | SeuratProject | 1743 | 1134 |  84 | 4 |   700 | 57 | CV10 |\n",
       "| CV10_AAACCTGAGGAATCGC-1 | SeuratProject | 2892 | 1617 | 147 | 3 |  1479 | 58 | CV10 |\n",
       "| CV10_AAACCTGAGTCAAGCG-1 | SeuratProject | 1258 |  808 | 108 | 2 |  1063 | 55 | CV10 |\n",
       "| CV10_AAACCTGAGTGGAGTC-1 | SeuratProject | 1918 | 1312 |  62 | 4 | 20921 | 58 | CV10 |\n",
       "| CV10_AAACCTGCAAAGGTGC-1 | SeuratProject | 1124 |  747 | 162 | 3 |  1237 | 56 | CV10 |\n",
       "\n"
      ],
      "text/plain": [
       "                        orig.ident    nCount_RNA nFeature_RNA nCount_HTO\n",
       "CV10_AAACCTGAGAAGCCCA-1 SeuratProject 2075       1226          91       \n",
       "CV10_AAACCTGAGAGGGATA-1 SeuratProject 4113       2208         257       \n",
       "CV10_AAACCTGAGAGTGACC-1 SeuratProject 1218        786          88       \n",
       "CV10_AAACCTGAGATATGGT-1 SeuratProject 6011       2869         599       \n",
       "CV10_AAACCTGAGCCAGTAG-1 SeuratProject 1322        777          70       \n",
       "CV10_AAACCTGAGCGATATA-1 SeuratProject 1743       1134          84       \n",
       "CV10_AAACCTGAGGAATCGC-1 SeuratProject 2892       1617         147       \n",
       "CV10_AAACCTGAGTCAAGCG-1 SeuratProject 1258        808         108       \n",
       "CV10_AAACCTGAGTGGAGTC-1 SeuratProject 1918       1312          62       \n",
       "CV10_AAACCTGCAAAGGTGC-1 SeuratProject 1124        747         162       \n",
       "                        nFeature_HTO nCount_ADT nFeature_ADT samples\n",
       "CV10_AAACCTGAGAAGCCCA-1 3             1336      58           CV10   \n",
       "CV10_AAACCTGAGAGGGATA-1 3             1008      57           CV10   \n",
       "CV10_AAACCTGAGAGTGACC-1 2              829      57           CV10   \n",
       "CV10_AAACCTGAGATATGGT-1 4             3661      57           CV10   \n",
       "CV10_AAACCTGAGCCAGTAG-1 3             1216      58           CV10   \n",
       "CV10_AAACCTGAGCGATATA-1 4              700      57           CV10   \n",
       "CV10_AAACCTGAGGAATCGC-1 3             1479      58           CV10   \n",
       "CV10_AAACCTGAGTCAAGCG-1 2             1063      55           CV10   \n",
       "CV10_AAACCTGAGTGGAGTC-1 4            20921      58           CV10   \n",
       "CV10_AAACCTGCAAAGGTGC-1 3             1237      56           CV10   "
      ]
     },
     "metadata": {},
     "output_type": "display_data"
    }
   ],
   "source": [
    "## View metadata the first seurat object\n",
    "head(obj.list[[1]])"
   ]
  },
  {
   "cell_type": "code",
   "execution_count": 28,
   "metadata": {
    "vscode": {
     "languageId": "r"
    }
   },
   "outputs": [
    {
     "name": "stdout",
     "output_type": "stream",
     "text": [
      "Assay (v5) data with 23797 features for 19484 cells\n",
      "First 10 features:\n",
      " AL627309.1, AL627309.5, AP006222.2, LINC01409, FAM87B, LINC01128,\n",
      "LINC00115, FAM41C, AL645608.6, SAMD11 \n",
      "Layers:\n",
      " counts \n",
      "Assay (v5) data with 4 features for 19484 cells\n",
      "First 4 features:\n",
      " CV-011-d120-booster, CV-001-d28-booster, CV-001-d7-booster,\n",
      "CV-001-d0-booster \n",
      "Layers:\n",
      " counts \n",
      "Assay (v5) data with 61 features for 19484 cells\n",
      "First 10 features:\n",
      " CD138, CD186, CD38.1, CD1a, CD26, CD45, CD127, CD28.1, CD2.1, CD184 \n",
      "Layers:\n",
      " counts, data \n"
     ]
    }
   ],
   "source": [
    "## View assays in first seurat object\n",
    "for(a in names(obj.list[[1]]@assays)){\n",
    "    print(obj.list[[1]][[a]])}"
   ]
  },
  {
   "cell_type": "markdown",
   "metadata": {
    "vscode": {
     "languageId": "r"
    }
   },
   "source": [
    "## Session Info {.unnumbered}"
   ]
  },
  {
   "cell_type": "code",
   "execution_count": null,
   "metadata": {
    "vscode": {
     "languageId": "r"
    }
   },
   "outputs": [],
   "source": [
    "## save output of the this session\n",
    "qsave(obj.list, file = \"seurat/1_processing/1.2_GSE247917_raw.qs\")"
   ]
  },
  {
   "cell_type": "code",
   "execution_count": 30,
   "metadata": {
    "vscode": {
     "languageId": "r"
    }
   },
   "outputs": [
    {
     "data": {
      "text/plain": [
       "R version 4.3.2 (2023-10-31)\n",
       "Platform: x86_64-conda-linux-gnu (64-bit)\n",
       "Running under: Rocky Linux 8.7 (Green Obsidian)\n",
       "\n",
       "Matrix products: default\n",
       "BLAS/LAPACK: /nemo/lab/caladod/working/Matthew/.conda/envs/seurat5/lib/libopenblasp-r0.3.23.so;  LAPACK version 3.11.0\n",
       "\n",
       "locale:\n",
       " [1] LC_CTYPE=en_GB.UTF-8       LC_NUMERIC=C              \n",
       " [3] LC_TIME=en_GB.UTF-8        LC_COLLATE=en_GB.UTF-8    \n",
       " [5] LC_MONETARY=en_GB.UTF-8    LC_MESSAGES=en_GB.UTF-8   \n",
       " [7] LC_PAPER=en_GB.UTF-8       LC_NAME=C                 \n",
       " [9] LC_ADDRESS=C               LC_TELEPHONE=C            \n",
       "[11] LC_MEASUREMENT=en_GB.UTF-8 LC_IDENTIFICATION=C       \n",
       "\n",
       "time zone: Europe/London\n",
       "tzcode source: system (glibc)\n",
       "\n",
       "attached base packages:\n",
       "[1] stats4    grid      stats     graphics  grDevices utils     datasets \n",
       "[8] methods   base     \n",
       "\n",
       "other attached packages:\n",
       " [1] scUnify_0.0.0.9000          ComplexHeatmap_2.16.0      \n",
       " [3] DoubletFinder_2.0.4         scDblFinder_1.14.0         \n",
       " [5] celda_1.16.1                Matrix_1.6-1               \n",
       " [7] SingleCellExperiment_1.24.0 SummarizedExperiment_1.32.0\n",
       " [9] Biobase_2.62.0              GenomicRanges_1.54.1       \n",
       "[11] GenomeInfoDb_1.38.0         IRanges_2.36.0             \n",
       "[13] S4Vectors_0.40.1            BiocGenerics_0.48.0        \n",
       "[15] MatrixGenerics_1.14.0       matrixStats_1.0.0          \n",
       "[17] UCell_2.4.0                 BiocParallel_1.36.0        \n",
       "[19] biomaRt_2.58.0              ggh4x_0.2.5                \n",
       "[21] harmony_1.1.0               Rcpp_1.0.11                \n",
       "[23] Seurat_5.0.0                SeuratObject_5.0.0         \n",
       "[25] sp_2.1-1                    ggpubr_0.6.0               \n",
       "[27] rstatix_0.7.2               writexl_1.4.2              \n",
       "[29] readxl_1.4.3                qs_0.26.3                  \n",
       "[31] RColorBrewer_1.1-3          wesanderson_0.3.6.9000     \n",
       "[33] viridis_0.6.4               viridisLite_0.4.2          \n",
       "[35] gridExtra_2.3               scales_1.3.0               \n",
       "[37] cowplot_1.1.1               patchwork_1.2.0            \n",
       "[39] ggrepel_0.9.4               lubridate_1.9.3            \n",
       "[41] forcats_1.0.0               stringr_1.5.0              \n",
       "[43] dplyr_1.1.4                 purrr_1.0.2                \n",
       "[45] readr_2.1.4                 tidyr_1.3.0                \n",
       "[47] tibble_3.2.1                ggplot2_3.5.1              \n",
       "[49] tidyverse_2.0.0            \n",
       "\n",
       "loaded via a namespace (and not attached):\n",
       "  [1] R.methodsS3_1.8.2          progress_1.2.2            \n",
       "  [3] goftest_1.2-3              Biostrings_2.70.1         \n",
       "  [5] vctrs_0.6.4                spatstat.random_3.2-1     \n",
       "  [7] RApiSerialize_0.1.2        digest_0.6.33             \n",
       "  [9] png_0.1-8                  shape_1.4.6               \n",
       " [11] IRdisplay_1.1              deldir_1.0-9              \n",
       " [13] parallelly_1.36.0          combinat_0.0-8            \n",
       " [15] magick_2.8.1               MASS_7.3-60               \n",
       " [17] reshape2_1.4.4             httpuv_1.6.12             \n",
       " [19] foreach_1.5.2              withr_3.0.1               \n",
       " [21] ellipsis_0.3.2             survival_3.5-7            \n",
       " [23] memoise_2.0.1              ggbeeswarm_0.7.2          \n",
       " [25] zoo_1.8-12                 GlobalOptions_0.1.2       \n",
       " [27] pbapply_1.7-2              R.oo_1.25.0               \n",
       " [29] IRkernel_1.3.2             prettyunits_1.2.0         \n",
       " [31] KEGGREST_1.42.0            promises_1.2.1            \n",
       " [33] httr_1.4.7                 restfulr_0.0.15           \n",
       " [35] globals_0.16.2             fitdistrplus_1.1-11       \n",
       " [37] stringfish_0.16.0          dsb_1.0.4                 \n",
       " [39] miniUI_0.1.1.1             generics_0.1.3            \n",
       " [41] base64enc_0.1-3            curl_5.1.0                \n",
       " [43] repr_1.1.6                 zlibbioc_1.48.0           \n",
       " [45] ScaledMatrix_1.8.1         polyclip_1.10-6           \n",
       " [47] GenomeInfoDbData_1.2.11    SparseArray_1.2.0         \n",
       " [49] RcppEigen_0.3.3.9.3        xtable_1.8-4              \n",
       " [51] doParallel_1.0.17          evaluate_0.23             \n",
       " [53] S4Arrays_1.2.0             BiocFileCache_2.10.1      \n",
       " [55] hms_1.1.3                  irlba_2.3.5.1             \n",
       " [57] colorspace_2.1-0           filelock_1.0.2            \n",
       " [59] ROCR_1.0-11                reticulate_1.34.0         \n",
       " [61] spatstat.data_3.0-3        magrittr_2.0.3            \n",
       " [63] lmtest_0.9-40              later_1.3.1               \n",
       " [65] lattice_0.21-8             spatstat.geom_3.2-7       \n",
       " [67] future.apply_1.11.0        scattermore_1.2           \n",
       " [69] XML_3.99-0.14              scuttle_1.10.3            \n",
       " [71] assertive.numbers_0.0-2    RcppAnnoy_0.0.21          \n",
       " [73] pillar_1.9.0               nlme_3.1-163              \n",
       " [75] iterators_1.0.14           compiler_4.3.2            \n",
       " [77] beachmat_2.18.0            RSpectra_0.16-1           \n",
       " [79] stringi_1.7.12             assertive.properties_0.0-5\n",
       " [81] tensor_1.5                 GenomicAlignments_1.38.0  \n",
       " [83] MCMCprecision_0.4.0        plyr_1.8.9                \n",
       " [85] crayon_1.5.2               abind_1.4-5               \n",
       " [87] BiocIO_1.12.0              scater_1.28.0             \n",
       " [89] gridGraphics_0.5-1         locfit_1.5-9.8            \n",
       " [91] bit_4.0.5                  codetools_0.2-19          \n",
       " [93] BiocSingular_1.16.0        GetoptLong_1.0.5          \n",
       " [95] plotly_4.10.3              mime_0.12                 \n",
       " [97] splines_4.3.2              circlize_0.4.15           \n",
       " [99] fastDummies_1.7.3          dbplyr_2.4.0              \n",
       "[101] sparseMatrixStats_1.14.0   cellranger_1.1.0          \n",
       "[103] blob_1.2.4                 utf8_1.2.4                \n",
       "[105] clue_0.3-64                pbdZMQ_0.3-9              \n",
       "[107] WriteXLS_6.4.0             listenv_0.9.0             \n",
       "[109] DelayedMatrixStats_1.24.0  ggsignif_0.6.4            \n",
       "[111] assertive.base_0.0-9       statmod_1.5.0             \n",
       "[113] tzdb_0.4.0                 pkgconfig_2.0.3           \n",
       "[115] tools_4.3.2                cachem_1.0.8              \n",
       "[117] RSQLite_2.3.2              DBI_1.1.3                 \n",
       "[119] fastmap_1.1.1              ica_1.0-3                 \n",
       "[121] Rsamtools_2.18.0           broom_1.0.5               \n",
       "[123] dotCall64_1.1-0            carData_3.0-5             \n",
       "[125] RANN_2.6.1                 yaml_2.3.7                \n",
       "[127] rtracklayer_1.62.0         cli_3.6.1                 \n",
       "[129] assertive.types_0.0-3      leiden_0.4.3              \n",
       "[131] lifecycle_1.0.3            uwot_0.1.16               \n",
       "[133] bluster_1.10.0             assertive.files_0.0-2     \n",
       "[135] backports_1.4.1            timechange_0.2.0          \n",
       "[137] gtable_0.3.4               rjson_0.2.21              \n",
       "[139] ggridges_0.5.4             progressr_0.14.0          \n",
       "[141] parallel_4.3.2             limma_3.56.2              \n",
       "[143] jsonlite_1.8.7             edgeR_3.42.4              \n",
       "[145] RcppHNSW_0.5.0             bitops_1.0-7              \n",
       "[147] bit64_4.0.5                xgboost_1.7.7.1           \n",
       "[149] Rtsne_0.16                 spatstat.utils_3.0-5      \n",
       "[151] BiocNeighbors_1.18.0       RcppParallel_5.1.7        \n",
       "[153] metapod_1.8.0              dqrng_0.3.1               \n",
       "[155] enrichR_3.2                R.utils_2.12.2            \n",
       "[157] lazyeval_0.2.2             shiny_1.7.5.1             \n",
       "[159] htmltools_0.5.6.1          sctransform_0.4.1         \n",
       "[161] rappdirs_0.3.3             glue_1.8.0                \n",
       "[163] spam_2.10-0                XVector_0.42.0            \n",
       "[165] RCurl_1.98-1.12            scran_1.28.2              \n",
       "[167] mclust_6.0.1               igraph_1.5.1              \n",
       "[169] R6_2.5.1                   cluster_2.1.4             \n",
       "[171] DelayedArray_0.28.0        tidyselect_1.2.0          \n",
       "[173] vipor_0.4.5                xml2_1.3.5                \n",
       "[175] car_3.1-2                  AnnotationDbi_1.64.0      \n",
       "[177] future_1.33.0              rsvd_1.0.5                \n",
       "[179] munsell_0.5.0              KernSmooth_2.23-22        \n",
       "[181] multipanelfigure_2.1.2     data.table_1.14.8         \n",
       "[183] htmlwidgets_1.6.2          rlang_1.1.4               \n",
       "[185] spatstat.sparse_3.0-3      spatstat.explore_3.2-5    \n",
       "[187] uuid_1.1-1                 fansi_1.0.6               \n",
       "[189] beeswarm_0.4.0            "
      ]
     },
     "metadata": {},
     "output_type": "display_data"
    }
   ],
   "source": [
    "sessionInfo()"
   ]
  },
  {
   "cell_type": "code",
   "execution_count": null,
   "metadata": {
    "vscode": {
     "languageId": "r"
    }
   },
   "outputs": [],
   "source": []
  }
 ],
 "metadata": {
  "kernelspec": {
   "display_name": "R",
   "language": "R",
   "name": "ir"
  },
  "language_info": {
   "codemirror_mode": "r",
   "file_extension": ".r",
   "mimetype": "text/x-r-source",
   "name": "R",
   "pygments_lexer": "r",
   "version": "4.3.2"
  }
 },
 "nbformat": 4,
 "nbformat_minor": 2
}
