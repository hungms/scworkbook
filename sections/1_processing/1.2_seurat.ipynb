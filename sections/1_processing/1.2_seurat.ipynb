{
 "cells": [
  {
   "cell_type": "raw",
   "metadata": {
    "vscode": {
     "languageId": "raw"
    }
   },
   "source": [
    "---\n",
    "title: Seurat Object\n",
    "author: \n",
    "    - name: \"Matthew Hung\"\n",
    "date: last-modified\n",
    "date-format: iso\n",
    "format:\n",
    "    html:\n",
    "        toc: true\n",
    "        toc-expand: 1\n",
    "        number-sections: true\n",
    "        number-offset: 3\n",
    "---"
   ]
  },
  {
   "cell_type": "markdown",
   "metadata": {
    "vscode": {
     "languageId": "raw"
    }
   },
   "source": [
    "## Motivation {.unnumbered}\n",
    "Single cell omic analysis can be done on both R or Python. There currently exists a few packages to format, process & analyse scRNAseq data, namely Seurat (V5) [[Hao et al.; 2023]](https://www.nature.com/articles/s41587-023-01767-y), Scanpy [[Wolf et al.; 2018]](https://genomebiology.biomedcentral.com/articles/10.1186/s13059-017-1382-0), SingleCellExperiment [[Amezquita et al.; 2019]](https://www.nature.com/articles/s41592-019-0654-x), Scran [[Lun et al.; 2016]](https://f1000research.com/articles/5-2122/v2). In this tutorial we will focus on using Seurat (V5) due to its comprehensive functionality to handle multimodal datasets and interoperability with other data formats. For larger datasets (>100k cells), we recommend using Scanpy to speed up the processing time."
   ]
  },
  {
   "cell_type": "code",
   "execution_count": 1,
   "metadata": {
    "vscode": {
     "languageId": "r"
    }
   },
   "outputs": [
    {
     "name": "stderr",
     "output_type": "stream",
     "text": [
      "Warning message:\n",
      "“replacing previous import ‘cowplot::get_legend’ by ‘ggpubr::get_legend’ when loading ‘scUnify’”\n",
      "Warning message:\n",
      "“replacing previous import ‘cowplot::align_plots’ by ‘patchwork::align_plots’ when loading ‘scUnify’”\n",
      "Warning message:\n",
      "“replacing previous import ‘biomaRt::select’ by ‘rstatix::select’ when loading ‘scUnify’”\n",
      "Warning message:\n",
      "“replacing previous import ‘scales::viridis_pal’ by ‘viridis::viridis_pal’ when loading ‘scUnify’”\n"
     ]
    }
   ],
   "source": [
    "## set up environment\n",
    "suppressMessages({\n",
    "library(scUnify)\n",
    "setwd(\"/nemo/lab/caladod/working/Matthew/project/matthew/MH_GSE247917\")})"
   ]
  },
  {
   "cell_type": "markdown",
   "metadata": {
    "vscode": {
     "languageId": "raw"
    }
   },
   "source": [
    "## Import CellRanger Outputs\n",
    "Now we will import the outputs from cellranger-multi as a Seurat object. We will first need to specify a cellranger-multi output directory and a sample name for each sequencing run."
   ]
  },
  {
   "cell_type": "code",
   "execution_count": 7,
   "metadata": {
    "vscode": {
     "languageId": "r"
    }
   },
   "outputs": [
    {
     "data": {
      "text/html": [
       "<style>\n",
       ".list-inline {list-style: none; margin:0; padding: 0}\n",
       ".list-inline>li {display: inline-block}\n",
       ".list-inline>li:not(:last-child)::after {content: \"\\00b7\"; padding: 0 .5ex}\n",
       "</style>\n",
       "<ol class=list-inline><li>'/nemo/lab/caladod/scratch/hungm/matthew/MH_GSE247917/cellranger/CV10/outs/per_sample_outs/CV10/count/sample_filtered_feature_bc_matrix/'</li><li>'/nemo/lab/caladod/scratch/hungm/matthew/MH_GSE247917/cellranger/CV12/outs/per_sample_outs/CV12/count/sample_filtered_feature_bc_matrix/'</li></ol>\n"
      ],
      "text/latex": [
       "\\begin{enumerate*}\n",
       "\\item '/nemo/lab/caladod/scratch/hungm/matthew/MH\\_GSE247917/cellranger/CV10/outs/per\\_sample\\_outs/CV10/count/sample\\_filtered\\_feature\\_bc\\_matrix/'\n",
       "\\item '/nemo/lab/caladod/scratch/hungm/matthew/MH\\_GSE247917/cellranger/CV12/outs/per\\_sample\\_outs/CV12/count/sample\\_filtered\\_feature\\_bc\\_matrix/'\n",
       "\\end{enumerate*}\n"
      ],
      "text/markdown": [
       "1. '/nemo/lab/caladod/scratch/hungm/matthew/MH_GSE247917/cellranger/CV10/outs/per_sample_outs/CV10/count/sample_filtered_feature_bc_matrix/'\n",
       "2. '/nemo/lab/caladod/scratch/hungm/matthew/MH_GSE247917/cellranger/CV12/outs/per_sample_outs/CV12/count/sample_filtered_feature_bc_matrix/'\n",
       "\n",
       "\n"
      ],
      "text/plain": [
       "[1] \"/nemo/lab/caladod/scratch/hungm/matthew/MH_GSE247917/cellranger/CV10/outs/per_sample_outs/CV10/count/sample_filtered_feature_bc_matrix/\"\n",
       "[2] \"/nemo/lab/caladod/scratch/hungm/matthew/MH_GSE247917/cellranger/CV12/outs/per_sample_outs/CV12/count/sample_filtered_feature_bc_matrix/\""
      ]
     },
     "metadata": {},
     "output_type": "display_data"
    }
   ],
   "source": [
    "## store a list of 10x output directories as a vector & define sample names\n",
    "dir <- \"/nemo/lab/caladod/scratch/hungm/matthew/MH_GSE247917/cellranger/\"\n",
    "files = list.files(dir)\n",
    "dir.list <- paste0(dir, files, \"/outs/per_sample_outs/\", files, \"/count/sample_filtered_feature_bc_matrix/\")\n",
    "dir.list"
   ]
  },
  {
   "cell_type": "markdown",
   "metadata": {
    "vscode": {
     "languageId": "r"
    }
   },
   "source": [
    "Below is a wrapper function to make a list of Seurat objects from a list of specified cellranger-multi output directories, with sequencing names specified in the \"samples\" column in the Seurat object  metadata. Gene expression counts will be stored in the \"RNA\" assay of each object. Cells with < 200 nFeatures_RNA and genes expressed in < 3 cells will be pre-filtered.\n",
    "\n",
    "If ADT & HTO library is present (in our case yes), we can specify the argument \"adt = TRUE\" and \"hto = TRUE\" to 1) separate ADT/HTO library from GEX and 2) separate HTO library from ADT. This should result in 2 extra assays (\"ADT\" and \"HTO\") for the Seurat objects.\n",
    "  \n",
    ":::{.callout-warning}\n",
    "If HTO library is present, please make sure HTO feature names have the <u>same prefix</u> when running cellranger-multi to specify in the function below. Otherwise user have to manually separate HTO library from ADT.\n",
    ":::"
   ]
  },
  {
   "cell_type": "code",
   "execution_count": 8,
   "metadata": {
    "vscode": {
     "languageId": "r"
    }
   },
   "outputs": [
    {
     "name": "stderr",
     "output_type": "stream",
     "text": [
      "filtered_matrix_1 --- Loading Sample 1\n",
      "\n",
      "Step 1 : Adding RNA counts\n",
      "\n"
     ]
    },
    {
     "ename": "ERROR",
     "evalue": "Error in Read10X(dir[i]): Directory provided does not exist\n",
     "output_type": "error",
     "traceback": [
      "Error in Read10X(dir[i]): Directory provided does not exist\nTraceback:\n",
      "1. create_seurat_object(dir = dirlist, samples = samples, hto_str = \"anti-human_Hashtag_\")",
      "2. Read10X(dir[i])",
      "3. stop(\"Directory provided does not exist\")"
     ]
    }
   ],
   "source": [
    "## build seurat object with HTO & ADT, specifying strings to separate HTO tag names from ADT tag names\n",
    "obj_list <- create_seurat_object(dir = dirlist, samples = samples, hto_str = \"anti-human_Hashtag_\")"
   ]
  },
  {
   "cell_type": "markdown",
   "metadata": {
    "vscode": {
     "languageId": "r"
    }
   },
   "source": [
    "Finally, a quick check if the Seurat objects are set up properly."
   ]
  },
  {
   "cell_type": "code",
   "execution_count": 14,
   "metadata": {
    "vscode": {
     "languageId": "r"
    }
   },
   "outputs": [
    {
     "data": {
      "text/plain": [
       "$filtered_matrix_1\n",
       "An object of class Seurat \n",
       "17028 features across 7502 samples within 3 assays \n",
       "Active assay: RNA (16828 features, 0 variable features)\n",
       " 1 layer present: counts\n",
       " 2 other assays present: HTO, ADT\n",
       "\n",
       "$filtered_matrix_2\n",
       "An object of class Seurat \n",
       "17301 features across 8227 samples within 3 assays \n",
       "Active assay: RNA (17101 features, 0 variable features)\n",
       " 1 layer present: counts\n",
       " 2 other assays present: HTO, ADT\n"
      ]
     },
     "metadata": {},
     "output_type": "display_data"
    }
   ],
   "source": [
    "## View seurat object list\n",
    "obj_list"
   ]
  },
  {
   "cell_type": "code",
   "execution_count": 15,
   "metadata": {
    "vscode": {
     "languageId": "r"
    }
   },
   "outputs": [
    {
     "data": {
      "text/html": [
       "<table class=\"dataframe\">\n",
       "<caption>A data.frame: 10 × 8</caption>\n",
       "<thead>\n",
       "\t<tr><th></th><th scope=col>orig.ident</th><th scope=col>nCount_RNA</th><th scope=col>nFeature_RNA</th><th scope=col>nCount_HTO</th><th scope=col>nFeature_HTO</th><th scope=col>nCount_ADT</th><th scope=col>nFeature_ADT</th><th scope=col>samples</th></tr>\n",
       "\t<tr><th></th><th scope=col>&lt;fct&gt;</th><th scope=col>&lt;dbl&gt;</th><th scope=col>&lt;int&gt;</th><th scope=col>&lt;dbl&gt;</th><th scope=col>&lt;int&gt;</th><th scope=col>&lt;dbl&gt;</th><th scope=col>&lt;int&gt;</th><th scope=col>&lt;chr&gt;</th></tr>\n",
       "</thead>\n",
       "<tbody>\n",
       "\t<tr><th scope=row>filtered_matrix_1_AAACCTGAGATGCCAG-1</th><td>SeuratProject</td><td>3172</td><td>1155</td><td>1018</td><td>6</td><td>1148</td><td>153</td><td>filtered_matrix_1</td></tr>\n",
       "\t<tr><th scope=row>filtered_matrix_1_AAACCTGAGCAATATG-1</th><td>SeuratProject</td><td>2904</td><td>1206</td><td> 127</td><td>6</td><td>1285</td><td>158</td><td>filtered_matrix_1</td></tr>\n",
       "\t<tr><th scope=row>filtered_matrix_1_AAACCTGAGCCACCTG-1</th><td>SeuratProject</td><td>3384</td><td>1150</td><td> 566</td><td>6</td><td>1983</td><td>161</td><td>filtered_matrix_1</td></tr>\n",
       "\t<tr><th scope=row>filtered_matrix_1_AAACCTGAGGATCGCA-1</th><td>SeuratProject</td><td>2535</td><td> 928</td><td> 235</td><td>6</td><td>2667</td><td>168</td><td>filtered_matrix_1</td></tr>\n",
       "\t<tr><th scope=row>filtered_matrix_1_AAACCTGAGGCTAGCA-1</th><td>SeuratProject</td><td>6264</td><td>1646</td><td> 419</td><td>6</td><td>1915</td><td>166</td><td>filtered_matrix_1</td></tr>\n",
       "\t<tr><th scope=row>filtered_matrix_1_AAACCTGCAAGTCTAC-1</th><td>SeuratProject</td><td>5994</td><td>1772</td><td> 558</td><td>6</td><td>1904</td><td>164</td><td>filtered_matrix_1</td></tr>\n",
       "\t<tr><th scope=row>filtered_matrix_1_AAACCTGCAGAGTGTG-1</th><td>SeuratProject</td><td>3223</td><td> 907</td><td>  90</td><td>6</td><td> 735</td><td>152</td><td>filtered_matrix_1</td></tr>\n",
       "\t<tr><th scope=row>filtered_matrix_1_AAACCTGCATCAGTCA-1</th><td>SeuratProject</td><td>1726</td><td> 798</td><td> 227</td><td>6</td><td>1007</td><td>158</td><td>filtered_matrix_1</td></tr>\n",
       "\t<tr><th scope=row>filtered_matrix_1_AAACCTGCATGAACCT-1</th><td>SeuratProject</td><td> 692</td><td> 418</td><td> 577</td><td>6</td><td>1412</td><td>156</td><td>filtered_matrix_1</td></tr>\n",
       "\t<tr><th scope=row>filtered_matrix_1_AAACCTGCATTTGCCC-1</th><td>SeuratProject</td><td>5568</td><td>1594</td><td> 152</td><td>6</td><td>3386</td><td>169</td><td>filtered_matrix_1</td></tr>\n",
       "</tbody>\n",
       "</table>\n"
      ],
      "text/latex": [
       "A data.frame: 10 × 8\n",
       "\\begin{tabular}{r|llllllll}\n",
       "  & orig.ident & nCount\\_RNA & nFeature\\_RNA & nCount\\_HTO & nFeature\\_HTO & nCount\\_ADT & nFeature\\_ADT & samples\\\\\n",
       "  & <fct> & <dbl> & <int> & <dbl> & <int> & <dbl> & <int> & <chr>\\\\\n",
       "\\hline\n",
       "\tfiltered\\_matrix\\_1\\_AAACCTGAGATGCCAG-1 & SeuratProject & 3172 & 1155 & 1018 & 6 & 1148 & 153 & filtered\\_matrix\\_1\\\\\n",
       "\tfiltered\\_matrix\\_1\\_AAACCTGAGCAATATG-1 & SeuratProject & 2904 & 1206 &  127 & 6 & 1285 & 158 & filtered\\_matrix\\_1\\\\\n",
       "\tfiltered\\_matrix\\_1\\_AAACCTGAGCCACCTG-1 & SeuratProject & 3384 & 1150 &  566 & 6 & 1983 & 161 & filtered\\_matrix\\_1\\\\\n",
       "\tfiltered\\_matrix\\_1\\_AAACCTGAGGATCGCA-1 & SeuratProject & 2535 &  928 &  235 & 6 & 2667 & 168 & filtered\\_matrix\\_1\\\\\n",
       "\tfiltered\\_matrix\\_1\\_AAACCTGAGGCTAGCA-1 & SeuratProject & 6264 & 1646 &  419 & 6 & 1915 & 166 & filtered\\_matrix\\_1\\\\\n",
       "\tfiltered\\_matrix\\_1\\_AAACCTGCAAGTCTAC-1 & SeuratProject & 5994 & 1772 &  558 & 6 & 1904 & 164 & filtered\\_matrix\\_1\\\\\n",
       "\tfiltered\\_matrix\\_1\\_AAACCTGCAGAGTGTG-1 & SeuratProject & 3223 &  907 &   90 & 6 &  735 & 152 & filtered\\_matrix\\_1\\\\\n",
       "\tfiltered\\_matrix\\_1\\_AAACCTGCATCAGTCA-1 & SeuratProject & 1726 &  798 &  227 & 6 & 1007 & 158 & filtered\\_matrix\\_1\\\\\n",
       "\tfiltered\\_matrix\\_1\\_AAACCTGCATGAACCT-1 & SeuratProject &  692 &  418 &  577 & 6 & 1412 & 156 & filtered\\_matrix\\_1\\\\\n",
       "\tfiltered\\_matrix\\_1\\_AAACCTGCATTTGCCC-1 & SeuratProject & 5568 & 1594 &  152 & 6 & 3386 & 169 & filtered\\_matrix\\_1\\\\\n",
       "\\end{tabular}\n"
      ],
      "text/markdown": [
       "\n",
       "A data.frame: 10 × 8\n",
       "\n",
       "| <!--/--> | orig.ident &lt;fct&gt; | nCount_RNA &lt;dbl&gt; | nFeature_RNA &lt;int&gt; | nCount_HTO &lt;dbl&gt; | nFeature_HTO &lt;int&gt; | nCount_ADT &lt;dbl&gt; | nFeature_ADT &lt;int&gt; | samples &lt;chr&gt; |\n",
       "|---|---|---|---|---|---|---|---|---|\n",
       "| filtered_matrix_1_AAACCTGAGATGCCAG-1 | SeuratProject | 3172 | 1155 | 1018 | 6 | 1148 | 153 | filtered_matrix_1 |\n",
       "| filtered_matrix_1_AAACCTGAGCAATATG-1 | SeuratProject | 2904 | 1206 |  127 | 6 | 1285 | 158 | filtered_matrix_1 |\n",
       "| filtered_matrix_1_AAACCTGAGCCACCTG-1 | SeuratProject | 3384 | 1150 |  566 | 6 | 1983 | 161 | filtered_matrix_1 |\n",
       "| filtered_matrix_1_AAACCTGAGGATCGCA-1 | SeuratProject | 2535 |  928 |  235 | 6 | 2667 | 168 | filtered_matrix_1 |\n",
       "| filtered_matrix_1_AAACCTGAGGCTAGCA-1 | SeuratProject | 6264 | 1646 |  419 | 6 | 1915 | 166 | filtered_matrix_1 |\n",
       "| filtered_matrix_1_AAACCTGCAAGTCTAC-1 | SeuratProject | 5994 | 1772 |  558 | 6 | 1904 | 164 | filtered_matrix_1 |\n",
       "| filtered_matrix_1_AAACCTGCAGAGTGTG-1 | SeuratProject | 3223 |  907 |   90 | 6 |  735 | 152 | filtered_matrix_1 |\n",
       "| filtered_matrix_1_AAACCTGCATCAGTCA-1 | SeuratProject | 1726 |  798 |  227 | 6 | 1007 | 158 | filtered_matrix_1 |\n",
       "| filtered_matrix_1_AAACCTGCATGAACCT-1 | SeuratProject |  692 |  418 |  577 | 6 | 1412 | 156 | filtered_matrix_1 |\n",
       "| filtered_matrix_1_AAACCTGCATTTGCCC-1 | SeuratProject | 5568 | 1594 |  152 | 6 | 3386 | 169 | filtered_matrix_1 |\n",
       "\n"
      ],
      "text/plain": [
       "                                     orig.ident    nCount_RNA nFeature_RNA\n",
       "filtered_matrix_1_AAACCTGAGATGCCAG-1 SeuratProject 3172       1155        \n",
       "filtered_matrix_1_AAACCTGAGCAATATG-1 SeuratProject 2904       1206        \n",
       "filtered_matrix_1_AAACCTGAGCCACCTG-1 SeuratProject 3384       1150        \n",
       "filtered_matrix_1_AAACCTGAGGATCGCA-1 SeuratProject 2535        928        \n",
       "filtered_matrix_1_AAACCTGAGGCTAGCA-1 SeuratProject 6264       1646        \n",
       "filtered_matrix_1_AAACCTGCAAGTCTAC-1 SeuratProject 5994       1772        \n",
       "filtered_matrix_1_AAACCTGCAGAGTGTG-1 SeuratProject 3223        907        \n",
       "filtered_matrix_1_AAACCTGCATCAGTCA-1 SeuratProject 1726        798        \n",
       "filtered_matrix_1_AAACCTGCATGAACCT-1 SeuratProject  692        418        \n",
       "filtered_matrix_1_AAACCTGCATTTGCCC-1 SeuratProject 5568       1594        \n",
       "                                     nCount_HTO nFeature_HTO nCount_ADT\n",
       "filtered_matrix_1_AAACCTGAGATGCCAG-1 1018       6            1148      \n",
       "filtered_matrix_1_AAACCTGAGCAATATG-1  127       6            1285      \n",
       "filtered_matrix_1_AAACCTGAGCCACCTG-1  566       6            1983      \n",
       "filtered_matrix_1_AAACCTGAGGATCGCA-1  235       6            2667      \n",
       "filtered_matrix_1_AAACCTGAGGCTAGCA-1  419       6            1915      \n",
       "filtered_matrix_1_AAACCTGCAAGTCTAC-1  558       6            1904      \n",
       "filtered_matrix_1_AAACCTGCAGAGTGTG-1   90       6             735      \n",
       "filtered_matrix_1_AAACCTGCATCAGTCA-1  227       6            1007      \n",
       "filtered_matrix_1_AAACCTGCATGAACCT-1  577       6            1412      \n",
       "filtered_matrix_1_AAACCTGCATTTGCCC-1  152       6            3386      \n",
       "                                     nFeature_ADT samples          \n",
       "filtered_matrix_1_AAACCTGAGATGCCAG-1 153          filtered_matrix_1\n",
       "filtered_matrix_1_AAACCTGAGCAATATG-1 158          filtered_matrix_1\n",
       "filtered_matrix_1_AAACCTGAGCCACCTG-1 161          filtered_matrix_1\n",
       "filtered_matrix_1_AAACCTGAGGATCGCA-1 168          filtered_matrix_1\n",
       "filtered_matrix_1_AAACCTGAGGCTAGCA-1 166          filtered_matrix_1\n",
       "filtered_matrix_1_AAACCTGCAAGTCTAC-1 164          filtered_matrix_1\n",
       "filtered_matrix_1_AAACCTGCAGAGTGTG-1 152          filtered_matrix_1\n",
       "filtered_matrix_1_AAACCTGCATCAGTCA-1 158          filtered_matrix_1\n",
       "filtered_matrix_1_AAACCTGCATGAACCT-1 156          filtered_matrix_1\n",
       "filtered_matrix_1_AAACCTGCATTTGCCC-1 169          filtered_matrix_1"
      ]
     },
     "metadata": {},
     "output_type": "display_data"
    }
   ],
   "source": [
    "## View metadata the first seurat object\n",
    "head(obj_list[[1]])"
   ]
  },
  {
   "cell_type": "code",
   "execution_count": 16,
   "metadata": {
    "vscode": {
     "languageId": "r"
    }
   },
   "outputs": [
    {
     "name": "stdout",
     "output_type": "stream",
     "text": [
      "Assay (v5) data with 16828 features for 7502 cells\n",
      "First 10 features:\n",
      " AL627309.1, AL669831.5, LINC00115, FAM41C, NOC2L, KLHL17, PLEKHN1,\n",
      "AL645608.8, HES4, ISG15 \n",
      "Layers:\n",
      " counts \n",
      "Assay (v5) data with 8 features for 7502 cells\n",
      "First 8 features:\n",
      " anti-human-Hashtag-1-totalC, anti-human-Hashtag-2-totalC,\n",
      "anti-human-Hashtag-3-totalC, anti-human-Hashtag-4-totalC,\n",
      "anti-human-Hashtag-5-totalC, anti-human-Hashtag-6-totalC,\n",
      "anti-human-Hashtag-7-totalC, anti-human-Hashtag-8-totalC \n",
      "Layers:\n",
      " counts \n",
      "Assay (v5) data with 192 features for 7502 cells\n",
      "First 10 features:\n",
      " anti-human-CD80-totalC, anti-human-CD86-totalC,\n",
      "anti-human-CD274-totalC, anti-human-CD273-totalC,\n",
      "anti-human-CD275-totalC, anti-mouse-human-CD11b-totalC,\n",
      "anti-human-CD252-totalC, anti-human-CD137L-totalC,\n",
      "anti-human-CD155-totalC, anti-human-CD112-totalC \n",
      "Layers:\n",
      " counts \n"
     ]
    }
   ],
   "source": [
    "## View assays in first seurat object\n",
    "for(a in names(obj_list[[1]]@assays)){\n",
    "    print(obj_list[[1]][[a]])}"
   ]
  },
  {
   "cell_type": "markdown",
   "metadata": {
    "vscode": {
     "languageId": "r"
    }
   },
   "source": [
    "## Session Info {.unnumbered}"
   ]
  },
  {
   "cell_type": "code",
   "execution_count": 19,
   "metadata": {
    "vscode": {
     "languageId": "r"
    }
   },
   "outputs": [],
   "source": [
    "## save output of the this session\n",
    "qsave(obj_list, file = \"seurat/1_process/GSE247917_raw.qs\")"
   ]
  },
  {
   "cell_type": "code",
   "execution_count": 20,
   "metadata": {
    "vscode": {
     "languageId": "r"
    }
   },
   "outputs": [
    {
     "data": {
      "text/plain": [
       "R version 4.3.2 (2023-10-31)\n",
       "Platform: x86_64-conda-linux-gnu (64-bit)\n",
       "Running under: Rocky Linux 8.7 (Green Obsidian)\n",
       "\n",
       "Matrix products: default\n",
       "BLAS/LAPACK: /nemo/lab/caladod/working/Matthew/.conda/envs/seurat5/lib/libopenblasp-r0.3.23.so;  LAPACK version 3.11.0\n",
       "\n",
       "locale:\n",
       " [1] LC_CTYPE=en_GB.UTF-8       LC_NUMERIC=C              \n",
       " [3] LC_TIME=en_GB.UTF-8        LC_COLLATE=en_GB.UTF-8    \n",
       " [5] LC_MONETARY=en_GB.UTF-8    LC_MESSAGES=en_GB.UTF-8   \n",
       " [7] LC_PAPER=en_GB.UTF-8       LC_NAME=C                 \n",
       " [9] LC_ADDRESS=C               LC_TELEPHONE=C            \n",
       "[11] LC_MEASUREMENT=en_GB.UTF-8 LC_IDENTIFICATION=C       \n",
       "\n",
       "time zone: Europe/London\n",
       "tzcode source: system (glibc)\n",
       "\n",
       "attached base packages:\n",
       "[1] stats4    grid      stats     graphics  grDevices utils     datasets \n",
       "[8] methods   base     \n",
       "\n",
       "other attached packages:\n",
       " [1] qs_0.26.3                   viridis_0.6.4              \n",
       " [3] viridisLite_0.4.2           ggalluvial_0.12.5          \n",
       " [5] ggnewscale_0.4.9            ggrepel_0.9.4              \n",
       " [7] UCell_2.4.0                 writexl_1.4.2              \n",
       " [9] readxl_1.4.3                wesanderson_0.3.6.9000     \n",
       "[11] ComplexHeatmap_2.16.0       cluster_2.1.4              \n",
       "[13] lmtest_0.9-40               zoo_1.8-12                 \n",
       "[15] binaryLogic_0.3.9           jaccard_0.1.0              \n",
       "[17] RColorBrewer_1.1-3          celda_1.16.1               \n",
       "[19] Matrix_1.6-1                SingleCellExperiment_1.24.0\n",
       "[21] SummarizedExperiment_1.32.0 Biobase_2.62.0             \n",
       "[23] GenomicRanges_1.54.1        GenomeInfoDb_1.38.0        \n",
       "[25] IRanges_2.36.0              S4Vectors_0.40.1           \n",
       "[27] BiocGenerics_0.48.0         MatrixGenerics_1.14.0      \n",
       "[29] matrixStats_1.0.0           ggpubr_0.6.0               \n",
       "[31] rstatix_0.7.2               gridExtra_2.3              \n",
       "[33] scales_1.3.0                clustree_0.5.0             \n",
       "[35] ggraph_2.1.0                cowplot_1.1.1              \n",
       "[37] patchwork_1.2.0             SeuratDisk_0.0.0.9021      \n",
       "[39] tonsilref.SeuratData_2.0.0  pbmcref.SeuratData_1.0.0   \n",
       "[41] pbmc3k.SeuratData_3.1.4     SeuratData_0.2.2.9001      \n",
       "[43] Seurat_5.0.0                SeuratObject_5.0.0         \n",
       "[45] sp_2.1-1                    lubridate_1.9.3            \n",
       "[47] forcats_1.0.0               stringr_1.5.0              \n",
       "[49] dplyr_1.1.4                 purrr_1.0.2                \n",
       "[51] readr_2.1.4                 tidyr_1.3.0                \n",
       "[53] tibble_3.2.1                ggplot2_3.5.1              \n",
       "[55] tidyverse_2.0.0             biomaRt_2.58.0             \n",
       "\n",
       "loaded via a namespace (and not attached):\n",
       "  [1] spatstat.sparse_3.0-3      bitops_1.0-7              \n",
       "  [3] httr_1.4.7                 doParallel_1.0.17         \n",
       "  [5] repr_1.1.6                 tools_4.3.2               \n",
       "  [7] sctransform_0.4.1          backports_1.4.1           \n",
       "  [9] utf8_1.2.4                 R6_2.5.1                  \n",
       " [11] lazyeval_0.2.2             uwot_0.1.16               \n",
       " [13] GetoptLong_1.0.5           withr_2.5.2               \n",
       " [15] prettyunits_1.2.0          progressr_0.14.0          \n",
       " [17] cli_3.6.1                  spatstat.explore_3.2-5    \n",
       " [19] fastDummies_1.7.3          enrichR_3.2               \n",
       " [21] assertive.files_0.0-2      spatstat.data_3.0-3       \n",
       " [23] ggridges_0.5.4             pbapply_1.7-2             \n",
       " [25] pbdZMQ_0.3-9               R.utils_2.12.2            \n",
       " [27] parallelly_1.36.0          WriteXLS_6.4.0            \n",
       " [29] RSQLite_2.3.2              RApiSerialize_0.1.2       \n",
       " [31] shape_1.4.6                gridGraphics_0.5-1        \n",
       " [33] generics_0.1.3             combinat_0.0-8            \n",
       " [35] ica_1.0-3                  spatstat.random_3.2-1     \n",
       " [37] car_3.1-2                  fansi_1.0.5               \n",
       " [39] abind_1.4-5                R.methodsS3_1.8.2         \n",
       " [41] lifecycle_1.0.3            carData_3.0-5             \n",
       " [43] qvalue_2.32.0              SparseArray_1.2.0         \n",
       " [45] BiocFileCache_2.10.1       Rtsne_0.16                \n",
       " [47] blob_1.2.4                 promises_1.2.1            \n",
       " [49] crayon_1.5.2               miniUI_0.1.1.1            \n",
       " [51] lattice_0.21-8             KEGGREST_1.42.0           \n",
       " [53] magick_2.8.1               pillar_1.9.0              \n",
       " [55] rjson_0.2.21               future.apply_1.11.0       \n",
       " [57] codetools_0.2-19           leiden_0.4.3              \n",
       " [59] glue_1.6.2                 data.table_1.14.8         \n",
       " [61] vctrs_0.6.4                png_0.1-8                 \n",
       " [63] spam_2.10-0                cellranger_1.1.0          \n",
       " [65] gtable_0.3.4               cachem_1.0.8              \n",
       " [67] S4Arrays_1.2.0             mime_0.12                 \n",
       " [69] RcppEigen_0.3.3.9.3        tidygraph_1.2.3           \n",
       " [71] survival_3.5-7             iterators_1.0.14          \n",
       " [73] ellipsis_0.3.2             fitdistrplus_1.1-11       \n",
       " [75] ROCR_1.0-11                nlme_3.1-163              \n",
       " [77] bit64_4.0.5                progress_1.2.2            \n",
       " [79] filelock_1.0.2             RcppAnnoy_0.0.21          \n",
       " [81] irlba_2.3.5.1              KernSmooth_2.23-22        \n",
       " [83] colorspace_2.1-0           DBI_1.1.3                 \n",
       " [85] tidyselect_1.2.0           bit_4.0.5                 \n",
       " [87] compiler_4.3.2             curl_5.1.0                \n",
       " [89] BiocNeighbors_1.18.0       hdf5r_1.3.8               \n",
       " [91] assertive.properties_0.0-5 xml2_1.3.5                \n",
       " [93] DelayedArray_0.28.0        plotly_4.10.3             \n",
       " [95] stringfish_0.16.0          rappdirs_0.3.3            \n",
       " [97] digest_0.6.33              goftest_1.2-3             \n",
       " [99] spatstat.utils_3.0-5       XVector_0.42.0            \n",
       "[101] assertive.numbers_0.0-2    htmltools_0.5.6.1         \n",
       "[103] pkgconfig_2.0.3            base64enc_0.1-3           \n",
       "[105] dbplyr_2.4.0               fastmap_1.1.1             \n",
       "[107] GlobalOptions_0.1.2        rlang_1.1.3               \n",
       "[109] htmlwidgets_1.6.2          shiny_1.7.5.1             \n",
       "[111] farver_2.1.1               jsonlite_1.8.7            \n",
       "[113] BiocParallel_1.36.0        R.oo_1.25.0               \n",
       "[115] RCurl_1.98-1.12            magrittr_2.0.3            \n",
       "[117] GenomeInfoDbData_1.2.11    dotCall64_1.1-0           \n",
       "[119] multipanelfigure_2.1.2     IRkernel_1.3.2            \n",
       "[121] munsell_0.5.0              Rcpp_1.0.11               \n",
       "[123] reticulate_1.34.0          assertive.base_0.0-9      \n",
       "[125] stringi_1.7.12             MCMCprecision_0.4.0       \n",
       "[127] zlibbioc_1.48.0            MASS_7.3-60               \n",
       "[129] plyr_1.8.9                 parallel_4.3.2            \n",
       "[131] listenv_0.9.0              deldir_1.0-9              \n",
       "[133] Biostrings_2.70.1          graphlayouts_1.0.0        \n",
       "[135] IRdisplay_1.1              splines_4.3.2             \n",
       "[137] tensor_1.5                 circlize_0.4.15           \n",
       "[139] hms_1.1.3                  igraph_1.5.1              \n",
       "[141] uuid_1.1-1                 spatstat.geom_3.2-7       \n",
       "[143] ggsignif_0.6.4             RcppHNSW_0.5.0            \n",
       "[145] reshape2_1.4.4             XML_3.99-0.14             \n",
       "[147] evaluate_0.23              RcppParallel_5.1.7        \n",
       "[149] tzdb_0.4.0                 foreach_1.5.2             \n",
       "[151] tweenr_2.0.2               httpuv_1.6.12             \n",
       "[153] RANN_2.6.1                 polyclip_1.10-6           \n",
       "[155] clue_0.3-64                future_1.33.0             \n",
       "[157] scattermore_1.2            ggforce_0.4.1             \n",
       "[159] assertive.types_0.0-3      broom_1.0.5               \n",
       "[161] xtable_1.8-4               RSpectra_0.16-1           \n",
       "[163] later_1.3.1                memoise_2.0.1             \n",
       "[165] AnnotationDbi_1.64.0       timechange_0.2.0          \n",
       "[167] globals_0.16.2            "
      ]
     },
     "metadata": {},
     "output_type": "display_data"
    }
   ],
   "source": [
    "sessionInfo()"
   ]
  },
  {
   "cell_type": "code",
   "execution_count": null,
   "metadata": {
    "vscode": {
     "languageId": "r"
    }
   },
   "outputs": [],
   "source": []
  }
 ],
 "metadata": {
  "kernelspec": {
   "display_name": "R",
   "language": "R",
   "name": "ir"
  },
  "language_info": {
   "codemirror_mode": "r",
   "file_extension": ".r",
   "mimetype": "text/x-r-source",
   "name": "R",
   "pygments_lexer": "r",
   "version": "4.3.2"
  }
 },
 "nbformat": 4,
 "nbformat_minor": 2
}
