{
  "cells": [
    {
      "cell_type": "raw",
      "metadata": {},
      "source": [
        "---\n",
        "title: Data Description\n",
        "author: \n",
        "    - name: \"Matthew Hung\"\n",
        "date: last-modified\n",
        "date-format: iso\n",
        "format:\n",
        "    html:\n",
        "        toc: true\n",
        "        toc-expand: 1\n",
        "---"
      ]
    },
    {
      "cell_type": "markdown",
      "metadata": {},
      "source": [
        "## GSE247917 {.unnumbered}\n",
        "\n",
        "### *Raw Data & Description* {.unnumbered}\n",
        "We have downloaded single cell omic data from 2 sequencing runs CV10, CV12 [[PRJNA1040899](https://www.ncbi.nlm.nih.gov/bioproject/PRJNA1040899), [PRJNA1040899](https://www.ncbi.nlm.nih.gov/bioproject/PRJNA1040899)] from the GEO Omnibus Acession Number [[GSE247917]](https://www.ncbi.nlm.nih.gov/geo/query/acc.cgi?acc=GSE155224). The dataset comprises of PBMCs taken from donors at different timepoints after receiving Sars-CoV-2 vaccinations (CV10) and/or boosters (CV12). Single cells from different donors were hashtagged ([see Cell Hashing by 10X](https://www.10xgenomics.com/analysis-guides/demultiplexing-and-analyzing-5%E2%80%99-immune-profiling-libraries-pooled-with-hashtags)) pooled and CITEseq staining was performed to stain for several immune lineages. GEX, VDJ-T/B, HTO and ADT libraries were sequenced with 10X sequencing platform.\n",
        "\n",
        "### *Processed Data* {.unnumbered}"
      ]
    }
  ],
  "metadata": {
    "kernelspec": {
      "display_name": "Python 3 (ipykernel)",
      "language": "python",
      "name": "python3"
    }
  },
  "nbformat": 4,
  "nbformat_minor": 4
}
