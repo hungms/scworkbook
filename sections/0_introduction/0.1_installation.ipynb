{
 "cells": [
  {
   "cell_type": "raw",
   "metadata": {},
   "source": [
    "---\n",
    "title: Installation\n",
    "author: \n",
    "    - name: \"Matthew Hung\"\n",
    "date: last-modified\n",
    "format:\n",
    "    html:\n",
    "        toc: true\n",
    "        toc-expand: 1\n",
    "        number-sections: true\n",
    "        number-offset: 3\n",
    "---"
   ]
  },
  {
   "cell_type": "markdown",
   "metadata": {},
   "source": [
    "## scUnify"
   ]
  },
  {
   "cell_type": "code",
   "execution_count": null,
   "metadata": {
    "vscode": {
     "languageId": "r"
    }
   },
   "outputs": [],
   "source": [
    "if (!require(\"devtools\", quietly = TRUE))\n",
    "    install.packages(\"devtools\")\n",
    "remotes::install_github(\"hungms/scUnify\")"
   ]
  },
  {
   "cell_type": "markdown",
   "metadata": {},
   "source": [
    "## Dependencies"
   ]
  },
  {
   "cell_type": "code",
   "execution_count": null,
   "metadata": {
    "vscode": {
     "languageId": "r"
    }
   },
   "outputs": [],
   "source": [
    "### Install CRAN packages\n",
    "options(timeout = 500)\n",
    "cran <- c(\n",
    "    \"tidyverse\", \"ggrepel\", \"patchwork\", \"cowplot\", \"scales\", \"ggh4x\",\n",
    "    \"grid\", \"gridExtra\", \"viridis\", \"wesanderson\", \"RColorBrewer\", \"qs\", \n",
    "    \"readxl\", \"writexl\", \"rstatix\", \"ggpubr\", \"Seurat\", \"harmony\", \"dsb\", \n",
    "    \"reticulate\", \"clustree\")\n",
    "install.packages(cran)\n",
    "\n",
    "### Install Bioconductor packages\n",
    "bioc <- c(\"biomaRt\", \"BiocParallel\", \"UCell\", \"celda\", \"scDblFinder\", \"ComplexHeatmap\")\n",
    "if (!require(\"BiocManager\", quietly = TRUE))\n",
    "    install.packages(\"BiocManager\")\n",
    "BiocManager::install(bioc)\n",
    "\n",
    "### Install Github packages\n",
    "git <- c(\"chris-mcginnis-ucsf/DoubletFinder\", \"hungms/MuDataSeurat\")\n",
    "if (!require(\"devtools\", quietly = TRUE))\n",
    "    install.packages(\"devtools\")\n",
    "devtools::install_github(git)"
   ]
  }
 ],
 "metadata": {
  "kernelspec": {
   "display_name": "R",
   "language": "R",
   "name": "ir"
  }
 },
 "nbformat": 4,
 "nbformat_minor": 4
}
